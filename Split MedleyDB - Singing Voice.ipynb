{
 "cells": [
  {
   "cell_type": "markdown",
   "metadata": {},
   "source": [
    "# Split MedleyDB \n",
    "\n",
    "This notebook was created to split the MedleyDB dataset into train and test sets using only the multitracks containing vocal melodies.\n",
    "\n",
    "I used medleydb api to manipulate the files and build the subsets. \n",
    "The principal dependency is:\n",
    "\n",
    " - MedleyDB api: [https://github.com/marl/medleydb]"
   ]
  },
  {
   "cell_type": "code",
   "execution_count": 1,
   "metadata": {
    "collapsed": false
   },
   "outputs": [
    {
     "name": "stderr",
     "output_type": "stream",
     "text": [
      "/usr/local/lib/python3.5/dist-packages/medleydb/__init__.py:28: UserWarning: The environment variable MEDLEYDB_PATH is not set. As a result, any part of the code that requires the audio won't work. If you don't need to access the audio, disregard this warning. If you do, set the environment variable MEDLEYDB_PATH to your local copy of MedleyDB.\n",
      "  UserWarning\n"
     ]
    }
   ],
   "source": [
    "import medleydb as mdb\n",
    "\n",
    "# Load all multitracks\n",
    "mtrack_generator = mdb.load_all_multitracks()\n",
    "\n",
    "all_tracks_id = [mtrack.track_id for mtrack in mtrack_generator]"
   ]
  },
  {
   "cell_type": "code",
   "execution_count": 2,
   "metadata": {
    "collapsed": false,
    "scrolled": true
   },
   "outputs": [
    {
     "name": "stdout",
     "output_type": "stream",
     "text": [
      "{'cello', 'bongo', 'male singer', 'fx/processed sound', 'synthesizer', 'bass clarinet', 'string section', 'tack piano', 'alto saxophone', 'male rapper', 'clarinet', 'choir', 'accordion', 'bassoon', 'guiro', 'tuba', 'piccolo', 'yangqin', 'cymbal', 'cabasa', 'euphonium', 'ukulele', 'timpani', 'trumpet section', 'male screamer', 'maracas', 'violin', 'piano', 'shaker', 'triangle', 'bagpipe', 'female speaker', 'tenor saxophone', 'electronic organ', 'dulcimer', 'bass drum', 'clarinet section', 'sitar', 'flute', 'tabla', 'theremin', 'beatboxing', 'acoustic guitar', 'sampler', 'oboe', 'bandoneon', 'oud', 'cowbell', 'dizi', 'chimes', 'conga', 'whistle', 'double bass', 'gu', 'harp', 'drum set', 'lap steel guitar', 'claps', 'high hat', 'vocalists', 'female screamer', 'zhongruan', 'panpipes', 'recorder', 'mandolin', 'snare drum', 'harpsichord', 'cello section', 'drum machine', 'trombone section', 'toms', 'banjo', 'flute section', 'male speaker', 'harmonium', 'clean electric guitar', 'horn section', 'baritone saxophone', 'electric bass', 'female rapper', 'castanet', 'trombone', 'cornet', 'bamboo flute', 'soprano saxophone', 'female singer', 'erhu', 'sleigh bells', 'melodica', 'auxiliary percussion', 'snaps', 'Unlabeled', 'electric piano', 'gong', 'viola section', 'dilruba', 'glockenspiel', 'darbuka', 'doumbek', 'trumpet', 'violin section', 'french horn section', 'viola', 'xylophone', 'guzheng', 'kick drum', 'brass section', 'scratches', 'harmonica', 'Main System', 'crowd', 'tambourine', 'french horn', 'pipe organ', 'slide guitar', 'rattle', 'english horn', 'liuqin', 'concertina', 'vibraphone', 'marimba', 'distorted electric guitar'}\n"
     ]
    }
   ],
   "source": [
    "# get all valid instrument labels\n",
    "instruments = mdb.get_valid_instrument_labels()\n",
    "print (instruments)"
   ]
  },
  {
   "cell_type": "code",
   "execution_count": 3,
   "metadata": {
    "collapsed": false
   },
   "outputs": [
    {
     "name": "stdout",
     "output_type": "stream",
     "text": [
      "['female singer']\n"
     ]
    }
   ],
   "source": [
    "mtrack1 = mdb.MultiTrack('LizNelson_Rainfall')\n",
    "print (mtrack1.melody_stems()[0].instrument)"
   ]
  },
  {
   "cell_type": "code",
   "execution_count": 4,
   "metadata": {
    "collapsed": false
   },
   "outputs": [
    {
     "name": "stdout",
     "output_type": "stream",
     "text": [
      "== List of musics with singing voice ==\n",
      "AClassicEducation_NightOwl\n",
      "AimeeNorwich_Child\n",
      "AlexanderRoss_GoodbyeBolero\n",
      "AlexanderRoss_VelvetCurtain\n",
      "Auctioneer_OurFutureFaces\n",
      "AvaLuna_Waterduct\n",
      "BigTroubles_Phantom\n",
      "BrandonWebster_DontHearAThing\n",
      "BrandonWebster_YesSirICanFly\n",
      "CelestialShore_DieForUs\n",
      "ClaraBerryAndWooldog_AirTraffic\n",
      "ClaraBerryAndWooldog_Boys\n",
      "ClaraBerryAndWooldog_Stella\n",
      "ClaraBerryAndWooldog_TheBadGuys\n",
      "ClaraBerryAndWooldog_WaltzForMyVictims\n",
      "Creepoid_OldTree\n",
      "Debussy_LenfantProdigue\n",
      "DreamersOfTheGhetto_HeavyLove\n",
      "FacesOnFilm_WaitingForGa\n",
      "FamilyBand_Again\n",
      "Handel_TornamiAVagheggiar\n",
      "HeladoNegro_MitadDelMundo\n",
      "HezekiahJones_BorrowedHeart\n",
      "HopAlong_SisterCities\n",
      "InvisibleFamiliars_DisturbingWildlife\n",
      "LizNelson_Coldwar\n",
      "LizNelson_ImComingHome\n",
      "LizNelson_Rainfall\n",
      "MatthewEntwistle_DontYouEver\n",
      "MatthewEntwistle_Lontano\n",
      "Meaxic_TakeAStep\n",
      "Meaxic_YouListen\n",
      "Mozart_BesterJungling\n",
      "Mozart_DiesBildnis\n",
      "MusicDelta_80sRock\n",
      "MusicDelta_Beatles\n",
      "MusicDelta_Britpop\n",
      "MusicDelta_Country1\n",
      "MusicDelta_Country2\n",
      "MusicDelta_Disco\n",
      "MusicDelta_Gospel\n",
      "MusicDelta_Grunge\n",
      "MusicDelta_Hendrix\n",
      "MusicDelta_Punk\n",
      "MusicDelta_Reggae\n",
      "MusicDelta_Rock\n",
      "MusicDelta_Rockabilly\n",
      "NightPanther_Fire\n",
      "PortStWillow_StayEven\n",
      "PurlingHiss_Lolita\n",
      "Schubert_Erstarrung\n",
      "Schumann_Mignon\n",
      "SecretMountains_HighHorse\n",
      "Snowmine_Curfews\n",
      "StevenClark_Bounty\n",
      "StrandOfOaks_Spacestation\n",
      "SweetLights_YouLetMeDown\n",
      "TheDistricts_Vermont\n",
      "TheScarletBrand_LesFleursDuMal\n",
      "TheSoSoGlos_Emergency\n",
      "Wolf_DieBekherte\n"
     ]
    }
   ],
   "source": [
    "# A not clean and not beautiful way to find vocal music\n",
    "print ('== List of musics with singing voice ==')\n",
    "vocal_tracks_id = []\n",
    "for music in all_tracks_id:\n",
    "    mtrack = mdb.MultiTrack(music)\n",
    "    stems = [melodics.instrument for melodics in mtrack.melody_stems()]\n",
    "    search_for = ['female singer', 'male singer', 'vocalists', 'choir']\n",
    "    inters = [list(filter(lambda x: x in search_for, sublist)) for sublist in stems]\n",
    "    #print (inters)\n",
    "    has = [element for element in inters if element != []]\n",
    "    if len(has) > 0:\n",
    "        vocal_tracks_id.append(music)\n",
    "        print (music)"
   ]
  },
  {
   "cell_type": "code",
   "execution_count": 5,
   "metadata": {
    "collapsed": false
   },
   "outputs": [
    {
     "name": "stdout",
     "output_type": "stream",
     "text": [
      "MedleyDB has 122 multitracks files, 61 have singing voice.\n"
     ]
    }
   ],
   "source": [
    "print (\"MedleyDB has\", len(all_tracks_id), \"multitracks files,\", len(vocal_tracks_id), \"have singing voice.\")"
   ]
  },
  {
   "cell_type": "markdown",
   "metadata": {},
   "source": [
    "### Split into train and test sets"
   ]
  },
  {
   "cell_type": "code",
   "execution_count": 6,
   "metadata": {
    "collapsed": true
   },
   "outputs": [],
   "source": [
    "vocal_split = mdb.utils.artist_conditional_split(trackid_list=vocal_tracks_id, test_size=0.20, \\\n",
    "                                                 num_splits=1,random_state=8526325)"
   ]
  },
  {
   "cell_type": "code",
   "execution_count": 7,
   "metadata": {
    "collapsed": false
   },
   "outputs": [
    {
     "name": "stdout",
     "output_type": "stream",
     "text": [
      "['AClassicEducation_NightOwl', 'AimeeNorwich_Child', 'AlexanderRoss_GoodbyeBolero', 'AlexanderRoss_VelvetCurtain', 'Auctioneer_OurFutureFaces', 'AvaLuna_Waterduct', 'BigTroubles_Phantom', 'BrandonWebster_DontHearAThing', 'BrandonWebster_YesSirICanFly', 'ClaraBerryAndWooldog_AirTraffic', 'ClaraBerryAndWooldog_Boys', 'ClaraBerryAndWooldog_Stella', 'ClaraBerryAndWooldog_TheBadGuys', 'ClaraBerryAndWooldog_WaltzForMyVictims', 'Creepoid_OldTree', 'Debussy_LenfantProdigue', 'DreamersOfTheGhetto_HeavyLove', 'FacesOnFilm_WaitingForGa', 'FamilyBand_Again', 'Handel_TornamiAVagheggiar', 'HeladoNegro_MitadDelMundo', 'HezekiahJones_BorrowedHeart', 'HopAlong_SisterCities', 'LizNelson_Coldwar', 'LizNelson_ImComingHome', 'LizNelson_Rainfall', 'MatthewEntwistle_DontYouEver', 'MatthewEntwistle_Lontano', 'Meaxic_TakeAStep', 'Meaxic_YouListen', 'Mozart_BesterJungling', 'Mozart_DiesBildnis', 'MusicDelta_80sRock', 'MusicDelta_Beatles', 'MusicDelta_Britpop', 'MusicDelta_Disco', 'MusicDelta_Grunge', 'MusicDelta_Hendrix', 'MusicDelta_Punk', 'MusicDelta_Reggae', 'MusicDelta_Rockabilly', 'NightPanther_Fire', 'PurlingHiss_Lolita', 'Schubert_Erstarrung', 'Schumann_Mignon', 'SecretMountains_HighHorse', 'StevenClark_Bounty', 'TheDistricts_Vermont', 'TheScarletBrand_LesFleursDuMal', 'TheSoSoGlos_Emergency', 'Wolf_DieBekherte'] \n",
      "There are 51 songs on train set\n"
     ]
    }
   ],
   "source": [
    "print(vocal_split[0]['train'], \"\\nThere are\", len(vocal_split[0]['train']), \"songs on train set\")"
   ]
  },
  {
   "cell_type": "code",
   "execution_count": 8,
   "metadata": {
    "collapsed": false
   },
   "outputs": [
    {
     "name": "stdout",
     "output_type": "stream",
     "text": [
      "['CelestialShore_DieForUs', 'InvisibleFamiliars_DisturbingWildlife', 'MusicDelta_Country1', 'MusicDelta_Country2', 'MusicDelta_Gospel', 'MusicDelta_Rock', 'PortStWillow_StayEven', 'Snowmine_Curfews', 'StrandOfOaks_Spacestation', 'SweetLights_YouLetMeDown'] \n",
      "There are 10 songs on test set\n"
     ]
    }
   ],
   "source": [
    "print(vocal_split[0]['test'], \"\\nThere are\", len(vocal_split[0]['test']), \"songs on test set\")"
   ]
  },
  {
   "cell_type": "markdown",
   "metadata": {
    "collapsed": true
   },
   "source": [
    "### Split train into train/validation set"
   ]
  },
  {
   "cell_type": "code",
   "execution_count": 9,
   "metadata": {
    "collapsed": true
   },
   "outputs": [],
   "source": [
    "vocal_train_split = mdb.utils.artist_conditional_split(trackid_list=vocal_split[0]['train'], test_size=0.20, \\\n",
    "                                                       num_splits=1,random_state=8526325)"
   ]
  },
  {
   "cell_type": "code",
   "execution_count": 10,
   "metadata": {
    "collapsed": false
   },
   "outputs": [
    {
     "name": "stdout",
     "output_type": "stream",
     "text": [
      "There are 38 songs on train set and 13 songs on validation set\n"
     ]
    }
   ],
   "source": [
    "print (\"There are\", len(vocal_train_split[0]['train']), \"songs on train set and\",\\\n",
    "       len(vocal_train_split[0]['test']), \"songs on validation set\")"
   ]
  },
  {
   "cell_type": "code",
   "execution_count": 11,
   "metadata": {
    "collapsed": false
   },
   "outputs": [],
   "source": [
    "vocal_train_split[0]['validation'] = vocal_train_split[0].pop('test')"
   ]
  },
  {
   "cell_type": "code",
   "execution_count": 12,
   "metadata": {
    "collapsed": false
   },
   "outputs": [],
   "source": [
    "vocal_train_split[0]['test'] = vocal_split[0]['test']"
   ]
  },
  {
   "cell_type": "code",
   "execution_count": 13,
   "metadata": {
    "collapsed": true
   },
   "outputs": [],
   "source": [
    "import json\n",
    "with open('split_voiced_medleydb.json', 'w') as outfile:\n",
    "    json.dump(vocal_train_split[0], outfile)"
   ]
  },
  {
   "cell_type": "code",
   "execution_count": null,
   "metadata": {
    "collapsed": true
   },
   "outputs": [],
   "source": []
  }
 ],
 "metadata": {
  "kernelspec": {
   "display_name": "Python 3",
   "language": "python",
   "name": "python3"
  },
  "language_info": {
   "codemirror_mode": {
    "name": "ipython",
    "version": 3
   },
   "file_extension": ".py",
   "mimetype": "text/x-python",
   "name": "python",
   "nbconvert_exporter": "python",
   "pygments_lexer": "ipython3",
   "version": "3.5.3"
  }
 },
 "nbformat": 4,
 "nbformat_minor": 2
}
