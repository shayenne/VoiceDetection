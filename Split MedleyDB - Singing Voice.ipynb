{
 "cells": [
  {
   "cell_type": "markdown",
   "metadata": {},
   "source": [
    "# Split MedleyDB \n",
    "\n",
    "This notebook was created to split the MedleyDB dataset into train and test sets using only the multitracks containing vocal melodies.\n",
    "\n",
    "I used medleydb api to manipulate the files and build the subsets. \n",
    "The principal dependency is:\n",
    "\n",
    " - MedleyDB api: [https://github.com/marl/medleydb]"
   ]
  },
  {
   "cell_type": "code",
   "execution_count": 1,
   "metadata": {},
   "outputs": [
    {
     "name": "stderr",
     "output_type": "stream",
     "text": [
      "/home/compmus/anaconda3/lib/python3.6/site-packages/medleydb/__init__.py:94: UserWarning: The medleydb audio was not found at the expected path: None This module will still function, but without the ability to access any of the audio.\n",
      "  UserWarning\n"
     ]
    }
   ],
   "source": [
    "import medleydb as mdb\n",
    "\n",
    "# Load all multitracks\n",
    "mtrack_generator = mdb.load_all_multitracks()\n",
    "\n",
    "all_tracks_id = [mtrack.track_id for mtrack in mtrack_generator]"
   ]
  },
  {
   "cell_type": "code",
   "execution_count": 2,
   "metadata": {
    "scrolled": true
   },
   "outputs": [
    {
     "name": "stdout",
     "output_type": "stream",
     "text": [
      "{'cello section', 'bongo', 'liuqin', 'horn section', 'vibraphone', 'kick drum', 'dilruba', 'bamboo flute', 'double bass', 'claps', 'sitar', 'electric piano', 'french horn', 'alto saxophone', 'trumpet', 'darbuka', 'bassoon', 'doumbek', 'zhongruan', 'trombone', 'electronic organ', 'theremin', 'marimba', 'melodica', 'violin', 'tack piano', 'bass clarinet', 'glockenspiel', 'choir', 'female rapper', 'drum machine', 'cabasa', 'dulcimer', 'Main System', 'string section', 'yangqin', 'beatboxing', 'chimes', 'violin section', 'female speaker', 'tambourine', 'cornet', 'tuba', 'guzheng', 'auxiliary percussion', 'mandolin', 'euphonium', 'gu', 'guiro', 'slide guitar', 'fx/processed sound', 'bagpipe', 'electric bass', 'piccolo', 'synthesizer', 'shaker', 'lap steel guitar', 'maracas', 'xylophone', 'tenor saxophone', 'harmonium', 'ukulele', 'erhu', 'viola', 'conga', 'male screamer', 'pipe organ', 'Unlabeled', 'panpipes', 'harp', 'french horn section', 'bandoneon', 'cello', 'female screamer', 'bass drum', 'timpani', 'clarinet', 'snaps', 'baritone saxophone', 'snare drum', 'trombone section', 'brass section', 'clarinet section', 'triangle', 'castanet', 'oud', 'male rapper', 'acoustic guitar', 'concertina', 'flute', 'whistle', 'tabla', 'distorted electric guitar', 'sampler', 'accordion', 'trumpet section', 'crowd', 'sleigh bells', 'vocalists', 'female singer', 'rattle', 'clean electric guitar', 'viola section', 'male singer', 'soprano saxophone', 'toms', 'piano', 'high hat', 'scratches', 'cowbell', 'male speaker', 'cymbal', 'oboe', 'dizi', 'banjo', 'harpsichord', 'recorder', 'harmonica', 'gong', 'english horn', 'drum set', 'flute section'}\n"
     ]
    }
   ],
   "source": [
    "# get all valid instrument labels\n",
    "instruments = mdb.get_valid_instrument_labels()\n",
    "print (instruments)"
   ]
  },
  {
   "cell_type": "code",
   "execution_count": 3,
   "metadata": {},
   "outputs": [
    {
     "name": "stdout",
     "output_type": "stream",
     "text": [
      "['female singer']\n"
     ]
    }
   ],
   "source": [
    "mtrack1 = mdb.MultiTrack('LizNelson_Rainfall')\n",
    "print (mtrack1.melody_stems()[0].instrument)"
   ]
  },
  {
   "cell_type": "code",
   "execution_count": 4,
   "metadata": {},
   "outputs": [
    {
     "name": "stdout",
     "output_type": "stream",
     "text": [
      "== List of musics with singing voice ==\n",
      "AClassicEducation_NightOwl\n",
      "AimeeNorwich_Child\n",
      "AlexanderRoss_GoodbyeBolero\n",
      "AlexanderRoss_VelvetCurtain\n",
      "Auctioneer_OurFutureFaces\n",
      "AvaLuna_Waterduct\n",
      "BigTroubles_Phantom\n",
      "BrandonWebster_DontHearAThing\n",
      "BrandonWebster_YesSirICanFly\n",
      "CelestialShore_DieForUs\n",
      "ClaraBerryAndWooldog_AirTraffic\n",
      "ClaraBerryAndWooldog_Boys\n",
      "ClaraBerryAndWooldog_Stella\n",
      "ClaraBerryAndWooldog_TheBadGuys\n",
      "ClaraBerryAndWooldog_WaltzForMyVictims\n",
      "Creepoid_OldTree\n",
      "Debussy_LenfantProdigue\n",
      "DreamersOfTheGhetto_HeavyLove\n",
      "FacesOnFilm_WaitingForGa\n",
      "FamilyBand_Again\n",
      "Handel_TornamiAVagheggiar\n",
      "HeladoNegro_MitadDelMundo\n",
      "HezekiahJones_BorrowedHeart\n",
      "HopAlong_SisterCities\n",
      "InvisibleFamiliars_DisturbingWildlife\n",
      "LizNelson_Coldwar\n",
      "LizNelson_ImComingHome\n",
      "LizNelson_Rainfall\n",
      "MatthewEntwistle_DontYouEver\n",
      "MatthewEntwistle_Lontano\n",
      "Meaxic_TakeAStep\n",
      "Meaxic_YouListen\n",
      "Mozart_BesterJungling\n",
      "Mozart_DiesBildnis\n",
      "MusicDelta_80sRock\n",
      "MusicDelta_Beatles\n",
      "MusicDelta_Britpop\n",
      "MusicDelta_Country1\n",
      "MusicDelta_Country2\n",
      "MusicDelta_Disco\n",
      "MusicDelta_Gospel\n",
      "MusicDelta_Grunge\n",
      "MusicDelta_Hendrix\n",
      "MusicDelta_Punk\n",
      "MusicDelta_Reggae\n",
      "MusicDelta_Rock\n",
      "MusicDelta_Rockabilly\n",
      "NightPanther_Fire\n",
      "PortStWillow_StayEven\n",
      "PurlingHiss_Lolita\n",
      "Schubert_Erstarrung\n",
      "Schumann_Mignon\n",
      "SecretMountains_HighHorse\n",
      "Snowmine_Curfews\n",
      "StevenClark_Bounty\n",
      "StrandOfOaks_Spacestation\n",
      "SweetLights_YouLetMeDown\n",
      "TheDistricts_Vermont\n",
      "TheScarletBrand_LesFleursDuMal\n",
      "TheSoSoGlos_Emergency\n",
      "Wolf_DieBekherte\n"
     ]
    }
   ],
   "source": [
    "# A not clean and not beautiful way to find vocal music\n",
    "print ('== List of musics with singing voice ==')\n",
    "vocal_tracks_id = []\n",
    "for music in all_tracks_id:\n",
    "    mtrack = mdb.MultiTrack(music)\n",
    "    stems = [melodics.instrument for melodics in mtrack.melody_stems()]\n",
    "    search_for = ['female singer', 'male singer', 'vocalists', 'choir']\n",
    "    inters = [list(filter(lambda x: x in search_for, sublist)) for sublist in stems]\n",
    "    #print (inters)\n",
    "    has = [element for element in inters if element != []]\n",
    "    if len(has) > 0:\n",
    "        vocal_tracks_id.append(music)\n",
    "        print (music)"
   ]
  },
  {
   "cell_type": "code",
   "execution_count": 5,
   "metadata": {},
   "outputs": [
    {
     "data": {
      "text/plain": [
       "122"
      ]
     },
     "execution_count": 5,
     "metadata": {},
     "output_type": "execute_result"
    }
   ],
   "source": [
    "len(all_tracks_id)"
   ]
  },
  {
   "cell_type": "code",
   "execution_count": 6,
   "metadata": {},
   "outputs": [
    {
     "data": {
      "text/plain": [
       "61"
      ]
     },
     "execution_count": 6,
     "metadata": {},
     "output_type": "execute_result"
    }
   ],
   "source": [
    "len(vocal_tracks_id)"
   ]
  },
  {
   "cell_type": "code",
   "execution_count": 7,
   "metadata": {
    "collapsed": true
   },
   "outputs": [],
   "source": [
    "vocal_split = mdb.utils.artist_conditional_split(trackid_list=vocal_tracks_id, test_size=0.20, num_splits=1,random_state=8526325)"
   ]
  },
  {
   "cell_type": "code",
   "execution_count": 8,
   "metadata": {},
   "outputs": [
    {
     "name": "stdout",
     "output_type": "stream",
     "text": [
      "['AClassicEducation_NightOwl', 'AimeeNorwich_Child', 'AlexanderRoss_GoodbyeBolero', 'AlexanderRoss_VelvetCurtain', 'Auctioneer_OurFutureFaces', 'AvaLuna_Waterduct', 'BigTroubles_Phantom', 'BrandonWebster_DontHearAThing', 'BrandonWebster_YesSirICanFly', 'ClaraBerryAndWooldog_AirTraffic', 'ClaraBerryAndWooldog_Boys', 'ClaraBerryAndWooldog_Stella', 'ClaraBerryAndWooldog_TheBadGuys', 'ClaraBerryAndWooldog_WaltzForMyVictims', 'Creepoid_OldTree', 'Debussy_LenfantProdigue', 'DreamersOfTheGhetto_HeavyLove', 'FacesOnFilm_WaitingForGa', 'FamilyBand_Again', 'Handel_TornamiAVagheggiar', 'HeladoNegro_MitadDelMundo', 'HezekiahJones_BorrowedHeart', 'HopAlong_SisterCities', 'LizNelson_Coldwar', 'LizNelson_ImComingHome', 'LizNelson_Rainfall', 'MatthewEntwistle_DontYouEver', 'MatthewEntwistle_Lontano', 'Meaxic_TakeAStep', 'Meaxic_YouListen', 'Mozart_BesterJungling', 'Mozart_DiesBildnis', 'MusicDelta_80sRock', 'MusicDelta_Beatles', 'MusicDelta_Britpop', 'MusicDelta_Disco', 'MusicDelta_Grunge', 'MusicDelta_Hendrix', 'MusicDelta_Punk', 'MusicDelta_Reggae', 'MusicDelta_Rockabilly', 'NightPanther_Fire', 'PurlingHiss_Lolita', 'Schubert_Erstarrung', 'Schumann_Mignon', 'SecretMountains_HighHorse', 'StevenClark_Bounty', 'TheDistricts_Vermont', 'TheScarletBrand_LesFleursDuMal', 'TheSoSoGlos_Emergency', 'Wolf_DieBekherte']\n"
     ]
    }
   ],
   "source": [
    "print(vocal_split[0]['train'])"
   ]
  },
  {
   "cell_type": "code",
   "execution_count": 9,
   "metadata": {},
   "outputs": [
    {
     "name": "stdout",
     "output_type": "stream",
     "text": [
      "['CelestialShore_DieForUs', 'InvisibleFamiliars_DisturbingWildlife', 'MusicDelta_Country1', 'MusicDelta_Country2', 'MusicDelta_Gospel', 'MusicDelta_Rock', 'PortStWillow_StayEven', 'Snowmine_Curfews', 'StrandOfOaks_Spacestation', 'SweetLights_YouLetMeDown']\n"
     ]
    }
   ],
   "source": [
    "print(vocal_split[0]['test'])"
   ]
  },
  {
   "cell_type": "markdown",
   "metadata": {},
   "source": [
    "## Concatenate musics without singing voice with the subsets with singing voice."
   ]
  },
  {
   "cell_type": "code",
   "execution_count": 10,
   "metadata": {},
   "outputs": [
    {
     "data": {
      "text/plain": [
       "['AimeeNorwich_Flying',\n",
       " 'AmarLal_Rest',\n",
       " 'AmarLal_SpringDay1',\n",
       " 'ChrisJacoby_BoothShotLincoln',\n",
       " 'ChrisJacoby_PigsFoot',\n",
       " 'CroqueMadame_Oil',\n",
       " 'CroqueMadame_Pilot',\n",
       " 'EthanHein_1930sSynthAndUprightBass',\n",
       " 'EthanHein_BluesForNofi',\n",
       " 'EthanHein_GirlOnABridge',\n",
       " 'EthanHein_HarmonicaFigure',\n",
       " 'Grants_PunchDrunk',\n",
       " 'JoelHelander_Definition',\n",
       " 'JoelHelander_ExcessiveResistancetoChange',\n",
       " 'JoelHelander_IntheAtticBedroom',\n",
       " 'KarimDouaidy_Hopscotch',\n",
       " 'KarimDouaidy_Yatora',\n",
       " 'Lushlife_ToynbeeSuite',\n",
       " 'MatthewEntwistle_AnEveningWithOliver',\n",
       " 'MatthewEntwistle_FairerHopes',\n",
       " 'MatthewEntwistle_ImpressionsOfSaturn',\n",
       " 'MatthewEntwistle_TheArch',\n",
       " 'MatthewEntwistle_TheFlaxenField',\n",
       " 'MichaelKropf_AllGoodThings',\n",
       " 'MusicDelta_BebopJazz',\n",
       " 'MusicDelta_Beethoven',\n",
       " 'MusicDelta_ChineseChaoZhou',\n",
       " 'MusicDelta_ChineseDrama',\n",
       " 'MusicDelta_ChineseHenan',\n",
       " 'MusicDelta_ChineseJiangNan',\n",
       " 'MusicDelta_ChineseXinJing',\n",
       " 'MusicDelta_ChineseYaoZu',\n",
       " 'MusicDelta_CoolJazz',\n",
       " 'MusicDelta_FreeJazz',\n",
       " 'MusicDelta_FunkJazz',\n",
       " 'MusicDelta_FusionJazz',\n",
       " 'MusicDelta_GriegTrolltog',\n",
       " 'MusicDelta_InTheHalloftheMountainKing',\n",
       " 'MusicDelta_LatinJazz',\n",
       " 'MusicDelta_ModalJazz',\n",
       " 'MusicDelta_Pachelbel',\n",
       " 'MusicDelta_Shadows',\n",
       " 'MusicDelta_SpeedMetal',\n",
       " 'MusicDelta_SwingJazz',\n",
       " 'MusicDelta_Vivaldi',\n",
       " 'MusicDelta_Zeppelin',\n",
       " 'Phoenix_BrokenPledgeChicagoReel',\n",
       " 'Phoenix_ColliersDaughter',\n",
       " 'Phoenix_ElzicsFarewell',\n",
       " 'Phoenix_LarkOnTheStrandDrummondCastle',\n",
       " 'Phoenix_ScotchMorris',\n",
       " 'Phoenix_SeanCaughlinsTheScartaglen',\n",
       " 'TablaBreakbeatScience_Animoog',\n",
       " 'TablaBreakbeatScience_CaptainSky',\n",
       " 'TablaBreakbeatScience_MiloVsMongo',\n",
       " 'TablaBreakbeatScience_MoodyPlucks',\n",
       " 'TablaBreakbeatScience_PhaseTransition',\n",
       " 'TablaBreakbeatScience_RockSteady',\n",
       " 'TablaBreakbeatScience_Scorpio',\n",
       " 'TablaBreakbeatScience_Vger',\n",
       " 'TablaBreakbeatScience_WhoIsIt']"
      ]
     },
     "execution_count": 10,
     "metadata": {},
     "output_type": "execute_result"
    }
   ],
   "source": [
    "li_dif = [i for i in all_tracks_id if i not in vocal_tracks_id]\n",
    "li_dif"
   ]
  },
  {
   "cell_type": "code",
   "execution_count": 11,
   "metadata": {
    "collapsed": true
   },
   "outputs": [],
   "source": [
    "instr_split = mdb.utils.artist_conditional_split(trackid_list=li_dif, test_size=0.20, num_splits=1,random_state=8526325)"
   ]
  },
  {
   "cell_type": "code",
   "execution_count": 12,
   "metadata": {},
   "outputs": [
    {
     "data": {
      "text/plain": [
       "15"
      ]
     },
     "execution_count": 12,
     "metadata": {},
     "output_type": "execute_result"
    }
   ],
   "source": [
    "# I got musics from AmarLal to MusicDelta to complete the dataset for test\n",
    "len(instr_split[0]['test'])"
   ]
  },
  {
   "cell_type": "code",
   "execution_count": 13,
   "metadata": {},
   "outputs": [
    {
     "data": {
      "text/plain": [
       "46"
      ]
     },
     "execution_count": 13,
     "metadata": {},
     "output_type": "execute_result"
    }
   ],
   "source": [
    "# I got music from Aimee to Matthew to complete train set\n",
    "len(instr_split[0]['train'])"
   ]
  },
  {
   "cell_type": "markdown",
   "metadata": {
    "collapsed": true
   },
   "source": [
    "### Split train into train/validation set"
   ]
  },
  {
   "cell_type": "code",
   "execution_count": 14,
   "metadata": {
    "collapsed": true
   },
   "outputs": [],
   "source": [
    "vocal_train_split = mdb.utils.artist_conditional_split(trackid_list=vocal_split[0]['train'], test_size=0.20, num_splits=1,random_state=8526325)"
   ]
  },
  {
   "cell_type": "code",
   "execution_count": 15,
   "metadata": {
    "collapsed": true
   },
   "outputs": [],
   "source": [
    "instr_train_split = mdb.utils.artist_conditional_split(trackid_list=instr_split[0]['train'], test_size=0.20, num_splits=5,random_state=8526325)"
   ]
  },
  {
   "cell_type": "code",
   "execution_count": 16,
   "metadata": {},
   "outputs": [
    {
     "data": {
      "text/plain": [
       "(38, 13)"
      ]
     },
     "execution_count": 16,
     "metadata": {},
     "output_type": "execute_result"
    }
   ],
   "source": [
    "len(vocal_train_split[0]['train']), len(vocal_train_split[0]['test'])"
   ]
  },
  {
   "cell_type": "code",
   "execution_count": 17,
   "metadata": {},
   "outputs": [
    {
     "data": {
      "text/plain": [
       "(68,\n",
       " 29,\n",
       " {'train': ['AClassicEducation_NightOwl',\n",
       "   'AlexanderRoss_GoodbyeBolero',\n",
       "   'AlexanderRoss_VelvetCurtain',\n",
       "   'Auctioneer_OurFutureFaces',\n",
       "   'AvaLuna_Waterduct',\n",
       "   'BigTroubles_Phantom',\n",
       "   'BrandonWebster_DontHearAThing',\n",
       "   'BrandonWebster_YesSirICanFly',\n",
       "   'ClaraBerryAndWooldog_AirTraffic',\n",
       "   'ClaraBerryAndWooldog_Boys',\n",
       "   'ClaraBerryAndWooldog_Stella',\n",
       "   'ClaraBerryAndWooldog_TheBadGuys',\n",
       "   'ClaraBerryAndWooldog_WaltzForMyVictims',\n",
       "   'Creepoid_OldTree',\n",
       "   'Debussy_LenfantProdigue',\n",
       "   'DreamersOfTheGhetto_HeavyLove',\n",
       "   'FacesOnFilm_WaitingForGa',\n",
       "   'FamilyBand_Again',\n",
       "   'HeladoNegro_MitadDelMundo',\n",
       "   'HezekiahJones_BorrowedHeart',\n",
       "   'HopAlong_SisterCities',\n",
       "   'LizNelson_ImComingHome',\n",
       "   'MatthewEntwistle_DontYouEver',\n",
       "   'MatthewEntwistle_Lontano',\n",
       "   'Mozart_DiesBildnis',\n",
       "   'MusicDelta_80sRock',\n",
       "   'MusicDelta_Beatles',\n",
       "   'MusicDelta_Disco',\n",
       "   'MusicDelta_Grunge',\n",
       "   'MusicDelta_Hendrix',\n",
       "   'MusicDelta_Punk',\n",
       "   'MusicDelta_Reggae',\n",
       "   'MusicDelta_Rockabilly',\n",
       "   'PurlingHiss_Lolita',\n",
       "   'Schubert_Erstarrung',\n",
       "   'StevenClark_Bounty',\n",
       "   'TheDistricts_Vermont',\n",
       "   'TheScarletBrand_LesFleursDuMal',\n",
       "   'AimeeNorwich_Flying',\n",
       "   'CroqueMadame_Oil',\n",
       "   'CroqueMadame_Pilot',\n",
       "   'EthanHein_1930sSynthAndUprightBass',\n",
       "   'EthanHein_BluesForNofi',\n",
       "   'EthanHein_GirlOnABridge',\n",
       "   'EthanHein_HarmonicaFigure',\n",
       "   'JoelHelander_Definition',\n",
       "   'JoelHelander_ExcessiveResistancetoChange',\n",
       "   'JoelHelander_IntheAtticBedroom',\n",
       "   'KarimDouaidy_Hopscotch',\n",
       "   'KarimDouaidy_Yatora',\n",
       "   'MatthewEntwistle_AnEveningWithOliver',\n",
       "   'MatthewEntwistle_FairerHopes',\n",
       "   'MatthewEntwistle_ImpressionsOfSaturn',\n",
       "   'MatthewEntwistle_TheArch',\n",
       "   'MatthewEntwistle_TheFlaxenField',\n",
       "   'MichaelKropf_AllGoodThings',\n",
       "   'MusicDelta_BebopJazz',\n",
       "   'MusicDelta_Beethoven',\n",
       "   'MusicDelta_CoolJazz',\n",
       "   'MusicDelta_FreeJazz',\n",
       "   'MusicDelta_FusionJazz',\n",
       "   'MusicDelta_InTheHalloftheMountainKing',\n",
       "   'MusicDelta_LatinJazz',\n",
       "   'MusicDelta_ModalJazz',\n",
       "   'MusicDelta_Pachelbel',\n",
       "   'MusicDelta_Shadows',\n",
       "   'MusicDelta_SpeedMetal',\n",
       "   'MusicDelta_Zeppelin'],\n",
       "  'validation': ['AimeeNorwich_Child',\n",
       "   'Handel_TornamiAVagheggiar',\n",
       "   'LizNelson_Coldwar',\n",
       "   'LizNelson_Rainfall',\n",
       "   'Meaxic_TakeAStep',\n",
       "   'Meaxic_YouListen',\n",
       "   'Mozart_BesterJungling',\n",
       "   'MusicDelta_Britpop',\n",
       "   'NightPanther_Fire',\n",
       "   'Schumann_Mignon',\n",
       "   'SecretMountains_HighHorse',\n",
       "   'TheSoSoGlos_Emergency',\n",
       "   'Wolf_DieBekherte',\n",
       "   'ChrisJacoby_BoothShotLincoln',\n",
       "   'ChrisJacoby_PigsFoot',\n",
       "   'MusicDelta_ChineseChaoZhou',\n",
       "   'MusicDelta_ChineseDrama',\n",
       "   'MusicDelta_ChineseHenan',\n",
       "   'MusicDelta_ChineseJiangNan',\n",
       "   'MusicDelta_ChineseXinJing',\n",
       "   'MusicDelta_ChineseYaoZu',\n",
       "   'MusicDelta_FunkJazz',\n",
       "   'MusicDelta_Vivaldi',\n",
       "   'Phoenix_BrokenPledgeChicagoReel',\n",
       "   'Phoenix_ColliersDaughter',\n",
       "   'Phoenix_ElzicsFarewell',\n",
       "   'Phoenix_LarkOnTheStrandDrummondCastle',\n",
       "   'Phoenix_ScotchMorris',\n",
       "   'Phoenix_SeanCaughlinsTheScartaglen']})"
      ]
     },
     "execution_count": 17,
     "metadata": {},
     "output_type": "execute_result"
    }
   ],
   "source": [
    "vocal_train_split[0]['train'] = vocal_train_split[0]['train']+instr_train_split[0]['train']\n",
    "vocal_train_split[0]['validation'] = vocal_train_split[0].pop('test')+instr_train_split[0]['test']\n",
    "len(vocal_train_split[0]['train']), len(vocal_train_split[0]['validation']), vocal_train_split[0]"
   ]
  },
  {
   "cell_type": "code",
   "execution_count": 18,
   "metadata": {},
   "outputs": [
    {
     "data": {
      "text/plain": [
       "(68,\n",
       " 29,\n",
       " 25,\n",
       " {'test': ['CelestialShore_DieForUs',\n",
       "   'InvisibleFamiliars_DisturbingWildlife',\n",
       "   'MusicDelta_Country1',\n",
       "   'MusicDelta_Country2',\n",
       "   'MusicDelta_Gospel',\n",
       "   'MusicDelta_Rock',\n",
       "   'PortStWillow_StayEven',\n",
       "   'Snowmine_Curfews',\n",
       "   'StrandOfOaks_Spacestation',\n",
       "   'SweetLights_YouLetMeDown',\n",
       "   'AmarLal_Rest',\n",
       "   'AmarLal_SpringDay1',\n",
       "   'Grants_PunchDrunk',\n",
       "   'Lushlife_ToynbeeSuite',\n",
       "   'MusicDelta_GriegTrolltog',\n",
       "   'MusicDelta_SwingJazz',\n",
       "   'TablaBreakbeatScience_Animoog',\n",
       "   'TablaBreakbeatScience_CaptainSky',\n",
       "   'TablaBreakbeatScience_MiloVsMongo',\n",
       "   'TablaBreakbeatScience_MoodyPlucks',\n",
       "   'TablaBreakbeatScience_PhaseTransition',\n",
       "   'TablaBreakbeatScience_RockSteady',\n",
       "   'TablaBreakbeatScience_Scorpio',\n",
       "   'TablaBreakbeatScience_Vger',\n",
       "   'TablaBreakbeatScience_WhoIsIt'],\n",
       "  'train': ['AClassicEducation_NightOwl',\n",
       "   'AlexanderRoss_GoodbyeBolero',\n",
       "   'AlexanderRoss_VelvetCurtain',\n",
       "   'Auctioneer_OurFutureFaces',\n",
       "   'AvaLuna_Waterduct',\n",
       "   'BigTroubles_Phantom',\n",
       "   'BrandonWebster_DontHearAThing',\n",
       "   'BrandonWebster_YesSirICanFly',\n",
       "   'ClaraBerryAndWooldog_AirTraffic',\n",
       "   'ClaraBerryAndWooldog_Boys',\n",
       "   'ClaraBerryAndWooldog_Stella',\n",
       "   'ClaraBerryAndWooldog_TheBadGuys',\n",
       "   'ClaraBerryAndWooldog_WaltzForMyVictims',\n",
       "   'Creepoid_OldTree',\n",
       "   'Debussy_LenfantProdigue',\n",
       "   'DreamersOfTheGhetto_HeavyLove',\n",
       "   'FacesOnFilm_WaitingForGa',\n",
       "   'FamilyBand_Again',\n",
       "   'HeladoNegro_MitadDelMundo',\n",
       "   'HezekiahJones_BorrowedHeart',\n",
       "   'HopAlong_SisterCities',\n",
       "   'LizNelson_ImComingHome',\n",
       "   'MatthewEntwistle_DontYouEver',\n",
       "   'MatthewEntwistle_Lontano',\n",
       "   'Mozart_DiesBildnis',\n",
       "   'MusicDelta_80sRock',\n",
       "   'MusicDelta_Beatles',\n",
       "   'MusicDelta_Disco',\n",
       "   'MusicDelta_Grunge',\n",
       "   'MusicDelta_Hendrix',\n",
       "   'MusicDelta_Punk',\n",
       "   'MusicDelta_Reggae',\n",
       "   'MusicDelta_Rockabilly',\n",
       "   'PurlingHiss_Lolita',\n",
       "   'Schubert_Erstarrung',\n",
       "   'StevenClark_Bounty',\n",
       "   'TheDistricts_Vermont',\n",
       "   'TheScarletBrand_LesFleursDuMal',\n",
       "   'AimeeNorwich_Flying',\n",
       "   'CroqueMadame_Oil',\n",
       "   'CroqueMadame_Pilot',\n",
       "   'EthanHein_1930sSynthAndUprightBass',\n",
       "   'EthanHein_BluesForNofi',\n",
       "   'EthanHein_GirlOnABridge',\n",
       "   'EthanHein_HarmonicaFigure',\n",
       "   'JoelHelander_Definition',\n",
       "   'JoelHelander_ExcessiveResistancetoChange',\n",
       "   'JoelHelander_IntheAtticBedroom',\n",
       "   'KarimDouaidy_Hopscotch',\n",
       "   'KarimDouaidy_Yatora',\n",
       "   'MatthewEntwistle_AnEveningWithOliver',\n",
       "   'MatthewEntwistle_FairerHopes',\n",
       "   'MatthewEntwistle_ImpressionsOfSaturn',\n",
       "   'MatthewEntwistle_TheArch',\n",
       "   'MatthewEntwistle_TheFlaxenField',\n",
       "   'MichaelKropf_AllGoodThings',\n",
       "   'MusicDelta_BebopJazz',\n",
       "   'MusicDelta_Beethoven',\n",
       "   'MusicDelta_CoolJazz',\n",
       "   'MusicDelta_FreeJazz',\n",
       "   'MusicDelta_FusionJazz',\n",
       "   'MusicDelta_InTheHalloftheMountainKing',\n",
       "   'MusicDelta_LatinJazz',\n",
       "   'MusicDelta_ModalJazz',\n",
       "   'MusicDelta_Pachelbel',\n",
       "   'MusicDelta_Shadows',\n",
       "   'MusicDelta_SpeedMetal',\n",
       "   'MusicDelta_Zeppelin'],\n",
       "  'validation': ['AimeeNorwich_Child',\n",
       "   'Handel_TornamiAVagheggiar',\n",
       "   'LizNelson_Coldwar',\n",
       "   'LizNelson_Rainfall',\n",
       "   'Meaxic_TakeAStep',\n",
       "   'Meaxic_YouListen',\n",
       "   'Mozart_BesterJungling',\n",
       "   'MusicDelta_Britpop',\n",
       "   'NightPanther_Fire',\n",
       "   'Schumann_Mignon',\n",
       "   'SecretMountains_HighHorse',\n",
       "   'TheSoSoGlos_Emergency',\n",
       "   'Wolf_DieBekherte',\n",
       "   'ChrisJacoby_BoothShotLincoln',\n",
       "   'ChrisJacoby_PigsFoot',\n",
       "   'MusicDelta_ChineseChaoZhou',\n",
       "   'MusicDelta_ChineseDrama',\n",
       "   'MusicDelta_ChineseHenan',\n",
       "   'MusicDelta_ChineseJiangNan',\n",
       "   'MusicDelta_ChineseXinJing',\n",
       "   'MusicDelta_ChineseYaoZu',\n",
       "   'MusicDelta_FunkJazz',\n",
       "   'MusicDelta_Vivaldi',\n",
       "   'Phoenix_BrokenPledgeChicagoReel',\n",
       "   'Phoenix_ColliersDaughter',\n",
       "   'Phoenix_ElzicsFarewell',\n",
       "   'Phoenix_LarkOnTheStrandDrummondCastle',\n",
       "   'Phoenix_ScotchMorris',\n",
       "   'Phoenix_SeanCaughlinsTheScartaglen']})"
      ]
     },
     "execution_count": 18,
     "metadata": {},
     "output_type": "execute_result"
    }
   ],
   "source": [
    "vocal_train_split[0]['test'] = vocal_split[0]['test']+instr_split[0]['test']\n",
    "len(vocal_train_split[0]['train']), len(vocal_train_split[0]['validation']), len(vocal_train_split[0]['test']), vocal_train_split[0]"
   ]
  },
  {
   "cell_type": "code",
   "execution_count": 19,
   "metadata": {},
   "outputs": [],
   "source": [
    "import json\n",
    "with open('split_all_medleydb.json', 'w') as outfile:\n",
    "    json.dump(vocal_train_split[0], outfile)"
   ]
  },
  {
   "cell_type": "code",
   "execution_count": null,
   "metadata": {
    "collapsed": true
   },
   "outputs": [],
   "source": []
  }
 ],
 "metadata": {
  "kernelspec": {
   "display_name": "Python 3",
   "language": "python",
   "name": "python3"
  },
  "language_info": {
   "codemirror_mode": {
    "name": "ipython",
    "version": 3
   },
   "file_extension": ".py",
   "mimetype": "text/x-python",
   "name": "python",
   "nbconvert_exporter": "python",
   "pygments_lexer": "ipython3",
   "version": "3.6.3"
  }
 },
 "nbformat": 4,
 "nbformat_minor": 2
}
