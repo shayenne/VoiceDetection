{
 "cells": [
  {
   "cell_type": "markdown",
   "metadata": {},
   "source": [
    "# Split MedleyDB \n",
    "\n",
    "This notebook was created to split the MedleyDB dataset into train and test sets using only the multitracks containing vocal melodies.\n",
    "\n",
    "I used medleydb api to manipulate the files and build the subsets. \n",
    "The principal dependency is:\n",
    "\n",
    " - MedleyDB api: [https://github.com/marl/medleydb]"
   ]
  },
  {
   "cell_type": "code",
   "execution_count": 1,
   "metadata": {
    "collapsed": false
   },
   "outputs": [
    {
     "name": "stderr",
     "output_type": "stream",
     "text": [
      "/usr/local/lib/python3.5/dist-packages/medleydb/__init__.py:28: UserWarning: The environment variable MEDLEYDB_PATH is not set. As a result, any part of the code that requires the audio won't work. If you don't need to access the audio, disregard this warning. If you do, set the environment variable MEDLEYDB_PATH to your local copy of MedleyDB.\n",
      "  UserWarning\n"
     ]
    }
   ],
   "source": [
    "import medleydb as mdb\n",
    "\n",
    "# Load all multitracks\n",
    "mtrack_generator = mdb.load_all_multitracks()\n",
    "\n",
    "all_tracks_id = [mtrack.track_id for mtrack in mtrack_generator]"
   ]
  },
  {
   "cell_type": "code",
   "execution_count": 2,
   "metadata": {
    "collapsed": false,
    "scrolled": true
   },
   "outputs": [
    {
     "name": "stdout",
     "output_type": "stream",
     "text": [
      "{'gong', 'conga', 'trombone section', 'bass drum', 'recorder', 'violin section', 'brass section', 'banjo', 'electric bass', 'vocalists', 'trumpet', 'dulcimer', 'electronic organ', 'male rapper', 'chimes', 'harmonica', 'pipe organ', 'piano', 'male screamer', 'male singer', 'drum machine', 'clean electric guitar', 'maracas', 'bass clarinet', 'acoustic guitar', 'baritone saxophone', 'crowd', 'panpipes', 'bagpipe', 'claps', 'triangle', 'french horn', 'oboe', 'Main System', 'sleigh bells', 'erhu', 'beatboxing', 'female screamer', 'tuba', 'auxiliary percussion', 'cornet', 'bandoneon', 'darbuka', 'dilruba', 'kick drum', 'rattle', 'gu', 'male speaker', 'tack piano', 'theremin', 'melodica', 'harp', 'harmonium', 'zhongruan', 'flute', 'trombone', 'viola', 'female singer', 'cabasa', 'accordion', 'alto saxophone', 'bassoon', 'liuqin', 'harpsichord', 'ukulele', 'tabla', 'slide guitar', 'synthesizer', 'guiro', 'snare drum', 'tenor saxophone', 'double bass', 'piccolo', 'xylophone', 'euphonium', 'whistle', 'trumpet section', 'toms', 'vibraphone', 'guzheng', 'string section', 'flute section', 'soprano saxophone', 'doumbek', 'drum set', 'clarinet', 'mandolin', 'cello', 'cello section', 'horn section', 'cymbal', 'clarinet section', 'female rapper', 'tambourine', 'french horn section', 'marimba', 'bongo', 'bamboo flute', 'timpani', 'viola section', 'dizi', 'electric piano', 'sitar', 'snaps', 'cowbell', 'lap steel guitar', 'yangqin', 'female speaker', 'shaker', 'fx/processed sound', 'english horn', 'violin', 'concertina', 'castanet', 'oud', 'glockenspiel', 'choir', 'scratches', 'sampler', 'high hat', 'distorted electric guitar', 'Unlabeled'}\n"
     ]
    }
   ],
   "source": [
    "# get all valid instrument labels\n",
    "instruments = mdb.get_valid_instrument_labels()\n",
    "print (instruments)"
   ]
  },
  {
   "cell_type": "code",
   "execution_count": 3,
   "metadata": {
    "collapsed": false
   },
   "outputs": [
    {
     "name": "stdout",
     "output_type": "stream",
     "text": [
      "['female singer']\n"
     ]
    }
   ],
   "source": [
    "mtrack1 = mdb.MultiTrack('LizNelson_Rainfall')\n",
    "print (mtrack1.melody_stems()[0].instrument)"
   ]
  },
  {
   "cell_type": "code",
   "execution_count": 4,
   "metadata": {
    "collapsed": false
   },
   "outputs": [
    {
     "name": "stdout",
     "output_type": "stream",
     "text": [
      "== List of musics with singing voice ==\n",
      "AClassicEducation_NightOwl\n",
      "AimeeNorwich_Child\n",
      "AlexanderRoss_GoodbyeBolero\n",
      "AlexanderRoss_VelvetCurtain\n",
      "Auctioneer_OurFutureFaces\n",
      "AvaLuna_Waterduct\n",
      "BigTroubles_Phantom\n",
      "BrandonWebster_DontHearAThing\n",
      "BrandonWebster_YesSirICanFly\n",
      "CelestialShore_DieForUs\n",
      "ClaraBerryAndWooldog_AirTraffic\n",
      "ClaraBerryAndWooldog_Boys\n",
      "ClaraBerryAndWooldog_Stella\n",
      "ClaraBerryAndWooldog_TheBadGuys\n",
      "ClaraBerryAndWooldog_WaltzForMyVictims\n",
      "Creepoid_OldTree\n",
      "Debussy_LenfantProdigue\n",
      "DreamersOfTheGhetto_HeavyLove\n",
      "FacesOnFilm_WaitingForGa\n",
      "FamilyBand_Again\n",
      "Handel_TornamiAVagheggiar\n",
      "HeladoNegro_MitadDelMundo\n",
      "HezekiahJones_BorrowedHeart\n",
      "HopAlong_SisterCities\n",
      "InvisibleFamiliars_DisturbingWildlife\n",
      "LizNelson_Coldwar\n",
      "LizNelson_ImComingHome\n",
      "LizNelson_Rainfall\n",
      "MatthewEntwistle_DontYouEver\n",
      "MatthewEntwistle_Lontano\n",
      "Meaxic_TakeAStep\n",
      "Meaxic_YouListen\n",
      "Mozart_BesterJungling\n",
      "Mozart_DiesBildnis\n",
      "MusicDelta_80sRock\n",
      "MusicDelta_Beatles\n",
      "MusicDelta_Britpop\n",
      "MusicDelta_Country1\n",
      "MusicDelta_Country2\n",
      "MusicDelta_Disco\n",
      "MusicDelta_Gospel\n",
      "MusicDelta_Grunge\n",
      "MusicDelta_Hendrix\n",
      "MusicDelta_Punk\n",
      "MusicDelta_Reggae\n",
      "MusicDelta_Rock\n",
      "MusicDelta_Rockabilly\n",
      "NightPanther_Fire\n",
      "PortStWillow_StayEven\n",
      "PurlingHiss_Lolita\n",
      "Schubert_Erstarrung\n",
      "Schumann_Mignon\n",
      "SecretMountains_HighHorse\n",
      "Snowmine_Curfews\n",
      "StevenClark_Bounty\n",
      "StrandOfOaks_Spacestation\n",
      "SweetLights_YouLetMeDown\n",
      "TheDistricts_Vermont\n",
      "TheScarletBrand_LesFleursDuMal\n",
      "TheSoSoGlos_Emergency\n",
      "Wolf_DieBekherte\n"
     ]
    }
   ],
   "source": [
    "# A not clean and not beautiful way to find vocal music\n",
    "print ('== List of musics with singing voice ==')\n",
    "vocal_tracks_id = []\n",
    "for music in all_tracks_id:\n",
    "    mtrack = mdb.MultiTrack(music)\n",
    "    stems = [melodics.instrument for melodics in mtrack.melody_stems()]\n",
    "    search_for = ['female singer', 'male singer', 'vocalists', 'choir']\n",
    "    inters = [list(filter(lambda x: x in search_for, sublist)) for sublist in stems]\n",
    "    #print (inters)\n",
    "    has = [element for element in inters if element != []]\n",
    "    if len(has) > 0:\n",
    "        vocal_tracks_id.append(music)\n",
    "        print (music)"
   ]
  },
  {
   "cell_type": "code",
   "execution_count": 5,
   "metadata": {
    "collapsed": false
   },
   "outputs": [
    {
     "name": "stdout",
     "output_type": "stream",
     "text": [
      "MedleyDB has 122 multitracks files, 61 have singing voice.\n"
     ]
    }
   ],
   "source": [
    "print (\"MedleyDB has\", len(all_tracks_id), \"multitracks files,\", len(vocal_tracks_id), \"have singing voice.\")"
   ]
  },
  {
   "cell_type": "markdown",
   "metadata": {},
   "source": [
    "\n",
    "### Split into train and test sets"
   ]
  },
  {
   "cell_type": "code",
   "execution_count": 7,
   "metadata": {
    "collapsed": true
   },
   "outputs": [],
   "source": [
    "# Choose the number of splits\n",
    "splits = 10"
   ]
  },
  {
   "cell_type": "code",
   "execution_count": 8,
   "metadata": {
    "collapsed": true
   },
   "outputs": [],
   "source": [
    "vocal_split = mdb.utils.artist_conditional_split(trackid_list=vocal_tracks_id, test_size=0.20, \\\n",
    "                                                 num_splits=splits,random_state=8526325)"
   ]
  },
  {
   "cell_type": "code",
   "execution_count": 9,
   "metadata": {
    "collapsed": false
   },
   "outputs": [
    {
     "name": "stdout",
     "output_type": "stream",
     "text": [
      "['AClassicEducation_NightOwl', 'AimeeNorwich_Child', 'AlexanderRoss_GoodbyeBolero', 'AlexanderRoss_VelvetCurtain', 'Auctioneer_OurFutureFaces', 'AvaLuna_Waterduct', 'BigTroubles_Phantom', 'BrandonWebster_DontHearAThing', 'BrandonWebster_YesSirICanFly', 'ClaraBerryAndWooldog_AirTraffic', 'ClaraBerryAndWooldog_Boys', 'ClaraBerryAndWooldog_Stella', 'ClaraBerryAndWooldog_TheBadGuys', 'ClaraBerryAndWooldog_WaltzForMyVictims', 'Creepoid_OldTree', 'Debussy_LenfantProdigue', 'DreamersOfTheGhetto_HeavyLove', 'FacesOnFilm_WaitingForGa', 'FamilyBand_Again', 'Handel_TornamiAVagheggiar', 'HeladoNegro_MitadDelMundo', 'HezekiahJones_BorrowedHeart', 'HopAlong_SisterCities', 'LizNelson_Coldwar', 'LizNelson_ImComingHome', 'LizNelson_Rainfall', 'MatthewEntwistle_DontYouEver', 'MatthewEntwistle_Lontano', 'Meaxic_TakeAStep', 'Meaxic_YouListen', 'Mozart_BesterJungling', 'Mozart_DiesBildnis', 'MusicDelta_80sRock', 'MusicDelta_Beatles', 'MusicDelta_Britpop', 'MusicDelta_Disco', 'MusicDelta_Grunge', 'MusicDelta_Hendrix', 'MusicDelta_Punk', 'MusicDelta_Reggae', 'MusicDelta_Rockabilly', 'NightPanther_Fire', 'PurlingHiss_Lolita', 'Schubert_Erstarrung', 'Schumann_Mignon', 'SecretMountains_HighHorse', 'StevenClark_Bounty', 'TheDistricts_Vermont', 'TheScarletBrand_LesFleursDuMal', 'TheSoSoGlos_Emergency', 'Wolf_DieBekherte'] \n",
      "There are 51 songs on train set\n"
     ]
    }
   ],
   "source": [
    "print(vocal_split[0]['train'], \"\\nThere are\", len(vocal_split[0]['train']), \"songs on train set\")"
   ]
  },
  {
   "cell_type": "code",
   "execution_count": 10,
   "metadata": {
    "collapsed": false
   },
   "outputs": [
    {
     "name": "stdout",
     "output_type": "stream",
     "text": [
      "['CelestialShore_DieForUs', 'InvisibleFamiliars_DisturbingWildlife', 'MusicDelta_Country1', 'MusicDelta_Country2', 'MusicDelta_Gospel', 'MusicDelta_Rock', 'PortStWillow_StayEven', 'Snowmine_Curfews', 'StrandOfOaks_Spacestation', 'SweetLights_YouLetMeDown'] \n",
      "There are 10 songs on test set\n"
     ]
    }
   ],
   "source": [
    "print(vocal_split[0]['test'], \"\\nThere are\", len(vocal_split[0]['test']), \"songs on test set\")"
   ]
  },
  {
   "cell_type": "code",
   "execution_count": 16,
   "metadata": {
    "collapsed": false
   },
   "outputs": [
    {
     "name": "stdout",
     "output_type": "stream",
     "text": [
      "{'test': ['AimeeNorwich_Child', 'ClaraBerryAndWooldog_AirTraffic', 'ClaraBerryAndWooldog_Boys', 'ClaraBerryAndWooldog_Stella', 'ClaraBerryAndWooldog_TheBadGuys', 'ClaraBerryAndWooldog_WaltzForMyVictims', 'Debussy_LenfantProdigue', 'FamilyBand_Again', 'HopAlong_SisterCities', 'LizNelson_ImComingHome', 'Mozart_DiesBildnis', 'MusicDelta_Punk', 'PortStWillow_StayEven', 'Schubert_Erstarrung', 'SecretMountains_HighHorse', 'StrandOfOaks_Spacestation'], 'train': ['AClassicEducation_NightOwl', 'AlexanderRoss_GoodbyeBolero', 'AlexanderRoss_VelvetCurtain', 'Auctioneer_OurFutureFaces', 'AvaLuna_Waterduct', 'BigTroubles_Phantom', 'BrandonWebster_DontHearAThing', 'BrandonWebster_YesSirICanFly', 'CelestialShore_DieForUs', 'Creepoid_OldTree', 'DreamersOfTheGhetto_HeavyLove', 'FacesOnFilm_WaitingForGa', 'Handel_TornamiAVagheggiar', 'HeladoNegro_MitadDelMundo', 'HezekiahJones_BorrowedHeart', 'InvisibleFamiliars_DisturbingWildlife', 'LizNelson_Coldwar', 'LizNelson_Rainfall', 'MatthewEntwistle_DontYouEver', 'MatthewEntwistle_Lontano', 'Meaxic_TakeAStep', 'Meaxic_YouListen', 'Mozart_BesterJungling', 'MusicDelta_80sRock', 'MusicDelta_Beatles', 'MusicDelta_Britpop', 'MusicDelta_Country1', 'MusicDelta_Country2', 'MusicDelta_Disco', 'MusicDelta_Gospel', 'MusicDelta_Grunge', 'MusicDelta_Hendrix', 'MusicDelta_Reggae', 'MusicDelta_Rock', 'MusicDelta_Rockabilly', 'NightPanther_Fire', 'PurlingHiss_Lolita', 'Schumann_Mignon', 'Snowmine_Curfews', 'StevenClark_Bounty', 'SweetLights_YouLetMeDown', 'TheDistricts_Vermont', 'TheScarletBrand_LesFleursDuMal', 'TheSoSoGlos_Emergency', 'Wolf_DieBekherte']}\n"
     ]
    }
   ],
   "source": [
    "print(vocal_split[3])"
   ]
  },
  {
   "cell_type": "markdown",
   "metadata": {
    "collapsed": true
   },
   "source": [
    "### Split train into train/validation set"
   ]
  },
  {
   "cell_type": "code",
   "execution_count": 18,
   "metadata": {
    "collapsed": false
   },
   "outputs": [
    {
     "name": "stdout",
     "output_type": "stream",
     "text": [
      "There are 38 songs on train set and 13 songs on validation set\n",
      "There are 33 songs on train set and 10 songs on validation set\n",
      "There are 40 songs on train set and 11 songs on validation set\n",
      "There are 33 songs on train set and 12 songs on validation set\n",
      "There are 37 songs on train set and 13 songs on validation set\n",
      "There are 39 songs on train set and 10 songs on validation set\n",
      "There are 34 songs on train set and 13 songs on validation set\n",
      "There are 40 songs on train set and 11 songs on validation set\n",
      "There are 36 songs on train set and 12 songs on validation set\n",
      "There are 34 songs on train set and 12 songs on validation set\n"
     ]
    }
   ],
   "source": [
    "for spl in range(splits):\n",
    "\n",
    "    vocal_train_split = mdb.utils.artist_conditional_split(trackid_list=vocal_split[spl]['train'], test_size=0.20, \\\n",
    "                                                       num_splits=1,random_state=8526325)\n",
    "\n",
    "    print (\"There are\", len(vocal_train_split[0]['train']), \"songs on train set and\",\\\n",
    "           len(vocal_train_split[0]['test']), \"songs on validation set\")\n",
    "    \n",
    "    vocal_split[spl]['train'] = vocal_train_split[0].pop('train')\n",
    "    \n",
    "    vocal_split[spl]['validation'] = vocal_train_split[0].pop('test')\n",
    "\n",
    "    #vocal_split[spl]['test'] = vocal_split[spl]['test']"
   ]
  },
  {
   "cell_type": "code",
   "execution_count": 19,
   "metadata": {
    "collapsed": true
   },
   "outputs": [],
   "source": [
    "import json\n",
    "with open('split_voiced_medleydb.json', 'w') as outfile:\n",
    "    json.dump(vocal_split, outfile)"
   ]
  },
  {
   "cell_type": "code",
   "execution_count": null,
   "metadata": {
    "collapsed": true
   },
   "outputs": [],
   "source": []
  }
 ],
 "metadata": {
  "kernelspec": {
   "display_name": "Python 3",
   "language": "python",
   "name": "python3"
  },
  "language_info": {
   "codemirror_mode": {
    "name": "ipython",
    "version": 3
   },
   "file_extension": ".py",
   "mimetype": "text/x-python",
   "name": "python",
   "nbconvert_exporter": "python",
   "pygments_lexer": "ipython3",
   "version": "3.5.3"
  }
 },
 "nbformat": 4,
 "nbformat_minor": 2
}
