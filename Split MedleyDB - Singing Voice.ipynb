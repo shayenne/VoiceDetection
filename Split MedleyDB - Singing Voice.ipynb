{
 "cells": [
  {
   "cell_type": "markdown",
   "metadata": {},
   "source": [
    "# Split MedleyDB \n",
    "\n",
    "This notebook was created to split the MedleyDB dataset into train and test sets using only the multitracks containing vocal melodies.\n",
    "\n",
    "I used medleydb api to manipulate the files and build the subsets. \n",
    "The principal dependency is:\n",
    "\n",
    " - MedleyDB api: [https://github.com/marl/medleydb]"
   ]
  },
  {
   "cell_type": "code",
   "execution_count": 1,
   "metadata": {},
   "outputs": [
    {
     "name": "stderr",
     "output_type": "stream",
     "text": [
      "/home/compmus/anaconda3/lib/python3.6/site-packages/medleydb/__init__.py:94: UserWarning: The medleydb audio was not found at the expected path: None This module will still function, but without the ability to access any of the audio.\n",
      "  UserWarning\n"
     ]
    },
    {
     "name": "stdout",
     "output_type": "stream",
     "text": [
      "['AClassicEducation_NightOwl', 'AimeeNorwich_Child', 'AimeeNorwich_Flying', 'AlexanderRoss_GoodbyeBolero', 'AlexanderRoss_VelvetCurtain', 'AmarLal_Rest', 'AmarLal_SpringDay1', 'Auctioneer_OurFutureFaces', 'AvaLuna_Waterduct', 'BigTroubles_Phantom', 'BrandonWebster_DontHearAThing', 'BrandonWebster_YesSirICanFly', 'CelestialShore_DieForUs', 'ChrisJacoby_BoothShotLincoln', 'ChrisJacoby_PigsFoot', 'ClaraBerryAndWooldog_AirTraffic', 'ClaraBerryAndWooldog_Boys', 'ClaraBerryAndWooldog_Stella', 'ClaraBerryAndWooldog_TheBadGuys', 'ClaraBerryAndWooldog_WaltzForMyVictims', 'Creepoid_OldTree', 'CroqueMadame_Oil', 'CroqueMadame_Pilot', 'Debussy_LenfantProdigue', 'DreamersOfTheGhetto_HeavyLove', 'EthanHein_1930sSynthAndUprightBass', 'EthanHein_BluesForNofi', 'EthanHein_GirlOnABridge', 'EthanHein_HarmonicaFigure', 'FacesOnFilm_WaitingForGa', 'FamilyBand_Again', 'Grants_PunchDrunk', 'Handel_TornamiAVagheggiar', 'HeladoNegro_MitadDelMundo', 'HezekiahJones_BorrowedHeart', 'HopAlong_SisterCities', 'InvisibleFamiliars_DisturbingWildlife', 'JoelHelander_Definition', 'JoelHelander_ExcessiveResistancetoChange', 'JoelHelander_IntheAtticBedroom', 'KarimDouaidy_Hopscotch', 'KarimDouaidy_Yatora', 'LizNelson_Coldwar', 'LizNelson_ImComingHome', 'LizNelson_Rainfall', 'Lushlife_ToynbeeSuite', 'MatthewEntwistle_AnEveningWithOliver', 'MatthewEntwistle_DontYouEver', 'MatthewEntwistle_FairerHopes', 'MatthewEntwistle_ImpressionsOfSaturn', 'MatthewEntwistle_Lontano', 'MatthewEntwistle_TheArch', 'MatthewEntwistle_TheFlaxenField', 'Meaxic_TakeAStep', 'Meaxic_YouListen', 'MichaelKropf_AllGoodThings', 'Mozart_BesterJungling', 'Mozart_DiesBildnis', 'MusicDelta_80sRock', 'MusicDelta_Beatles', 'MusicDelta_BebopJazz', 'MusicDelta_Beethoven', 'MusicDelta_Britpop', 'MusicDelta_ChineseChaoZhou', 'MusicDelta_ChineseDrama', 'MusicDelta_ChineseHenan', 'MusicDelta_ChineseJiangNan', 'MusicDelta_ChineseXinJing', 'MusicDelta_ChineseYaoZu', 'MusicDelta_CoolJazz', 'MusicDelta_Country1', 'MusicDelta_Country2', 'MusicDelta_Disco', 'MusicDelta_FreeJazz', 'MusicDelta_FunkJazz', 'MusicDelta_FusionJazz', 'MusicDelta_Gospel', 'MusicDelta_GriegTrolltog', 'MusicDelta_Grunge', 'MusicDelta_Hendrix', 'MusicDelta_InTheHalloftheMountainKing', 'MusicDelta_LatinJazz', 'MusicDelta_ModalJazz', 'MusicDelta_Pachelbel', 'MusicDelta_Punk', 'MusicDelta_Reggae', 'MusicDelta_Rock', 'MusicDelta_Rockabilly', 'MusicDelta_Shadows', 'MusicDelta_SpeedMetal', 'MusicDelta_SwingJazz', 'MusicDelta_Vivaldi', 'MusicDelta_Zeppelin', 'NightPanther_Fire', 'Phoenix_BrokenPledgeChicagoReel', 'Phoenix_ColliersDaughter', 'Phoenix_ElzicsFarewell', 'Phoenix_LarkOnTheStrandDrummondCastle', 'Phoenix_ScotchMorris', 'Phoenix_SeanCaughlinsTheScartaglen', 'PortStWillow_StayEven', 'PurlingHiss_Lolita', 'Schubert_Erstarrung', 'Schumann_Mignon', 'SecretMountains_HighHorse', 'Snowmine_Curfews', 'StevenClark_Bounty', 'StrandOfOaks_Spacestation', 'SweetLights_YouLetMeDown', 'TablaBreakbeatScience_Animoog', 'TablaBreakbeatScience_CaptainSky', 'TablaBreakbeatScience_MiloVsMongo', 'TablaBreakbeatScience_MoodyPlucks', 'TablaBreakbeatScience_PhaseTransition', 'TablaBreakbeatScience_RockSteady', 'TablaBreakbeatScience_Scorpio', 'TablaBreakbeatScience_Vger', 'TablaBreakbeatScience_WhoIsIt', 'TheDistricts_Vermont', 'TheScarletBrand_LesFleursDuMal', 'TheSoSoGlos_Emergency', 'Wolf_DieBekherte']\n"
     ]
    }
   ],
   "source": [
    "import medleydb as mdb\n",
    "\n",
    "# Load all multitracks\n",
    "mtrack_generator = mdb.load_all_multitracks()\n",
    "\n",
    "all_tracks_id = [mtrack.track_id for mtrack in mtrack_generator]\n",
    "print (all_tracks_id)"
   ]
  },
  {
   "cell_type": "code",
   "execution_count": 74,
   "metadata": {},
   "outputs": [
    {
     "name": "stdout",
     "output_type": "stream",
     "text": [
      "['female singer']\n"
     ]
    }
   ],
   "source": [
    "mtrack1 = mdb.MultiTrack('LizNelson_Rainfall')\n",
    "print (mtrack1.melody_stems()[0].instrument)"
   ]
  },
  {
   "cell_type": "code",
   "execution_count": 79,
   "metadata": {},
   "outputs": [
    {
     "name": "stdout",
     "output_type": "stream",
     "text": [
      "None\n"
     ]
    }
   ],
   "source": [
    "print(mtrack1.audio_path)"
   ]
  },
  {
   "cell_type": "code",
   "execution_count": 69,
   "metadata": {},
   "outputs": [
    {
     "name": "stdout",
     "output_type": "stream",
     "text": [
      "[[], ['male singer'], ['male singer']]\n",
      "AClassicEducation_NightOwl\n",
      "[['female singer']]\n",
      "AimeeNorwich_Child\n",
      "[[], [], []]\n",
      "[[], ['male singer'], [], [], []]\n",
      "AlexanderRoss_GoodbyeBolero\n",
      "[[], ['male singer'], [], []]\n",
      "AlexanderRoss_VelvetCurtain\n",
      "[[]]\n",
      "[[]]\n",
      "[[], ['male singer']]\n",
      "Auctioneer_OurFutureFaces\n",
      "[['male singer']]\n",
      "AvaLuna_Waterduct\n",
      "[[], ['male singer'], []]\n",
      "BigTroubles_Phantom\n",
      "[['female singer']]\n",
      "BrandonWebster_DontHearAThing\n",
      "[['male singer']]\n",
      "BrandonWebster_YesSirICanFly\n",
      "[['male singer'], ['female singer'], [], [], []]\n",
      "CelestialShore_DieForUs\n",
      "[[]]\n",
      "[[]]\n",
      "[[], ['female singer']]\n",
      "ClaraBerryAndWooldog_AirTraffic\n",
      "[[], ['female singer'], []]\n",
      "ClaraBerryAndWooldog_Boys\n",
      "[['female singer']]\n",
      "ClaraBerryAndWooldog_Stella\n",
      "[['female singer']]\n",
      "ClaraBerryAndWooldog_TheBadGuys\n",
      "[[], [], ['female singer']]\n",
      "ClaraBerryAndWooldog_WaltzForMyVictims\n",
      "[['vocalists'], [], ['male singer'], ['male singer']]\n",
      "Creepoid_OldTree\n",
      "[[], []]\n",
      "[[], []]\n",
      "[['male singer'], []]\n",
      "Debussy_LenfantProdigue\n",
      "[['male singer']]\n",
      "DreamersOfTheGhetto_HeavyLove\n",
      "[[]]\n",
      "[]\n",
      "[[]]\n",
      "[]\n",
      "[['male singer'], ['vocalists']]\n",
      "FacesOnFilm_WaitingForGa\n",
      "[['female singer']]\n",
      "FamilyBand_Again\n",
      "[]\n",
      "[['female singer'], []]\n",
      "Handel_TornamiAVagheggiar\n",
      "[['male singer']]\n",
      "HeladoNegro_MitadDelMundo\n",
      "[['vocalists'], ['male singer'], []]\n",
      "HezekiahJones_BorrowedHeart\n",
      "[[], ['female singer']]\n",
      "HopAlong_SisterCities\n",
      "[[], ['vocalists'], ['vocalists'], ['male singer'], []]\n",
      "InvisibleFamiliars_DisturbingWildlife\n",
      "[[], [], [], [], []]\n",
      "[[], [], [], [], []]\n",
      "[[]]\n",
      "[[], []]\n",
      "[[], [], []]\n",
      "[[], ['female singer']]\n",
      "LizNelson_Coldwar\n",
      "[['female singer'], ['female singer']]\n",
      "LizNelson_ImComingHome\n",
      "[['female singer']]\n",
      "LizNelson_Rainfall\n",
      "[[]]\n",
      "[[], [], [], []]\n",
      "[[], ['male singer']]\n",
      "MatthewEntwistle_DontYouEver\n",
      "[[], [], [], [], []]\n",
      "[[], [], [], []]\n",
      "[['female singer']]\n",
      "MatthewEntwistle_Lontano\n",
      "[[], [], [], []]\n",
      "[[], [], [], []]\n",
      "[[], ['male singer']]\n",
      "Meaxic_TakeAStep\n",
      "[['male singer'], []]\n",
      "Meaxic_YouListen\n",
      "[[], []]\n",
      "[['female singer'], []]\n",
      "Mozart_BesterJungling\n",
      "[['male singer'], []]\n",
      "Mozart_DiesBildnis\n",
      "[['male singer']]\n",
      "MusicDelta_80sRock\n",
      "[['male singer'], ['female singer']]\n",
      "MusicDelta_Beatles\n",
      "[[], []]\n",
      "[[], [], [], [], []]\n",
      "[['female singer'], ['female singer']]\n",
      "MusicDelta_Britpop\n",
      "[[], []]\n",
      "[[], [], []]\n",
      "[[], [], [], []]\n",
      "[[], [], []]\n",
      "[[], [], [], []]\n",
      "[[], []]\n",
      "[[], []]\n",
      "[['male singer']]\n",
      "MusicDelta_Country1\n",
      "[['female singer']]\n",
      "MusicDelta_Country2\n",
      "[['male singer']]\n",
      "MusicDelta_Disco\n",
      "[[]]\n",
      "[[], []]\n",
      "[[], []]\n",
      "[['female singer']]\n",
      "MusicDelta_Gospel\n",
      "[[], [], [], []]\n",
      "[['male singer']]\n",
      "MusicDelta_Grunge\n",
      "[['male singer']]\n",
      "MusicDelta_Hendrix\n",
      "[[]]\n",
      "[[], []]\n",
      "[[], []]\n",
      "[[], [], []]\n",
      "[['male singer']]\n",
      "MusicDelta_Punk\n",
      "[['male singer']]\n",
      "MusicDelta_Reggae\n",
      "[['male singer']]\n",
      "MusicDelta_Rock\n",
      "[['female singer']]\n",
      "MusicDelta_Rockabilly\n",
      "[[]]\n",
      "[[]]\n",
      "[[], []]\n",
      "[[]]\n",
      "[[]]\n",
      "[[], ['male singer']]\n",
      "NightPanther_Fire\n",
      "[[], []]\n",
      "[[], []]\n",
      "[[], [], []]\n",
      "[[], []]\n",
      "[[], []]\n",
      "[[], []]\n",
      "[['male singer']]\n",
      "PortStWillow_StayEven\n",
      "[[], ['vocalists']]\n",
      "PurlingHiss_Lolita\n",
      "[['male singer'], []]\n",
      "Schubert_Erstarrung\n",
      "[[], ['female singer']]\n",
      "Schumann_Mignon\n",
      "[[], ['female singer']]\n",
      "SecretMountains_HighHorse\n",
      "[['vocalists']]\n",
      "Snowmine_Curfews\n",
      "[['male singer']]\n",
      "StevenClark_Bounty\n",
      "[['male singer'], []]\n",
      "StrandOfOaks_Spacestation\n",
      "[['vocalists'], ['male singer']]\n",
      "SweetLights_YouLetMeDown\n",
      "[]\n",
      "[]\n",
      "[]\n",
      "[]\n",
      "[]\n",
      "[]\n",
      "[]\n",
      "[]\n",
      "[]\n",
      "[['male singer'], []]\n",
      "TheDistricts_Vermont\n",
      "[[], ['male singer']]\n",
      "TheScarletBrand_LesFleursDuMal\n",
      "[[], ['male singer']]\n",
      "TheSoSoGlos_Emergency\n",
      "[['female singer'], []]\n",
      "Wolf_DieBekherte\n"
     ]
    }
   ],
   "source": [
    "vocal_tracks_id = []\n",
    "for music in all_track_id:\n",
    "    mtrack = mdb.MultiTrack(music)\n",
    "    stems = [melodics.instrument for melodics in mtrack.melody_stems()]\n",
    "    search_for = ['female singer', 'male singer', 'vocalists', 'female speaker']\n",
    "    inters = [list(filter(lambda x: x in search_for, sublist)) for sublist in stems]\n",
    "    print (inters)\n",
    "    has = [element for element in inters if element != []]\n",
    "    if len(has) > 0:\n",
    "        vocal_tracks_id.append(music)\n",
    "        print (music)"
   ]
  },
  {
   "cell_type": "code",
   "execution_count": 20,
   "metadata": {
    "scrolled": true
   },
   "outputs": [
    {
     "name": "stdout",
     "output_type": "stream",
     "text": [
      "{'trumpet section', 'trumpet', 'snare drum', 'female singer', 'vibraphone', 'fx/processed sound', 'yangqin', 'chimes', 'sitar', 'tenor saxophone', 'male rapper', 'conga', 'snaps', 'marimba', 'violin', 'clarinet', 'cornet', 'cowbell', 'panpipes', 'tambourine', 'castanet', 'whistle', 'english horn', 'bassoon', 'maracas', 'dilruba', 'flute section', 'male screamer', 'tack piano', 'pipe organ', 'clarinet section', 'slide guitar', 'viola', 'rattle', 'high hat', 'trombone section', 'harmonica', 'horn section', 'guiro', 'harpsichord', 'violin section', 'bass clarinet', 'electric piano', 'drum machine', 'mandolin', 'choir', 'scratches', 'Unlabeled', 'harp', 'crowd', 'dulcimer', 'harmonium', 'cabasa', 'claps', 'darbuka', 'female screamer', 'melodica', 'doumbek', 'trombone', 'erhu', 'cello', 'female speaker', 'timpani', 'piano', 'soprano saxophone', 'beatboxing', 'electric bass', 'drum set', 'concertina', 'xylophone', 'piccolo', 'bamboo flute', 'double bass', 'synthesizer', 'tuba', 'liuqin', 'shaker', 'male singer', 'toms', 'cymbal', 'gong', 'french horn', 'gu', 'string section', 'electronic organ', 'bass drum', 'Main System', 'sleigh bells', 'lap steel guitar', 'auxiliary percussion', 'accordion', 'zhongruan', 'kick drum', 'sampler', 'ukulele', 'acoustic guitar', 'tabla', 'recorder', 'clean electric guitar', 'euphonium', 'bongo', 'oboe', 'french horn section', 'viola section', 'vocalists', 'bandoneon', 'banjo', 'cello section', 'dizi', 'theremin', 'flute', 'glockenspiel', 'male speaker', 'female rapper', 'alto saxophone', 'brass section', 'bagpipe', 'baritone saxophone', 'triangle', 'oud', 'distorted electric guitar', 'guzheng'}\n"
     ]
    }
   ],
   "source": [
    "# get all valid instrument labels\n",
    "instruments = mdb.get_valid_instrument_labels()\n",
    "print (instruments)\n"
   ]
  },
  {
   "cell_type": "code",
   "execution_count": 40,
   "metadata": {},
   "outputs": [
    {
     "data": {
      "text/plain": [
       "61"
      ]
     },
     "execution_count": 40,
     "metadata": {},
     "output_type": "execute_result"
    }
   ],
   "source": [
    "len(vocal_tracks_id)"
   ]
  },
  {
   "cell_type": "code",
   "execution_count": 64,
   "metadata": {},
   "outputs": [],
   "source": [
    "x = mdb.utils.artist_conditional_split(trackid_list=vocal_tracks_id, test_size=0.30, num_splits=5,random_state=8526325)"
   ]
  },
  {
   "cell_type": "code",
   "execution_count": 66,
   "metadata": {},
   "outputs": [
    {
     "name": "stdout",
     "output_type": "stream",
     "text": [
      "['AClassicEducation_NightOwl', 'AlexanderRoss_GoodbyeBolero', 'AlexanderRoss_VelvetCurtain', 'Auctioneer_OurFutureFaces', 'AvaLuna_Waterduct', 'BrandonWebster_DontHearAThing', 'BrandonWebster_YesSirICanFly', 'ClaraBerryAndWooldog_AirTraffic', 'ClaraBerryAndWooldog_Boys', 'ClaraBerryAndWooldog_Stella', 'ClaraBerryAndWooldog_TheBadGuys', 'ClaraBerryAndWooldog_WaltzForMyVictims', 'Creepoid_OldTree', 'Debussy_LenfantProdigue', 'DreamersOfTheGhetto_HeavyLove', 'FacesOnFilm_WaitingForGa', 'FamilyBand_Again', 'HeladoNegro_MitadDelMundo', 'HezekiahJones_BorrowedHeart', 'HopAlong_SisterCities', 'LizNelson_Coldwar', 'LizNelson_ImComingHome', 'LizNelson_Rainfall', 'Meaxic_TakeAStep', 'Meaxic_YouListen', 'Mozart_DiesBildnis', 'MusicDelta_80sRock', 'MusicDelta_Beatles', 'MusicDelta_Britpop', 'MusicDelta_Disco', 'MusicDelta_Hendrix', 'MusicDelta_Punk', 'MusicDelta_Reggae', 'MusicDelta_Rockabilly', 'NightPanther_Fire', 'PurlingHiss_Lolita', 'Schubert_Erstarrung', 'SecretMountains_HighHorse', 'StevenClark_Bounty', 'TheDistricts_Vermont', 'TheScarletBrand_LesFleursDuMal', 'TheSoSoGlos_Emergency']\n"
     ]
    }
   ],
   "source": [
    "print(x[0]['train'])"
   ]
  },
  {
   "cell_type": "code",
   "execution_count": 67,
   "metadata": {},
   "outputs": [
    {
     "name": "stdout",
     "output_type": "stream",
     "text": [
      "['AimeeNorwich_Child', 'BigTroubles_Phantom', 'CelestialShore_DieForUs', 'Handel_TornamiAVagheggiar', 'InvisibleFamiliars_DisturbingWildlife', 'MatthewEntwistle_DontYouEver', 'MatthewEntwistle_Lontano', 'Mozart_BesterJungling', 'MusicDelta_Country1', 'MusicDelta_Country2', 'MusicDelta_Gospel', 'MusicDelta_Grunge', 'MusicDelta_Rock', 'PortStWillow_StayEven', 'Schumann_Mignon', 'Snowmine_Curfews', 'StrandOfOaks_Spacestation', 'SweetLights_YouLetMeDown', 'Wolf_DieBekherte']\n"
     ]
    }
   ],
   "source": [
    "print(x[0]['test'])"
   ]
  },
  {
   "cell_type": "code",
   "execution_count": null,
   "metadata": {
    "collapsed": true
   },
   "outputs": [],
   "source": []
  }
 ],
 "metadata": {
  "kernelspec": {
   "display_name": "Python 3",
   "language": "python",
   "name": "python3"
  },
  "language_info": {
   "codemirror_mode": {
    "name": "ipython",
    "version": 3
   },
   "file_extension": ".py",
   "mimetype": "text/x-python",
   "name": "python",
   "nbconvert_exporter": "python",
   "pygments_lexer": "ipython3",
   "version": "3.6.3"
  }
 },
 "nbformat": 4,
 "nbformat_minor": 2
}
