{
 "cells": [
  {
   "cell_type": "code",
   "execution_count": 1,
   "metadata": {
    "collapsed": true
   },
   "outputs": [],
   "source": [
    "# Load the modules we're going to need\n",
    "%matplotlib inline\n",
    "import matplotlib.pyplot as plt\n",
    "import numpy as np\n",
    "import sklearn\n",
    "import os\n",
    "import glob\n",
    "import librosa\n",
    "import pandas as pd# Added\n",
    "from IPython.display import Audio\n",
    "from sklearn.externals import joblib"
   ]
  },
  {
   "cell_type": "code",
   "execution_count": 2,
   "metadata": {
    "collapsed": true
   },
   "outputs": [],
   "source": [
    "# We've previously preprocessed our data and coverted all files to a sample rate of 44100\n",
    "samplerate = 44100"
   ]
  },
  {
   "cell_type": "code",
   "execution_count": 12,
   "metadata": {
    "collapsed": true
   },
   "outputs": [],
   "source": [
    "# Specify where the audio files for training and testing reside\n",
    "train_folder = './../exp1/train'\n",
    "test_folder = './../exp1/test'\n",
    "\n",
    "# Get a list of all the training audio files (must be .WAV files)\n",
    "train_files = glob.glob(os.path.join(train_folder, '*.wav'))\n",
    "\n",
    "# Get a list of all the test audio files (must be .WAV files)\n",
    "test_files = glob.glob(os.path.join(test_folder, '*.wav'))\n",
    "\n",
    "# Specify the labels (classes) we're going to classify the data into\n",
    "label0 = 'abscent'\n",
    "label1 = 'present'\n",
    "labels = [label0, label1]"
   ]
  },
  {
   "cell_type": "code",
   "execution_count": 4,
   "metadata": {
    "collapsed": true
   },
   "outputs": [],
   "source": [
    "# Make 1 second summarization as features with half second of hop length\n",
    "# 172 frames == 1 second (using 44100 samples per second)\n",
    "# 166 frames ~ 0.96 second\n",
    "feature_length = 96\n",
    "half_sec = 48"
   ]
  },
  {
   "cell_type": "code",
   "execution_count": 5,
   "metadata": {
    "collapsed": false
   },
   "outputs": [],
   "source": [
    "# Define lists to store the training features and corresponding training labels\n",
    "train_features = []\n",
    "train_labels = []\n",
    "\n",
    "# For every audio file in the training set, load the file, compute MFCCs, summarize them over time\n",
    "# using the mean and standard deviation (for each MFCC coefficient), and then save the features\n",
    "# and corresponding label in the designated lists\n",
    "for tf in train_files:\n",
    "    \n",
    "    print(\"filename: {:s}\".format(os.path.basename(tf)))\n",
    "    \n",
    "    # Load VGGish audio embeddings\n",
    "    vggish = pd.read_csv(tf[:-7]+\"VGGish_PCA.csv\",index_col=None, header=None)\n",
    "    vggish = pd.DataFrame.as_matrix(vggish)\n",
    "    \n",
    "    # Read labels for each frame\n",
    "    f0line = pd.read_csv(tf[:-7]+\"vocal.csv\",index_col=None, header=None)\n",
    "    f0line = pd.DataFrame.as_matrix(f0line)\n",
    "    f0line = f0line.T[0][48:] # VGGish starts from 0.48 second\n",
    "    \n",
    "    #print (vggish)\n",
    "    #print (mfcc.shape)\n",
    "    #print(\"number of chunks\", int(mfcc.shape[1]/half_sec))\n",
    "    \n",
    "    feature_vector = []\n",
    "    tf_label = []\n",
    "    \n",
    "    print (vggish.shape[0]/half_sec)\n",
    "    \n",
    "    for chunk in range(vggish.shape[0]): # if hop = 10ms then use: range(int(vggish.shape[0]/half_sec)):\n",
    "        start = chunk*half_sec\n",
    "        vggish_means = np.mean(vggish[start:start+1, :], 0) # I removed the smooth to get only one window\n",
    "        vggish_stddevs = np.std(vggish[start:start+1, :], 0)\n",
    "        #print (vggish_means.shape, start, start+feature_length)\n",
    "    \n",
    "        # Concatenate means and std. dev's into a single feature vector\n",
    "        #feature_vector.append(np.concatenate((vggish_means, vggish_stddevs), axis=0))\n",
    "        #print (np.concatenate((vggish_means, vggish_stddevs), axis=0))\n",
    "        #if hop = 10ms then use:feature_vector.append(vggish[start, :][0])\n",
    "        feature_vector.append(vggish[chunk, :])\n",
    "   \n",
    "        # Adjust labels to our classes\n",
    "        if len([x for x in f0line[start:start+feature_length] if x > 0]) >= half_sec: # 50%\n",
    "            tf_label.append('present')\n",
    "        else:\n",
    "            tf_label.append('abscent')\n",
    "\n",
    "    # Get labels index\n",
    "    tf_label_ind = [labels.index(lbl) for lbl in tf_label]\n",
    "    print(\"file label size: {:d}\".format(len(tf_label_ind)))\n",
    "    \n",
    "    # Store the feature vector and corresponding label in integer format\n",
    "    for idx in range(len(feature_vector)):\n",
    "        train_features.append(feature_vector[idx])\n",
    "        train_labels.append(tf_label_ind[idx]) \n",
    "    print(\" \")"
   ]
  },
  {
   "cell_type": "code",
   "execution_count": 13,
   "metadata": {
    "collapsed": false
   },
   "outputs": [
    {
     "name": "stdout",
     "output_type": "stream",
     "text": [
      "filename: MusicDelta_Country2_MIX.wav\n",
      "35\n",
      "file label size: (35,)\n",
      " \n",
      "filename: MusicDelta_Country1_MIX.wav\n",
      "71\n",
      "file label size: (71,)\n",
      " \n",
      "filename: SweetLights_YouLetMeDown_MIX.wav\n"
     ]
    },
    {
     "name": "stderr",
     "output_type": "stream",
     "text": [
      "/usr/lib/python3/dist-packages/numpy/core/fromnumeric.py:2889: RuntimeWarning: Mean of empty slice.\n",
      "  out=out, **kwargs)\n",
      "/usr/lib/python3/dist-packages/numpy/core/_methods.py:73: RuntimeWarning: invalid value encountered in true_divide\n",
      "  ret, rcount, out=ret, casting='unsafe', subok=False)\n",
      "/usr/lib/python3/dist-packages/numpy/core/_methods.py:135: RuntimeWarning: Degrees of freedom <= 0 for slice\n",
      "  keepdims=keepdims)\n",
      "/usr/lib/python3/dist-packages/numpy/core/_methods.py:105: RuntimeWarning: invalid value encountered in true_divide\n",
      "  arrmean, rcount, out=arrmean, casting='unsafe', subok=False)\n",
      "/usr/lib/python3/dist-packages/numpy/core/_methods.py:125: RuntimeWarning: invalid value encountered in true_divide\n",
      "  ret, rcount, out=ret, casting='unsafe', subok=False)\n"
     ]
    },
    {
     "name": "stdout",
     "output_type": "stream",
     "text": [
      "815\n",
      "file label size: (815,)\n",
      " \n",
      "filename: MusicDelta_Gospel_MIX.wav\n",
      "156\n",
      "file label size: (156,)\n",
      " \n",
      "filename: PortStWillow_StayEven_MIX.wav\n",
      "659\n",
      "file label size: (659,)\n",
      " \n",
      "filename: StrandOfOaks_Spacestation_MIX.wav\n",
      "507\n",
      "file label size: (507,)\n",
      " \n",
      "filename: MusicDelta_Rock_MIX.wav\n",
      "26\n",
      "file label size: (26,)\n",
      " \n",
      "filename: InvisibleFamiliars_DisturbingWildlife_MIX.wav\n",
      "454\n",
      "file label size: (454,)\n",
      " \n",
      "filename: Snowmine_Curfews_MIX.wav\n",
      "572\n",
      "file label size: (572,)\n",
      " \n",
      "filename: CelestialShore_DieForUs_MIX.wav\n",
      "579\n",
      "file label size: (579,)\n",
      " \n"
     ]
    }
   ],
   "source": [
    "# Define lists to store the test features and corresponding test labels\n",
    "test_features = []\n",
    "test_labels = []\n",
    "\n",
    "# For every audio file in the training set, load the file, compute MFCCs, summarize them over time\n",
    "# using the mean and standard deviation (for each MFCC coefficient), and then save the features\n",
    "# and corresponding label in the designated lists\n",
    "for tf in test_files:\n",
    "    \n",
    "    print(\"filename: {:s}\".format(os.path.basename(tf)))\n",
    "    \n",
    "    # Load VGGish audio embeddings\n",
    "    vggish = pd.read_csv(tf[:-7]+\"VGGish_PCA.csv\",index_col=None, header=None)\n",
    "    vggish = pd.DataFrame.as_matrix(vggish)\n",
    "    \n",
    "    # Read labels for each frame\n",
    "    f0line = pd.read_csv(tf[:-7]+\"vocal.csv\",index_col=None, header=None)\n",
    "    f0line = pd.DataFrame.as_matrix(f0line)\n",
    "    f0line = f0line.T[0][48:] # VGGish starts from 0\n",
    "    \n",
    "    #print (mfcc.shape)\n",
    "    #print(\"number of chunks\", int(mfcc.shape[1]/half_sec))\n",
    "    \n",
    "    feature_vector = []\n",
    "    tf_label = []\n",
    "    \n",
    "    print (vggish.shape[0])\n",
    "    \n",
    "    for chunk in range(vggish.shape[0]): # if hop = 10ms then use: range(int(vggish.shape[0]/half_sec)):\n",
    "        start = chunk*half_sec\n",
    "        vggish_means = np.mean(vggish[start:start+1, :], 0) # I removed the smooth to get only one window\n",
    "        vggish_stddevs = np.std(vggish[start:start+1, :], 0)\n",
    "        #print (vggish_means.shape, start, start+feature_length)\n",
    "    \n",
    "        # Concatenate means and std. dev's into a single feature vector\n",
    "        #feature_vector.append(np.concatenate((vggish_means, vggish_stddevs), axis=0))\n",
    "        #if hop = 10ms then use:feature_vector.append(vggish[start, :][0])\n",
    "        feature_vector.append(vggish[chunk, :])\n",
    "        \n",
    "        #print(feature_vector)\n",
    "        \n",
    "        # Adjust labels to our classes\n",
    "        if len([x for x in f0line[start:start+feature_length] if x > 0]) >= half_sec: # 50%\n",
    "            tf_label.append('present')\n",
    "        else:\n",
    "            tf_label.append('abscent')\n",
    "    \n",
    "    #Get labels index\n",
    "    tf_label_ind = np.array([labels.index(lbl) for lbl in tf_label])\n",
    "    print(\"file label size: {}\".format(tf_label_ind.shape))\n",
    "    \n",
    "    \n",
    "    # Store the feature vector and corresponding label in integer format\n",
    "    for idx in range(len(feature_vector)):\n",
    "        test_features.append(feature_vector[idx])\n",
    "        test_labels.append(tf_label_ind[idx])\n",
    "    print(\" \")"
   ]
  },
  {
   "cell_type": "code",
   "execution_count": 7,
   "metadata": {
    "collapsed": false
   },
   "outputs": [],
   "source": [
    "# Create a scale object\n",
    "scaler = sklearn.preprocessing.StandardScaler()\n",
    "\n",
    "# Learn the parameters from the training data only\n",
    "scaler.fit(train_features)\n",
    "\n",
    "# Apply the learned parameters to the training and test sets:\n",
    "train_features_scaled = scaler.transform(train_features)"
   ]
  },
  {
   "cell_type": "code",
   "execution_count": 48,
   "metadata": {
    "collapsed": false
   },
   "outputs": [],
   "source": [
    "test_features_scaled = scaler.transform(test_features)\n",
    "\n",
    "# Note, the first 2 operations (learning the standardization parameters from the training data \n",
    "# and applying them to the the training data) can be performed in one line using:\n",
    "# train_features_scaled = scaler.fit_transform(train_features)"
   ]
  },
  {
   "cell_type": "code",
   "execution_count": 9,
   "metadata": {
    "collapsed": false
   },
   "outputs": [
    {
     "data": {
      "text/plain": [
       "['scaler_VGGish.sav']"
      ]
     },
     "execution_count": 9,
     "metadata": {},
     "output_type": "execute_result"
    }
   ],
   "source": [
    "# save the scaler to disk\n",
    "filename = 'scaler_VGGish.sav'\n",
    "joblib.dump(scaler, filename)"
   ]
  },
  {
   "cell_type": "markdown",
   "metadata": {},
   "source": [
    "<h2> Step 3: model training</h2>\n",
    "\n",
    "Now that all of our features are computed, we can train a clasification model! In this example we're going to use the following model: the support vector machine classifier. "
   ]
  },
  {
   "cell_type": "code",
   "execution_count": 21,
   "metadata": {
    "collapsed": false
   },
   "outputs": [
    {
     "name": "stdout",
     "output_type": "stream",
     "text": [
      "finalized_model_SVM_100_VGGish.sav\n",
      "0.865625508378\n",
      "finalized_model_SVM_10_VGGish.sav\n",
      "0.879128029933\n",
      "finalized_model_SVM_1_VGGish.sav\n",
      "0.889702293802\n",
      "finalized_model_SVM_0.1_VGGish.sav\n",
      "0.891329103628\n",
      "finalized_model_SVM_0.01_VGGish.sav\n",
      "0.868553766065\n",
      "finalized_model_SVM_0.001_VGGish.sav\n",
      "0.687815194404\n",
      "finalized_model_SVM_0.0001_VGGish.sav\n",
      "0.687815194404\n"
     ]
    }
   ],
   "source": [
    "# Use scikit-learn to train a model with the training features we've extracted\n",
    "\n",
    "# Lets use a SVC with folowing C parameters: \n",
    "params = [100, 10, 1, 0.1, 0.01, 0.001, 0.0001]\n",
    "\n",
    "for c in params:\n",
    "    clf = sklearn.svm.SVC(C=c)\n",
    "\n",
    "    # Fit (=train) the model\n",
    "    clf.fit(train_features_scaled, train_labels)\n",
    "    \n",
    "    # save the model to disk\n",
    "    filename = 'finalized_model_SVM_'+str(c)+'_VGGish.sav'\n",
    "    print (filename)\n",
    "    joblib.dump(clf, filename)\n",
    "    \n",
    "    # Now lets predict the labels of the test data!\n",
    "    predictions = clf.predict(test_features_scaled)\n",
    "    \n",
    "    # We can use sklearn to compute the accuracy score\n",
    "    accuracy = sklearn.metrics.accuracy_score(test_labels, predictions)\n",
    "    print(accuracy)"
   ]
  },
  {
   "cell_type": "code",
   "execution_count": null,
   "metadata": {
    "collapsed": true
   },
   "outputs": [],
   "source": [
    "# Use scikit-learn to train a model with the training features we've extracted\n",
    "\n",
    "# Lets use a SVC with default parameters: kernel RBF \n",
    "clf = sklearn.svm.SVC()\n",
    "\n",
    "# Fit (=train) the model\n",
    "clf.fit(train_features_scaled, train_labels)"
   ]
  },
  {
   "cell_type": "code",
   "execution_count": 11,
   "metadata": {
    "collapsed": false
   },
   "outputs": [
    {
     "data": {
      "text/plain": [
       "['finalized_model_VGGish.sav']"
      ]
     },
     "execution_count": 11,
     "metadata": {},
     "output_type": "execute_result"
    }
   ],
   "source": [
    "# save the model to disk\n",
    "filename = 'finalized_model_SVM_'+c+'_VGGish.sav'\n",
    "joblib.dump(clf, filename)"
   ]
  },
  {
   "cell_type": "code",
   "execution_count": 12,
   "metadata": {
    "collapsed": true
   },
   "outputs": [],
   "source": [
    "# Now lets predict the labels of the test data!\n",
    "predictions = clf.predict(test_features_scaled)"
   ]
  },
  {
   "cell_type": "code",
   "execution_count": 13,
   "metadata": {
    "collapsed": false
   },
   "outputs": [
    {
     "name": "stdout",
     "output_type": "stream",
     "text": [
      "0.889702293802\n"
     ]
    }
   ],
   "source": [
    "# We can use sklearn to compute the accuracy score\n",
    "accuracy = sklearn.metrics.accuracy_score(test_labels, predictions)\n",
    "print(accuracy)"
   ]
  },
  {
   "cell_type": "code",
   "execution_count": 18,
   "metadata": {
    "collapsed": false
   },
   "outputs": [
    {
     "name": "stdout",
     "output_type": "stream",
     "text": [
      "0.687815194404\n"
     ]
    }
   ],
   "source": [
    "# We can use sklearn to compute the accuracy score BEFORE\n",
    "ones = np.ones(len(predictions))\n",
    "accuracy = sklearn.metrics.accuracy_score(test_labels, ones)\n",
    "print(accuracy)"
   ]
  },
  {
   "cell_type": "code",
   "execution_count": 14,
   "metadata": {
    "collapsed": false
   },
   "outputs": [
    {
     "name": "stdout",
     "output_type": "stream",
     "text": [
      "[[1568  351]\n",
      " [ 327 3901]]\n"
     ]
    }
   ],
   "source": [
    "# lets compute the show the confusion matrix:\n",
    "cm = sklearn.metrics.confusion_matrix(test_labels, predictions)\n",
    "print(cm)"
   ]
  },
  {
   "cell_type": "code",
   "execution_count": 21,
   "metadata": {
    "collapsed": false
   },
   "outputs": [
    {
     "data": {
      "image/png": "[encoded data removed]",
      "text/plain": [
       "<matplotlib.figure.Figure at 0x7fb0b2dd2780>"
      ]
     },
     "metadata": {},
     "output_type": "display_data"
    }
   ],
   "source": [
    "fig, ax = plt.subplots()\n",
    "ax.imshow(cm, interpolation='nearest', cmap='gray')\n",
    "for i, line in enumerate(cm):\n",
    "    for j, l in enumerate(line):\n",
    "        ax.text(j, i, l, size=20, color='green')\n",
    "ax.set_xticks(range(len(cm)))\n",
    "ax.set_xticklabels(labels)\n",
    "ax.set_yticks(range(len(cm)))\n",
    "ax.set_yticklabels(labels)\n",
    "ax.set_ylabel('True label')\n",
    "ax.set_xlabel('Predicted label')\n",
    "plt.show()"
   ]
  },
  {
   "cell_type": "markdown",
   "metadata": {},
   "source": [
    "### Random Forest Classifier without scaler"
   ]
  },
  {
   "cell_type": "code",
   "execution_count": 44,
   "metadata": {
    "collapsed": false
   },
   "outputs": [
    {
     "name": "stdout",
     "output_type": "stream",
     "text": [
      "finalized_model_RF_100_VGGish.sav\n",
      "0.884984545307\n",
      "finalized_model_RF_200_VGGish.sav\n",
      "0.884008459411\n",
      "finalized_model_RF_500_VGGish.sav\n",
      "0.883357735481\n",
      "finalized_model_RF_1000_VGGish.sav\n",
      "0.88709939808\n"
     ]
    }
   ],
   "source": [
    "params = [100, 200, 500, 1000]\n",
    "\n",
    "for estimators in params:\n",
    "    clf3 = RandomForestClassifier(n_estimators=estimators)\n",
    "\n",
    "    # Fit (=train) the model\n",
    "    clf3.fit(train_features, train_labels)\n",
    "    \n",
    "    # save the model to disk\n",
    "    filename = 'finalized_model_RF_'+str(estimators)+'_VGGish.sav'\n",
    "    print (filename)\n",
    "    joblib.dump(clf3, filename)\n",
    "    \n",
    "    # Now lets predict the labels of the test data!\n",
    "    predictions = clf3.predict(test_features)\n",
    "    # We can use sklearn to compute the accuracy score\n",
    "    accuracy = sklearn.metrics.accuracy_score(test_labels, predictions)\n",
    "    print(accuracy)"
   ]
  },
  {
   "cell_type": "code",
   "execution_count": 15,
   "metadata": {
    "collapsed": false
   },
   "outputs": [
    {
     "data": {
      "text/plain": [
       "RandomForestClassifier(bootstrap=True, class_weight=None, criterion='gini',\n",
       "            max_depth=None, max_features='auto', max_leaf_nodes=None,\n",
       "            min_impurity_split=1e-07, min_samples_leaf=1,\n",
       "            min_samples_split=2, min_weight_fraction_leaf=0.0,\n",
       "            n_estimators=500, n_jobs=1, oob_score=False, random_state=None,\n",
       "            verbose=0, warm_start=False)"
      ]
     },
     "execution_count": 15,
     "metadata": {},
     "output_type": "execute_result"
    }
   ],
   "source": [
    "from sklearn.ensemble import RandomForestClassifier\n",
    "clf3 = RandomForestClassifier(n_estimators=500)\n",
    "\n",
    "# Fit (=train) the model\n",
    "clf3.fit(train_features, train_labels)"
   ]
  },
  {
   "cell_type": "markdown",
   "metadata": {},
   "source": [
    "<h2>Step 4: model evaluation Random Forest Classifier (testing)</h2>"
   ]
  },
  {
   "cell_type": "code",
   "execution_count": 16,
   "metadata": {
    "collapsed": true
   },
   "outputs": [],
   "source": [
    "# Now lets predict the labels of the test data!\n",
    "predictions = clf3.predict(test_features)"
   ]
  },
  {
   "cell_type": "markdown",
   "metadata": {},
   "source": [
    "<h3>Model accuracy</h3>"
   ]
  },
  {
   "cell_type": "code",
   "execution_count": 17,
   "metadata": {
    "collapsed": false
   },
   "outputs": [
    {
     "name": "stdout",
     "output_type": "stream",
     "text": [
      "0.885472588254\n"
     ]
    }
   ],
   "source": [
    "# We can use sklearn to compute the accuracy score\n",
    "accuracy = sklearn.metrics.accuracy_score(test_labels, predictions)\n",
    "print(accuracy)"
   ]
  },
  {
   "cell_type": "markdown",
   "metadata": {},
   "source": [
    "<h3>Confusion matrix</h3>"
   ]
  },
  {
   "cell_type": "code",
   "execution_count": null,
   "metadata": {
    "collapsed": false
   },
   "outputs": [],
   "source": [
    "# lets compute the show the confusion matrix:\n",
    "cm = sklearn.metrics.confusion_matrix(test_labels, predictions)\n",
    "print(cm)"
   ]
  },
  {
   "cell_type": "code",
   "execution_count": null,
   "metadata": {
    "collapsed": false
   },
   "outputs": [],
   "source": [
    "fig, ax = plt.subplots()\n",
    "ax.imshow(cm, interpolation='nearest', cmap='gray')\n",
    "for i, line in enumerate(cm):\n",
    "    for j, l in enumerate(line):\n",
    "        ax.text(j, i, l, size=20, color='green')\n",
    "ax.set_xticks(range(len(cm)))\n",
    "ax.set_xticklabels(labels)\n",
    "ax.set_yticks(range(len(cm)))\n",
    "ax.set_yticklabels(labels)\n",
    "ax.set_ylabel('True label')\n",
    "ax.set_xlabel('Predicted label')\n",
    "plt.show()"
   ]
  },
  {
   "cell_type": "code",
   "execution_count": 11,
   "metadata": {
    "collapsed": false
   },
   "outputs": [
    {
     "name": "stdout",
     "output_type": "stream",
     "text": [
      "[]\n"
     ]
    }
   ],
   "source": [
    "print (test_features)"
   ]
  },
  {
   "cell_type": "markdown",
   "metadata": {
    "collapsed": false
   },
   "source": [
    "### Test on test set"
   ]
  },
  {
   "cell_type": "code",
   "execution_count": 15,
   "metadata": {
    "collapsed": false
   },
   "outputs": [
    {
     "name": "stdout",
     "output_type": "stream",
     "text": [
      "0.834796076407\n"
     ]
    }
   ],
   "source": [
    "# Load scaler (SVM)\n",
    "filename = '../scaler_VGGish.sav' \n",
    "# load the model from disk\n",
    "scaler = joblib.load(filename)\n",
    "\n",
    "# Transform data\n",
    "test_features_scaled = scaler.transform(test_features)\n",
    "\n",
    "# Load trained model (SVM)\n",
    "filename = '../finalized_model_SVM_0.1_VGGish.sav' \n",
    "# load the model from disk\n",
    "clf = joblib.load(filename)\n",
    "\n",
    "# Now lets predict the labels of the test data!\n",
    "predictions = clf.predict(test_features_scaled)\n",
    "\n",
    "# We can use sklearn to compute the accuracy score\n",
    "accuracy = sklearn.metrics.accuracy_score(test_labels, predictions)\n",
    "print(accuracy)"
   ]
  },
  {
   "cell_type": "code",
   "execution_count": 49,
   "metadata": {
    "collapsed": false
   },
   "outputs": [
    {
     "name": "stdout",
     "output_type": "stream",
     "text": [
      "0.830407847186\n"
     ]
    }
   ],
   "source": [
    "# Load trained model (RF)\n",
    "filename = 'finalized_model_RF_1000_VGGish.sav' \n",
    "# load the model from disk\n",
    "clf3 = joblib.load(filename)\n",
    "\n",
    "# Now lets predict the labels of the test data!\n",
    "predictions = clf3.predict(test_features)\n",
    "# We can use sklearn to compute the accuracy score\n",
    "accuracy = sklearn.metrics.accuracy_score(test_labels, predictions)\n",
    "print(accuracy)"
   ]
  },
  {
   "cell_type": "code",
   "execution_count": 36,
   "metadata": {
    "collapsed": false
   },
   "outputs": [
    {
     "name": "stdout",
     "output_type": "stream",
     "text": [
      "0.715023231802\n"
     ]
    }
   ],
   "source": [
    "# Now lets predict the labels of the test data!\n",
    "ones = np.ones(len(predictions))\n",
    "# We can use sklearn to compute the accuracy score\n",
    "accuracy = sklearn.metrics.accuracy_score(test_labels, ones)\n",
    "print(accuracy)"
   ]
  },
  {
   "cell_type": "code",
   "execution_count": null,
   "metadata": {
    "collapsed": true
   },
   "outputs": [],
   "source": []
  }
 ],
 "metadata": {
  "kernelspec": {
   "display_name": "Python 3",
   "language": "python",
   "name": "python3"
  },
  "language_info": {
   "codemirror_mode": {
    "name": "ipython",
    "version": 3
   },
   "file_extension": ".py",
   "mimetype": "text/x-python",
   "name": "python",
   "nbconvert_exporter": "python",
   "pygments_lexer": "ipython3",
   "version": "3.5.3"
  }
 },
 "nbformat": 4,
 "nbformat_minor": 2
}
