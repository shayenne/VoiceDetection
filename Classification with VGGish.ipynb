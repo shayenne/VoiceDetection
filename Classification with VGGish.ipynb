{
 "cells": [
  {
   "cell_type": "code",
   "execution_count": 1,
   "metadata": {
    "collapsed": true
   },
   "outputs": [],
   "source": [
    "# Load the modules we're going to need\n",
    "%matplotlib inline\n",
    "import matplotlib.pyplot as plt\n",
    "import numpy as np\n",
    "import sklearn\n",
    "import os\n",
    "import glob\n",
    "import librosa\n",
    "import pandas as pd# Added\n",
    "from IPython.display import Audio\n",
    "from sklearn.externals import joblib"
   ]
  },
  {
   "cell_type": "code",
   "execution_count": 2,
   "metadata": {
    "collapsed": true
   },
   "outputs": [],
   "source": [
    "# We've previously preprocessed our data and coverted all files to a sample rate of 44100\n",
    "samplerate = 44100"
   ]
  },
  {
   "cell_type": "code",
   "execution_count": 3,
   "metadata": {
    "collapsed": true
   },
   "outputs": [],
   "source": [
    "# Specify where the audio files for training and testing reside\n",
    "train_folder = './train'\n",
    "test_folder = './test'\n",
    "\n",
    "# Get a list of all the training audio files (must be .WAV files)\n",
    "train_files = glob.glob(os.path.join(train_folder, '*.wav'))\n",
    "\n",
    "# Get a list of all the test audio files (must be .WAV files)\n",
    "test_files = glob.glob(os.path.join(test_folder, '*.wav'))\n",
    "\n",
    "# Specify the labels (classes) we're going to classify the data into\n",
    "label0 = 'abscent'\n",
    "label1 = 'present'\n",
    "labels = [label0, label1]"
   ]
  },
  {
   "cell_type": "code",
   "execution_count": 4,
   "metadata": {
    "collapsed": true
   },
   "outputs": [],
   "source": [
    "# Make 1 second summarization as features with half second of hop length\n",
    "# 172 frames == 1 second (using 44100 samples per second)\n",
    "# 166 frames ~ 0.96 second\n",
    "feature_length = 96\n",
    "half_sec = 48"
   ]
  },
  {
   "cell_type": "code",
   "execution_count": 20,
   "metadata": {
    "collapsed": false
   },
   "outputs": [
    {
     "name": "stdout",
     "output_type": "stream",
     "text": [
      "filename: CroqueMadame_Pilot_MIX.wav\n",
      "1001.3541666666666\n",
      "file label size: 1001\n",
      " \n",
      "filename: StevenClark_Bounty_MIX.wav\n",
      "601.0208333333334\n",
      "file label size: 601\n",
      " \n",
      "filename: HezekiahJones_BorrowedHeart_MIX.wav\n",
      "501.2708333333333\n",
      "file label size: 501\n",
      " \n",
      "filename: TheDistricts_Vermont_MIX.wav\n",
      "473.2916666666667\n",
      "file label size: 473\n",
      " \n",
      "filename: NightPanther_Fire_MIX.wav\n",
      "441.7291666666667\n",
      "file label size: 441\n",
      " \n",
      "filename: ClaraBerryAndWooldog_WaltzForMyVictims_MIX.wav\n",
      "363.4583333333333\n",
      "file label size: 363\n",
      " \n",
      "filename: MusicDelta_80sRock_MIX.wav\n",
      "74.89583333333333\n",
      "file label size: 74\n",
      " \n",
      "filename: Auctioneer_OurFutureFaces_MIX.wav\n",
      "431.0625\n",
      "file label size: 431\n",
      " \n",
      "filename: EthanHein_GirlOnABridge_MIX.wav\n",
      "268.9583333333333\n",
      "file label size: 268\n",
      " \n",
      "filename: MusicDelta_Rockabilly_MIX.wav\n",
      "52.041666666666664\n",
      "file label size: 52\n",
      " \n",
      "filename: SecretMountains_HighHorse_MIX.wav\n",
      "738.6041666666666\n",
      "file label size: 738\n",
      " \n",
      "filename: ClaraBerryAndWooldog_Stella_MIX.wav\n",
      "405.7708333333333\n",
      "file label size: 405\n",
      " \n",
      "filename: LizNelson_Coldwar_MIX.wav\n",
      "352.125\n",
      "file label size: 352\n",
      " \n",
      "filename: MatthewEntwistle_TheFlaxenField_MIX.wav\n",
      "671.9791666666666\n",
      "file label size: 671\n",
      " \n",
      "filename: MusicDelta_Britpop_MIX.wav\n",
      "74.625\n",
      "file label size: 74\n",
      " \n",
      "filename: MusicDelta_Reggae_MIX.wav\n",
      "34.354166666666664\n",
      "file label size: 34\n",
      " \n",
      "filename: EthanHein_1930sSynthAndUprightBass_MIX.wav\n",
      "595.9166666666666\n",
      "file label size: 595\n",
      " \n",
      "filename: FacesOnFilm_WaitingForGa_MIX.wav\n",
      "534.7083333333334\n",
      "file label size: 534\n",
      " \n",
      "filename: AlexanderRoss_VelvetCurtain_MIX.wav\n",
      "1069.8333333333333\n",
      "file label size: 1069\n",
      " \n",
      "filename: Mozart_DiesBildnis_MIX.wav\n",
      "475.3333333333333\n",
      "file label size: 475\n",
      " \n",
      "filename: JoelHelander_Definition_MIX.wav\n",
      "487.8958333333333\n",
      "file label size: 487\n",
      " \n",
      "filename: DreamersOfTheGhetto_HeavyLove_MIX.wav\n",
      "612.5416666666666\n",
      "file label size: 612\n",
      " \n",
      "filename: CroqueMadame_Oil_MIX.wav\n",
      "938.2916666666666\n",
      "file label size: 938\n",
      " \n",
      "filename: MusicDelta_Beatles_MIX.wav\n",
      "73.75\n",
      "file label size: 73\n",
      " \n",
      "filename: Meaxic_YouListen_MIX.wav\n",
      "857.7916666666666\n",
      "file label size: 857\n",
      " \n",
      "filename: HopAlong_SisterCities_MIX.wav\n",
      "588.4375\n",
      "file label size: 588\n",
      " \n",
      "filename: MusicDelta_Hendrix_MIX.wav\n",
      "39.3125\n",
      "file label size: 39\n",
      " \n",
      "filename: MatthewEntwistle_ImpressionsOfSaturn_MIX.wav\n",
      "764.0\n",
      "file label size: 764\n",
      " \n",
      "filename: TheScarletBrand_LesFleursDuMal_MIX.wav\n",
      "630.5625\n",
      "file label size: 630\n",
      " \n",
      "filename: PurlingHiss_Lolita_MIX.wav\n",
      "531.7708333333334\n",
      "file label size: 531\n",
      " \n",
      "filename: JoelHelander_IntheAtticBedroom_MIX.wav\n",
      "480.875\n",
      "file label size: 480\n",
      " \n",
      "filename: BrandonWebster_DontHearAThing_MIX.wav\n",
      "355.5833333333333\n",
      "file label size: 355\n",
      " \n",
      "filename: KarimDouaidy_Yatora_MIX.wav\n",
      "431.3125\n",
      "file label size: 431\n",
      " \n",
      "filename: Debussy_LenfantProdigue_MIX.wav\n",
      "463.6666666666667\n",
      "file label size: 463\n",
      " \n",
      "filename: Meaxic_TakeAStep_MIX.wav\n",
      "586.9583333333334\n",
      "file label size: 586\n",
      " \n",
      "filename: JoelHelander_ExcessiveResistancetoChange_MIX.wav\n",
      "519.1875\n",
      "file label size: 519\n",
      " \n",
      "filename: AvaLuna_Waterduct_MIX.wav\n",
      "538.2083333333334\n",
      "file label size: 538\n",
      " \n",
      "filename: LizNelson_Rainfall_MIX.wav\n",
      "591.5416666666666\n",
      "file label size: 591\n",
      " \n",
      "filename: ClaraBerryAndWooldog_TheBadGuys_MIX.wav\n",
      "528.5625\n",
      "file label size: 528\n",
      " \n",
      "filename: EthanHein_HarmonicaFigure_MIX.wav\n",
      "312.4583333333333\n",
      "file label size: 312\n",
      " \n",
      "filename: MusicDelta_Disco_MIX.wav\n",
      "257.9375\n",
      "file label size: 257\n",
      " \n",
      "filename: AimeeNorwich_Flying_MIX.wav\n",
      "451.7291666666667\n",
      "file label size: 451\n",
      " \n",
      "filename: MusicDelta_Punk_MIX.wav\n",
      "57.895833333333336\n",
      "file label size: 57\n",
      " \n",
      "filename: HeladoNegro_MitadDelMundo_MIX.wav\n",
      "376.8333333333333\n",
      "file label size: 376\n",
      " \n",
      "filename: BrandonWebster_YesSirICanFly_MIX.wav\n",
      "205.5625\n",
      "file label size: 205\n",
      " \n",
      "filename: ClaraBerryAndWooldog_AirTraffic_MIX.wav\n",
      "359.3333333333333\n",
      "file label size: 359\n",
      " \n",
      "filename: Creepoid_OldTree_MIX.wav\n",
      "627.5833333333334\n",
      "file label size: 627\n",
      " \n",
      "filename: EthanHein_BluesForNofi_MIX.wav\n",
      "345.4791666666667\n",
      "file label size: 345\n",
      " \n",
      "filename: ClaraBerryAndWooldog_Boys_MIX.wav\n",
      "317.7291666666667\n",
      "file label size: 317\n",
      " \n",
      "filename: AClassicEducation_NightOwl_MIX.wav\n",
      "355.1458333333333\n",
      "file label size: 355\n",
      " \n",
      "filename: Schubert_Erstarrung_MIX.wav\n",
      "360.25\n",
      "file label size: 360\n",
      " \n",
      "filename: KarimDouaidy_Hopscotch_MIX.wav\n",
      "610.4791666666666\n",
      "file label size: 610\n",
      " \n",
      "filename: MatthewEntwistle_TheArch_MIX.wav\n",
      "552.4375\n",
      "file label size: 552\n",
      " \n",
      "filename: LizNelson_ImComingHome_MIX.wav\n",
      "372.3541666666667\n",
      "file label size: 372\n",
      " \n",
      "filename: FamilyBand_Again_MIX.wav\n",
      "417.3333333333333\n",
      "file label size: 417\n",
      " \n",
      "filename: MatthewEntwistle_FairerHopes_MIX.wav\n",
      "623.9583333333334\n",
      "file label size: 623\n",
      " \n",
      "filename: TheSoSoGlos_Emergency_MIX.wav\n",
      "345.8958333333333\n",
      "file label size: 345\n",
      " \n",
      "filename: AlexanderRoss_GoodbyeBolero_MIX.wav\n",
      "870.5208333333334\n",
      "file label size: 870\n",
      " \n"
     ]
    }
   ],
   "source": [
    "# Define lists to store the training features and corresponding training labels\n",
    "train_features = []\n",
    "train_labels = []\n",
    "\n",
    "# For every audio file in the training set, load the file, compute MFCCs, summarize them over time\n",
    "# using the mean and standard deviation (for each MFCC coefficient), and then save the features\n",
    "# and corresponding label in the designated lists\n",
    "for tf in train_files:\n",
    "    \n",
    "    print(\"filename: {:s}\".format(os.path.basename(tf)))\n",
    "    \n",
    "    # Load VGGish audio embeddings\n",
    "    vggish = pd.read_csv(tf[:-7]+\"VGGish.csv\",index_col=None, header=None)\n",
    "    vggish = pd.DataFrame.as_matrix(vggish)\n",
    "    \n",
    "    # Read labels for each frame\n",
    "    f0line = pd.read_csv(tf[:-7]+\"vocal.csv\",index_col=None, header=None)\n",
    "    f0line = pd.DataFrame.as_matrix(f0line)\n",
    "    f0line = f0line.T[0][48:] # VGGish starts from 0.48 second\n",
    "    \n",
    "    #print (vggish)\n",
    "    #print (mfcc.shape)\n",
    "    #print(\"number of chunks\", int(mfcc.shape[1]/half_sec))\n",
    "    \n",
    "    feature_vector = []\n",
    "    tf_label = []\n",
    "    \n",
    "    print (vggish.shape[0]/half_sec)\n",
    "    \n",
    "    for chunk in range(int(vggish.shape[0]/half_sec)):\n",
    "        start = chunk*half_sec\n",
    "        vggish_means = np.mean(vggish[start:start+feature_length, :], 0)\n",
    "        vggish_stddevs = np.std(vggish[start:start+feature_length, :], 0)\n",
    "        #print (vggish_means.shape, start, start+feature_length)\n",
    "    \n",
    "        # Concatenate means and std. dev's into a single feature vector\n",
    "        feature_vector.append(np.concatenate((vggish_means, vggish_stddevs), axis=0))\n",
    "        #print (np.concatenate((vggish_means, vggish_stddevs), axis=0))\n",
    "   \n",
    "        # Adjust labels to our classes\n",
    "        if len([x for x in f0line[start:start+feature_length] if x > 0]) > half_sec/2:\n",
    "            tf_label.append('present')\n",
    "        else:\n",
    "            tf_label.append('abscent')\n",
    "\n",
    "    # Get labels index\n",
    "    tf_label_ind = [labels.index(lbl) for lbl in tf_label]\n",
    "    print(\"file label size: {:d}\".format(len(tf_label_ind)))\n",
    "    \n",
    "    # Store the feature vector and corresponding label in integer format\n",
    "    for idx in range(len(feature_vector)):\n",
    "        train_features.append(feature_vector[idx])\n",
    "        train_labels.append(tf_label_ind[idx]) \n",
    "    print(\" \")"
   ]
  },
  {
   "cell_type": "code",
   "execution_count": 24,
   "metadata": {
    "collapsed": false
   },
   "outputs": [
    {
     "name": "stdout",
     "output_type": "stream",
     "text": [
      "filename: MusicDelta_InTheHalloftheMountainKing_MIX.wav\n",
      "1647\n",
      "file label size: (34,)\n",
      " \n",
      "filename: MusicDelta_GriegTrolltog_MIX.wav\n",
      "6753\n",
      "file label size: (140,)\n",
      " \n",
      "filename: Mozart_BesterJungling_MIX.wav\n",
      "17317\n",
      "file label size: (360,)\n",
      " \n",
      "filename: Handel_TornamiAVagheggiar_MIX.wav\n",
      "22203\n",
      "file label size: (462,)\n",
      " \n",
      "filename: MatthewEntwistle_Lontano_MIX.wav\n",
      "29703\n",
      "file label size: (618,)\n",
      " \n",
      "filename: AmarLal_SpringDay1_MIX.wav\n",
      "13295\n",
      "file label size: (276,)\n",
      " \n",
      "filename: MusicDelta_Country2_MIX.wav\n",
      "1648\n",
      "file label size: (34,)\n",
      " \n",
      "filename: Grants_PunchDrunk_MIX.wav\n",
      "20363\n",
      "file label size: (424,)\n",
      " \n",
      "filename: ChrisJacoby_PigsFoot_MIX.wav\n",
      "36614\n",
      "file label size: (762,)\n",
      " \n",
      "filename: MusicDelta_Grunge_MIX.wav\n",
      "4088\n",
      "file label size: (85,)\n",
      " \n",
      "filename: MatthewEntwistle_DontYouEver_MIX.wav\n",
      "11305\n",
      "file label size: (235,)\n",
      " \n",
      "filename: MusicDelta_Country1_MIX.wav\n",
      "3377\n",
      "file label size: (70,)\n",
      " \n",
      "filename: Lushlife_ToynbeeSuite_MIX.wav\n",
      "62759\n",
      "file label size: (1307,)\n",
      " \n",
      "filename: SweetLights_YouLetMeDown_MIX.wav\n",
      "39101\n",
      "file label size: (814,)\n",
      " \n",
      "filename: AmarLal_Rest_MIX.wav\n",
      "18345\n",
      "file label size: (382,)\n",
      " \n",
      "filename: MusicDelta_SwingJazz_MIX.wav\n",
      "8854\n",
      "file label size: (184,)\n",
      " \n",
      "filename: Wolf_DieBekherte_MIX.wav\n",
      "18787\n",
      "file label size: (391,)\n",
      " \n",
      "filename: BigTroubles_Phantom_MIX.wav\n",
      "14597\n",
      "file label size: (304,)\n",
      " \n",
      "filename: ChrisJacoby_BoothShotLincoln_MIX.wav\n",
      "25460\n",
      "file label size: (530,)\n",
      " \n",
      "filename: MusicDelta_Gospel_MIX.wav\n",
      "7477\n",
      "file label size: (155,)\n",
      " \n",
      "filename: Schumann_Mignon_MIX.wav\n",
      "26187\n",
      "file label size: (545,)\n",
      " \n",
      "filename: AimeeNorwich_Child_MIX.wav\n",
      "18830\n",
      "file label size: (392,)\n",
      " \n",
      "filename: PortStWillow_StayEven_MIX.wav\n",
      "31604\n",
      "file label size: (658,)\n",
      " \n",
      "filename: StrandOfOaks_Spacestation_MIX.wav\n",
      "24289\n",
      "file label size: (506,)\n",
      " \n",
      "filename: MusicDelta_ModalJazz_MIX.wav\n",
      "10281\n",
      "file label size: (214,)\n",
      " \n",
      "filename: MusicDelta_Rock_MIX.wav\n",
      "1212\n",
      "file label size: (25,)\n",
      " \n",
      "filename: InvisibleFamiliars_DisturbingWildlife_MIX.wav\n",
      "21772\n",
      "file label size: (453,)\n",
      " \n",
      "filename: Snowmine_Curfews_MIX.wav\n",
      "27422\n",
      "file label size: (571,)\n",
      " \n",
      "filename: CelestialShore_DieForUs_MIX.wav\n",
      "27770\n",
      "file label size: (578,)\n",
      " \n"
     ]
    }
   ],
   "source": [
    "# Define lists to store the test features and corresponding test labels\n",
    "test_features = []\n",
    "test_labels = []\n",
    "\n",
    "# For every audio file in the training set, load the file, compute MFCCs, summarize them over time\n",
    "# using the mean and standard deviation (for each MFCC coefficient), and then save the features\n",
    "# and corresponding label in the designated lists\n",
    "for tf in test_files:\n",
    "    \n",
    "    print(\"filename: {:s}\".format(os.path.basename(tf)))\n",
    "    \n",
    "    # Load VGGish audio embeddings\n",
    "    vggish = pd.read_csv(tf[:-7]+\"VGGish.csv\",index_col=None, header=None)\n",
    "    vggish = pd.DataFrame.as_matrix(vggish)\n",
    "    \n",
    "    # Read labels for each frame\n",
    "    f0line = pd.read_csv(tf[:-7]+\"vocal.csv\",index_col=None, header=None)\n",
    "    f0line = pd.DataFrame.as_matrix(f0line)\n",
    "    f0line = f0line.T[0][48:] # VGGish starts from 0\n",
    "    \n",
    "    #print (mfcc.shape)\n",
    "    #print(\"number of chunks\", int(mfcc.shape[1]/half_sec))\n",
    "    \n",
    "    feature_vector = []\n",
    "    tf_label = []\n",
    "    \n",
    "    print (vggish.shape[0])\n",
    "    \n",
    "    for chunk in range(int(vggish.shape[0]/half_sec)):\n",
    "        start = chunk*half_sec\n",
    "        vggish_means = np.mean(vggish[start:start+feature_length, :], 0)\n",
    "        vggish_stddevs = np.std(vggish[start:start+feature_length, :], 0)\n",
    "        #print (vggish_means.shape, start, start+feature_length)\n",
    "    \n",
    "        # Concatenate means and std. dev's into a single feature vector\n",
    "        feature_vector.append(np.concatenate((vggish_means, vggish_stddevs), axis=0))\n",
    "   \n",
    "        # Adjust labels to our classes\n",
    "        if len([x for x in f0line[start:start+feature_length] if x > 0]) > half_sec/2:\n",
    "            tf_label.append('present')\n",
    "        else:\n",
    "            tf_label.append('abscent')\n",
    "    \n",
    "    #Get labels index\n",
    "    tf_label_ind = np.array([labels.index(lbl) for lbl in tf_label])\n",
    "    print(\"file label size: {}\".format(tf_label_ind.shape))\n",
    "    \n",
    "    \n",
    "    # Store the feature vector and corresponding label in integer format\n",
    "    for idx in range(len(feature_vector)):\n",
    "        test_features.append(feature_vector[idx])\n",
    "        test_labels.append(tf_label_ind[idx])\n",
    "    print(\" \")"
   ]
  },
  {
   "cell_type": "code",
   "execution_count": 21,
   "metadata": {
    "collapsed": false
   },
   "outputs": [],
   "source": [
    "# Create a scale object\n",
    "scaler = sklearn.preprocessing.StandardScaler()\n",
    "\n",
    "# Learn the parameters from the training data only\n",
    "scaler.fit(train_features)\n",
    "\n",
    "# Apply the learned parameters to the training and test sets:\n",
    "train_features_scaled = scaler.transform(train_features)"
   ]
  },
  {
   "cell_type": "code",
   "execution_count": 25,
   "metadata": {
    "collapsed": false
   },
   "outputs": [],
   "source": [
    "test_features_scaled = scaler.transform(test_features)\n",
    "\n",
    "# Note, the first 2 operations (learning the standardization parameters from the training data \n",
    "# and applying them to the the training data) can be performed in one line using:\n",
    "# train_features_scaled = scaler.fit_transform(train_features)"
   ]
  },
  {
   "cell_type": "code",
   "execution_count": 23,
   "metadata": {
    "collapsed": false
   },
   "outputs": [
    {
     "data": {
      "text/plain": [
       "['scaler_VGGish.sav']"
      ]
     },
     "execution_count": 23,
     "metadata": {},
     "output_type": "execute_result"
    }
   ],
   "source": [
    "# save the scaler to disk\n",
    "filename = 'scaler_VGGish.sav'\n",
    "joblib.dump(scaler, filename)"
   ]
  },
  {
   "cell_type": "markdown",
   "metadata": {},
   "source": [
    "<h2> Step 3: model training</h2>\n",
    "\n",
    "Now that all of our features are computed, we can train a clasification model! In this example we're going to use the following model: the support vector machine classifier. "
   ]
  },
  {
   "cell_type": "code",
   "execution_count": 26,
   "metadata": {
    "collapsed": false
   },
   "outputs": [
    {
     "data": {
      "text/plain": [
       "SVC(C=1.0, cache_size=200, class_weight=None, coef0=0.0,\n",
       "  decision_function_shape=None, degree=3, gamma='auto', kernel='rbf',\n",
       "  max_iter=-1, probability=False, random_state=None, shrinking=True,\n",
       "  tol=0.001, verbose=False)"
      ]
     },
     "execution_count": 26,
     "metadata": {},
     "output_type": "execute_result"
    }
   ],
   "source": [
    "# Use scikit-learn to train a model with the training features we've extracted\n",
    "\n",
    "# Lets use a SVC with default parameters: kernel RBF \n",
    "clf = sklearn.svm.SVC()\n",
    "\n",
    "# Fit (=train) the model\n",
    "clf.fit(train_features_scaled, train_labels)"
   ]
  },
  {
   "cell_type": "code",
   "execution_count": 27,
   "metadata": {
    "collapsed": false
   },
   "outputs": [
    {
     "data": {
      "text/plain": [
       "['finalized_model_VGGish.sav']"
      ]
     },
     "execution_count": 27,
     "metadata": {},
     "output_type": "execute_result"
    }
   ],
   "source": [
    "# save the model to disk\n",
    "filename = 'finalized_model_VGGish.sav'\n",
    "joblib.dump(clf, filename)"
   ]
  },
  {
   "cell_type": "code",
   "execution_count": 28,
   "metadata": {
    "collapsed": true
   },
   "outputs": [],
   "source": [
    "# Now lets predict the labels of the test data!\n",
    "predictions = clf.predict(train_features_scaled)"
   ]
  },
  {
   "cell_type": "code",
   "execution_count": 29,
   "metadata": {
    "collapsed": false
   },
   "outputs": [
    {
     "name": "stdout",
     "output_type": "stream",
     "text": [
      "0.975085273617\n"
     ]
    }
   ],
   "source": [
    "# We can use sklearn to compute the accuracy score\n",
    "accuracy = sklearn.metrics.accuracy_score(train_labels, predictions)\n",
    "print(accuracy)"
   ]
  },
  {
   "cell_type": "code",
   "execution_count": 31,
   "metadata": {
    "collapsed": false
   },
   "outputs": [
    {
     "name": "stdout",
     "output_type": "stream",
     "text": [
      "[[14033   199]\n",
      " [  473 12267]]\n"
     ]
    }
   ],
   "source": [
    "# lets compute the show the confusion matrix:\n",
    "cm = sklearn.metrics.confusion_matrix(train_labels, predictions)\n",
    "print(cm)"
   ]
  },
  {
   "cell_type": "code",
   "execution_count": 32,
   "metadata": {
    "collapsed": false
   },
   "outputs": [
    {
     "data": {
      "image/png": "[encoded data removed]",
      "text/plain": [
       "<matplotlib.figure.Figure at 0x7f6173999d30>"
      ]
     },
     "metadata": {},
     "output_type": "display_data"
    }
   ],
   "source": [
    "fig, ax = plt.subplots()\n",
    "ax.imshow(cm, interpolation='nearest', cmap='gray')\n",
    "for i, line in enumerate(cm):\n",
    "    for j, l in enumerate(line):\n",
    "        ax.text(j, i, l, size=20, color='green')\n",
    "ax.set_xticks(range(len(cm)))\n",
    "ax.set_xticklabels(labels)\n",
    "ax.set_yticks(range(len(cm)))\n",
    "ax.set_yticklabels(labels)\n",
    "ax.set_ylabel('True label')\n",
    "ax.set_xlabel('Predicted label')\n",
    "plt.show()"
   ]
  },
  {
   "cell_type": "markdown",
   "metadata": {},
   "source": [
    "### Random Forest Classifier without scaler"
   ]
  },
  {
   "cell_type": "code",
   "execution_count": null,
   "metadata": {
    "collapsed": false
   },
   "outputs": [],
   "source": [
    "from sklearn.ensemble import RandomForestClassifier\n",
    "clf3 = RandomForestClassifier(n_estimators=500)\n",
    "\n",
    "# Fit (=train) the model\n",
    "clf3.fit(train_features, train_labels)"
   ]
  },
  {
   "cell_type": "markdown",
   "metadata": {},
   "source": [
    "<h2>Step 4: model evaluation Random Forest Classifier (testing)</h2>"
   ]
  },
  {
   "cell_type": "code",
   "execution_count": null,
   "metadata": {
    "collapsed": true
   },
   "outputs": [],
   "source": [
    "# Now lets predict the labels of the test data!\n",
    "predictions = clf3.predict(test_features)"
   ]
  },
  {
   "cell_type": "markdown",
   "metadata": {},
   "source": [
    "<h3>Model accuracy</h3>"
   ]
  },
  {
   "cell_type": "code",
   "execution_count": null,
   "metadata": {
    "collapsed": false
   },
   "outputs": [],
   "source": [
    "# We can use sklearn to compute the accuracy score\n",
    "accuracy = sklearn.metrics.accuracy_score(test_labels, predictions)\n",
    "print(accuracy)"
   ]
  },
  {
   "cell_type": "markdown",
   "metadata": {},
   "source": [
    "<h3>Confusion matrix</h3>"
   ]
  },
  {
   "cell_type": "code",
   "execution_count": null,
   "metadata": {
    "collapsed": false
   },
   "outputs": [],
   "source": [
    "# lets compute the show the confusion matrix:\n",
    "cm = sklearn.metrics.confusion_matrix(test_labels, predictions)\n",
    "print(cm)"
   ]
  },
  {
   "cell_type": "code",
   "execution_count": null,
   "metadata": {
    "collapsed": false
   },
   "outputs": [],
   "source": [
    "fig, ax = plt.subplots()\n",
    "ax.imshow(cm, interpolation='nearest', cmap='gray')\n",
    "for i, line in enumerate(cm):\n",
    "    for j, l in enumerate(line):\n",
    "        ax.text(j, i, l, size=20, color='green')\n",
    "ax.set_xticks(range(len(cm)))\n",
    "ax.set_xticklabels(labels)\n",
    "ax.set_yticks(range(len(cm)))\n",
    "ax.set_yticklabels(labels)\n",
    "ax.set_ylabel('True label')\n",
    "ax.set_xlabel('Predicted label')\n",
    "plt.show()"
   ]
  },
  {
   "cell_type": "code",
   "execution_count": null,
   "metadata": {
    "collapsed": false
   },
   "outputs": [],
   "source": []
  },
  {
   "cell_type": "code",
   "execution_count": null,
   "metadata": {
    "collapsed": true
   },
   "outputs": [],
   "source": []
  }
 ],
 "metadata": {
  "kernelspec": {
   "display_name": "Python 3",
   "language": "python",
   "name": "python3"
  },
  "language_info": {
   "codemirror_mode": {
    "name": "ipython",
    "version": 3
   },
   "file_extension": ".py",
   "mimetype": "text/x-python",
   "name": "python",
   "nbconvert_exporter": "python",
   "pygments_lexer": "ipython3",
   "version": "3.5.3"
  }
 },
 "nbformat": 4,
 "nbformat_minor": 2
}
