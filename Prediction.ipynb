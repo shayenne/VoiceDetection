{
 "cells": [
  {
   "cell_type": "code",
   "execution_count": 1,
   "metadata": {
    "collapsed": true
   },
   "outputs": [],
   "source": [
    "# Load the modules we're going to need\n",
    "%matplotlib inline\n",
    "import matplotlib.pyplot as plt\n",
    "import numpy as np\n",
    "import sklearn\n",
    "import os\n",
    "import glob\n",
    "import librosa\n",
    "import pandas as pd# Added\n",
    "from IPython.display import Audio\n",
    "from sklearn.externals import joblib\n",
    "import mir_eval"
   ]
  },
  {
   "cell_type": "code",
   "execution_count": 2,
   "metadata": {
    "collapsed": true
   },
   "outputs": [],
   "source": [
    "# We've previously preprocessed our data and coverted all files to a sample rate of 44100\n",
    "samplerate = 44100"
   ]
  },
  {
   "cell_type": "code",
   "execution_count": 14,
   "metadata": {
    "collapsed": true
   },
   "outputs": [],
   "source": [
    "# Specify where the audio files for training and testing reside\n",
    "train_folder = './mir_class_train'\n",
    "test_folder = './mir_class_test'\n",
    "\n",
    "# Get a list of all the training audio files (must be .WAV files)\n",
    "train_files = glob.glob(os.path.join(train_folder, '*.wav'))\n",
    "\n",
    "# Get a list of all the test audio files (must be .WAV files)\n",
    "test_files = glob.glob(os.path.join(test_folder, '*.wav'))\n",
    "\n",
    "# Specify the labels (classes) we're going to classify the data into\n",
    "label0 = 'abscent'\n",
    "label1 = 'present'\n",
    "labels = [label0, label1]"
   ]
  },
  {
   "cell_type": "code",
   "execution_count": 4,
   "metadata": {
    "collapsed": true
   },
   "outputs": [],
   "source": [
    "window_size = 2048\n",
    "hop_size = 512\n",
    "n_bands = 40\n",
    "n_mfcc = 13\n",
    "feature_length = 96\n",
    "half_sec = 48"
   ]
  },
  {
   "cell_type": "code",
   "execution_count": 63,
   "metadata": {
    "collapsed": true
   },
   "outputs": [],
   "source": [
    "def print_labels(vec_orig, vec_calc, title):\n",
    "    \"\"\" Receive two vocal/unvocal arrays with different size and plot them normalized\"\"\"\n",
    "    orig = vec_orig.copy()\n",
    "    orig[vec_orig>0] = 1\n",
    "    orig[vec_orig<=0] = None\n",
    "\n",
    "    calc = vec_calc.copy()\n",
    "    calc[vec_calc>0] = 1\n",
    "    calc[vec_calc<=0] = None\n",
    "\n",
    "    x1 = np.linspace(0, 1, len(orig))\n",
    "    x2 = np.linspace(0, 1, len(calc))\n",
    "    \n",
    "    plt.figure(figsize=(12,4))\n",
    "    plt.title(title)\n",
    "    plt.plot(x1, orig, linewidth=6, solid_capstyle='round', label='Original')\n",
    "    plt.plot(x2, calc, linewidth=3, solid_capstyle='round', label='Calculated')\n",
    "    plt.legend()\n",
    "    plt.show()"
   ]
  },
  {
   "cell_type": "markdown",
   "metadata": {},
   "source": [
    "### Predicting with MFCC (SVM)"
   ]
  },
  {
   "cell_type": "code",
   "execution_count": 137,
   "metadata": {
    "collapsed": false
   },
   "outputs": [
    {
     "name": "stdout",
     "output_type": "stream",
     "text": [
      "filename: PortStWillow_StayEven_MIX.wav\n",
      "mfcc shape 27306\n",
      "number of chunks 568\n",
      "file label size: 568\n",
      " \n"
     ]
    }
   ],
   "source": [
    "# Test file name\n",
    "tf = \"../exp1/test/PortStWillow_StayEven_MIX.wav\"\n",
    "\n",
    "test_feat =[]\n",
    "test_labels = []\n",
    "print(\"filename: {:s}\".format(os.path.basename(tf)))\n",
    "    \n",
    "# Load audio\n",
    "audio, sr = librosa.load(tf, sr=samplerate, mono=True)\n",
    "\n",
    "    # Extract mfcc coefficients (remember we will discard the first one)\n",
    "    # To see all the relevant kwarg arugments consult the documentation for\n",
    "    # librosa.feature.mfcc, librosa.feature.melspectrogram and librosa.filters.mel\n",
    "\n",
    "mfcc = librosa.feature.mfcc(audio, sr=sr, n_fft=window_size, hop_length=hop_size,\n",
    "                                fmax=samplerate/2, n_mels=n_bands, n_mfcc=(n_mfcc + 1))\n",
    "          \n",
    "    # Discard the first coefficient\n",
    "mfcc = mfcc[1:,:]\n",
    "    \n",
    "print(\"mfcc shape\", int(mfcc.shape[1]))\n",
    "    \n",
    "    # Read labels for each frame\n",
    "f0line = pd.read_csv(tf[:-7]+\"vocal.csv\",index_col=None, header=None)\n",
    "f0line = pd.DataFrame.as_matrix(f0line)\n",
    "f0line = f0line.T[0]\n",
    "    #timestamp = pd.DataFrame.as_matrix(f0line)[:,0]\n",
    "    \n",
    "    #print (mfcc.shape)\n",
    "print(\"number of chunks\", int(mfcc.shape[1]/half_sec))\n",
    "    \n",
    "feature_vector = []\n",
    "tf_label = []\n",
    "    \n",
    "    # Delta features \n",
    "mfcc_delta = librosa.feature.delta(mfcc)\n",
    "mfcc_delta2 = librosa.feature.delta(mfcc, order=2)\n",
    "    \n",
    "    # For half second\n",
    "for chunk in range(int(mfcc.shape[1]/half_sec)):\n",
    "    start = chunk*half_sec\n",
    "    mfcc_means = np.mean(mfcc[:,start:start+feature_length], 1)\n",
    "    mfcc_stddevs = np.std(mfcc[:,start:start+feature_length], 1)\n",
    "    mfcc_max = np.max(mfcc[:,start:start+feature_length], 1)\n",
    "    mfcc_median = np.median(mfcc[:,start:start+feature_length], 1)\n",
    "    mfcc_d1_means = np.mean(mfcc_delta[:,start:start+feature_length], 1)\n",
    "    mfcc_d1_stddevs = np.std(mfcc_delta[:,start:start+feature_length], 1)\n",
    "    mfcc_d2_means = np.mean(mfcc_delta2[:,start:start+feature_length], 1)\n",
    "    mfcc_d2_stddevs = np.std(mfcc_delta2[:,start:start+feature_length], 1)\n",
    "        \n",
    "    \n",
    "        # We could do the same for the delta features like this:\n",
    "        # mfcc_d1_means = np.mean(np.diff(mfcc), 1)\n",
    "        # mfcc_d1_stddevs = np.std(np.diff(mfcc), 1)\n",
    "    \n",
    "        # Concatenate means and std. dev's into a single feature vector\n",
    "    feature_vector.append(np.concatenate((mfcc_means, mfcc_stddevs, mfcc_max, mfcc_median,\\\n",
    "                                              mfcc_d1_means, mfcc_d1_stddevs, mfcc_d2_means, mfcc_d2_stddevs\\\n",
    "                                             ), axis=0))\n",
    "        #print(\"feature summary: {}\".format(len(feature_vector)))\n",
    "   \n",
    "        # Adjust labels to our classes\n",
    "    if len([x for x in f0line[start:start+feature_length] if x > 0]) >= 2*half_sec: # Get 100% of frames\n",
    "        tf_label.append('present')\n",
    "    else:\n",
    "        tf_label.append('abscent')\n",
    "       \n",
    "\n",
    "# Get labels index\n",
    "tf_label_ind = [labels.index(lbl) for lbl in tf_label]\n",
    "print(\"file label size: {:d}\".format(len(tf_label_ind)))\n",
    "    \n",
    "# Store the feature vector and corresponding label in integer format\n",
    "for idx in range(len(feature_vector)):\n",
    "    test_feat.append(feature_vector[idx])\n",
    "    test_labels.append(tf_label_ind[idx]) \n",
    "print(\" \")"
   ]
  },
  {
   "cell_type": "code",
   "execution_count": 138,
   "metadata": {
    "collapsed": false
   },
   "outputs": [],
   "source": [
    "# some time later...\n",
    "filename = '../finalized_model_SVM_0.1.sav' \n",
    "# load the model from disk\n",
    "clf = joblib.load(filename)\n",
    "\n",
    "filename = '../scaler.sav' \n",
    "# load the model from disk\n",
    "scaler = joblib.load(filename)\n",
    "#result = loaded_model.score(X_test, Y_test)\n",
    "#print(result)"
   ]
  },
  {
   "cell_type": "code",
   "execution_count": 139,
   "metadata": {
    "collapsed": true
   },
   "outputs": [],
   "source": [
    "feat_scaler = scaler.transform(test_feat)\n",
    "output = clf.predict(feat_scaler)\n",
    "origin = test_labels\n",
    "\n",
    "origin = np.array(origin)\n",
    "output = np.array(output)"
   ]
  },
  {
   "cell_type": "code",
   "execution_count": 140,
   "metadata": {
    "collapsed": false
   },
   "outputs": [
    {
     "name": "stdout",
     "output_type": "stream",
     "text": [
      "Recall 0.854545454545 False Alarme 0.885245901639\n"
     ]
    }
   ],
   "source": [
    "R, FA = mir_eval.melody.voicing_measures(origin, output)\n",
    "print (\"Recall\", R, \"False Alarme\", FA)"
   ]
  },
  {
   "cell_type": "code",
   "execution_count": 141,
   "metadata": {
    "collapsed": false
   },
   "outputs": [
    {
     "data": {
      "image/png": "[encoded data removed]",
      "text/plain": [
       "<matplotlib.figure.Figure at 0x7f1c32590eb8>"
      ]
     },
     "metadata": {},
     "output_type": "display_data"
    }
   ],
   "source": [
    "print_labels(np.array(origin).astype('float'), np.array(output).astype('float'),\\\n",
    "            'Singing Voice Detection (MFCC): '+os.path.basename(tf))"
   ]
  },
  {
   "cell_type": "markdown",
   "metadata": {},
   "source": [
    "### Predicting with VGGish (SVM)"
   ]
  },
  {
   "cell_type": "code",
   "execution_count": 142,
   "metadata": {
    "collapsed": false
   },
   "outputs": [
    {
     "name": "stdout",
     "output_type": "stream",
     "text": [
      "filename: PortStWillow_StayEven_MIX.wav\n",
      "659\n",
      "file label size: (659,)\n",
      " \n"
     ]
    }
   ],
   "source": [
    "test_feat =[]\n",
    "test_labels = []\n",
    "\n",
    "print(\"filename: {:s}\".format(os.path.basename(tf)))\n",
    "   \n",
    "# Load VGGish audio embeddings\n",
    "\n",
    "vggish = pd.read_csv(tf[:-7]+\"VGGish_PCA.csv\",index_col=None, header=None)\n",
    "vggish = pd.DataFrame.as_matrix(vggish)\n",
    "\n",
    "\n",
    "\n",
    "# Read labels for each frame\n",
    "f0line = pd.read_csv(tf[:-7]+\"vocal.csv\",index_col=None, header=None)\n",
    "f0line = pd.DataFrame.as_matrix(f0line)\n",
    "f0line = f0line.T[0][48:] # VGGish starts from 0\n",
    "    \n",
    "\n",
    "    \n",
    "feature_vector = []\n",
    "tf_label = []\n",
    "    \n",
    "print (vggish.shape[0])\n",
    "    \n",
    "\n",
    "for chunk in range(vggish.shape[0]): # if hop = 10ms then use: range(int(vggish.shape[0]/half_sec)):\n",
    "\n",
    "    start = chunk*half_sec\n",
    "    \n",
    "    #vggish_means = np.mean(vggish[start:start+1, :], 0) # I removed the smooth to get only one window\n",
    "    \n",
    "    #vggish_stddevs = np.std(vggish[start:start+1, :], 0)\n",
    "        #print (vggish_means.shape, start, start+feature_length)\n",
    "    \n",
    "        # Concatenate means and std. dev's into a single feature vector\n",
    "        #feature_vector.append(np.concatenate((vggish_means, vggish_stddevs), axis=0))\n",
    "    \n",
    "    #if hop = 10ms then use:feature_vector.append(vggish[start, :][0])\n",
    "    \n",
    "    feature_vector.append(vggish[chunk, :])\n",
    "        \n",
    "        #print(feature_vector)\n",
    "        \n",
    "        # Adjust labels to our classes\n",
    "    \n",
    "    if len([x for x in f0line[start:start+feature_length] if x > 0]) >= half_sec: # 50%\n",
    "    \n",
    "        tf_label.append('present')\n",
    "        \n",
    "    else:\n",
    "    \n",
    "        tf_label.append('abscent')\n",
    "\n",
    "    \n",
    "    #Get labels index\n",
    "tf_label_ind = np.array([labels.index(lbl) for lbl in tf_label])\n",
    "print(\"file label size: {}\".format(tf_label_ind.shape))\n",
    "    \n",
    "    \n",
    "    # Store the feature vector and corresponding label in integer format\n",
    "\n",
    "for idx in range(len(feature_vector)):\n",
    "\n",
    "    test_feat.append(feature_vector[idx])\n",
    "    test_labels.append(tf_label_ind[idx])\n",
    "print(\" \")"
   ]
  },
  {
   "cell_type": "code",
   "execution_count": 143,
   "metadata": {
    "collapsed": true
   },
   "outputs": [],
   "source": [
    "# some time later...\n",
    "filename = '../finalized_model_SVM_0.1_VGGish.sav' \n",
    "# load the model from disk\n",
    "clf2 = joblib.load(filename)\n",
    "\n",
    "filename = '../scaler_VGGish.sav' \n",
    "# load the model from disk\n",
    "scaler = joblib.load(filename)\n",
    "#result = loaded_model.score(X_test, Y_test)\n",
    "#print(result)"
   ]
  },
  {
   "cell_type": "code",
   "execution_count": 144,
   "metadata": {
    "collapsed": false
   },
   "outputs": [],
   "source": [
    "feat_scaler = scaler.transform(test_feat)\n",
    "output = clf2.predict(feat_scaler)\n",
    "origin = test_labels"
   ]
  },
  {
   "cell_type": "code",
   "execution_count": 145,
   "metadata": {
    "collapsed": true
   },
   "outputs": [],
   "source": [
    "origin = np.array(origin)\n",
    "output = np.array(output)"
   ]
  },
  {
   "cell_type": "code",
   "execution_count": 146,
   "metadata": {
    "collapsed": false
   },
   "outputs": [
    {
     "name": "stdout",
     "output_type": "stream",
     "text": [
      "Recall 0.911392405063 False Alarme 0.189189189189\n"
     ]
    }
   ],
   "source": [
    "R, FA = mir_eval.melody.voicing_measures(origin, output)\n",
    "print (\"Recall\", R, \"False Alarme\", FA)"
   ]
  },
  {
   "cell_type": "code",
   "execution_count": 147,
   "metadata": {
    "collapsed": false
   },
   "outputs": [
    {
     "data": {
      "image/png": "[encoded data removed]",
      "text/plain": [
       "<matplotlib.figure.Figure at 0x7f1c32f319b0>"
      ]
     },
     "metadata": {},
     "output_type": "display_data"
    }
   ],
   "source": [
    "print_labels(np.array(origin).astype('float'), np.array(output).astype('float'), \\\n",
    "             'Singing Voice Detection (VGGish): '+os.path.basename(tf))"
   ]
  },
  {
   "cell_type": "code",
   "execution_count": null,
   "metadata": {
    "collapsed": true
   },
   "outputs": [],
   "source": []
  },
  {
   "cell_type": "code",
   "execution_count": 50,
   "metadata": {
    "collapsed": false
   },
   "outputs": [
    {
     "ename": "ImportError",
     "evalue": "No module named 'vad_cls'",
     "output_type": "error",
     "traceback": [
      "\u001b[0;31m---------------------------------------------------------------------------\u001b[0m",
      "\u001b[0;31mImportError\u001b[0m                               Traceback (most recent call last)",
      "\u001b[0;32m<ipython-input-50-297c97ec04fe>\u001b[0m in \u001b[0;36m<module>\u001b[0;34m()\u001b[0m\n\u001b[0;32m----> 1\u001b[0;31m \u001b[0;32mimport\u001b[0m \u001b[0mvad_cls\u001b[0m\u001b[0;34m\u001b[0m\u001b[0m\n\u001b[0m\u001b[1;32m      2\u001b[0m \u001b[0;34m\u001b[0m\u001b[0m\n\u001b[1;32m      3\u001b[0m \u001b[0;31m# EVALUATE\u001b[0m\u001b[0;34m\u001b[0m\u001b[0;34m\u001b[0m\u001b[0m\n\u001b[1;32m      4\u001b[0m \u001b[0mevaluation\u001b[0m \u001b[0;34m=\u001b[0m \u001b[0mvad_cls\u001b[0m\u001b[0;34m.\u001b[0m\u001b[0mevaluate_results\u001b[0m\u001b[0;34m(\u001b[0m\u001b[0morigin\u001b[0m\u001b[0;34m,\u001b[0m \u001b[0moutput\u001b[0m\u001b[0;34m)\u001b[0m\u001b[0;34m\u001b[0m\u001b[0m\n\u001b[1;32m      5\u001b[0m \u001b[0mprint\u001b[0m \u001b[0;34m(\u001b[0m\u001b[0mevaluation\u001b[0m\u001b[0;34m)\u001b[0m\u001b[0;34m\u001b[0m\u001b[0m\n",
      "\u001b[0;31mImportError\u001b[0m: No module named 'vad_cls'"
     ]
    }
   ],
   "source": [
    "import vad_cls\n",
    "\n",
    "# EVALUATE\n",
    "evaluation = vad_cls.evaluate_results(origin, output)\n",
    "print (evaluation)"
   ]
  }
 ],
 "metadata": {
  "kernelspec": {
   "display_name": "Python 3",
   "language": "python",
   "name": "python3"
  },
  "language_info": {
   "codemirror_mode": {
    "name": "ipython",
    "version": 3
   },
   "file_extension": ".py",
   "mimetype": "text/x-python",
   "name": "python",
   "nbconvert_exporter": "python",
   "pygments_lexer": "ipython3",
   "version": "3.5.3"
  }
 },
 "nbformat": 4,
 "nbformat_minor": 2
}
