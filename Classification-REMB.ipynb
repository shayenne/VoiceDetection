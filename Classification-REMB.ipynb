{
 "cells": [
  {
   "cell_type": "markdown",
   "metadata": {
    "slideshow": {
     "slide_type": "slide"
    }
   },
   "source": [
    "<h1>A Voice Activity Detector based on MFCC features</h1>\n",
    "\n",
    "This notebook shows how to build a Voice Activity classifier using MFCC features. \n",
    "\n",
    "**Why MFCC?**\n",
    "\n",
    "MFCC are a good starting point when building an audio classifier designed to distinguish between audio recordings based on their **timbre**, since they provide a compact representation of the spectral envelope. Examples of audio classses that are well characterized by their timbre include musical instruments (e.g. trumpet vs. piano) or urban environmental sounds (e.g. siren vs. car honk vs. and jackhammer).\n",
    "\n",
    "However, it is important to bear in mind that not all audio-related classification tasks are timbre-related. For example, you might be interested in identifying (classifiying) the chords played in a music recording. What makes one chord different from another is **not its timbre**: the same chord can be played by different instruments with different timbres and it will still be the same chord. What makes chords different (among other factors) are the notes (pitches) they contain. Thus, a more suitable class of features for chord classification would be [chroma features](https://en.wikipedia.org/wiki/Chroma_feature).\n",
    "\n",
    "Since in this example we want to distinguish between human voice presence and abscence on a song (genres), which (usually) have different timbre, MFCC are probably a good choice for the task.\n",
    "\n",
    "**IMPORTANT**: This example makes one assumption:\n",
    "\n",
    "1. All the audio files have been preprocessed to ensure they are in the same format: single channel (mono) with a sample rate of 44100 Hz and a bit depth of 16 in wav format. If you haven't preprocessed your audio, consult the **```convert_audio_format```** notebook in this repository. Working with audio files in different formats can lead to unexpected (=undesired!) results.\n",
    "\n",
    "\n",
    "Dependencies:\n",
    "* numpy: http://www.numpy.org/\n",
    "* scikit-learn: http://scikit-learn.org/\n",
    "* librosa: http://librosa.github.io/librosa/\n",
    "* matplotlib: http://matplotlib.org/"
   ]
  },
  {
   "cell_type": "code",
   "execution_count": 1,
   "metadata": {
    "collapsed": true,
    "slideshow": {
     "slide_type": "slide"
    }
   },
   "outputs": [
    {
     "name": "stderr",
     "output_type": "stream",
     "text": [
      "/home/shayenne/anaconda3/lib/python3.7/site-packages/sklearn/externals/joblib/__init__.py:15: DeprecationWarning: sklearn.externals.joblib is deprecated in 0.21 and will be removed in 0.23. Please import this functionality directly from joblib, which can be installed with: pip install joblib. If this warning is raised when loading pickled models, you may need to re-serialize those models with scikit-learn 0.21+.\n",
      "  warnings.warn(msg, category=DeprecationWarning)\n"
     ]
    }
   ],
   "source": [
    "# Load the modules we're going to need\n",
    "%matplotlib inline\n",
    "import matplotlib.pyplot as plt\n",
    "import numpy as np\n",
    "import sklearn\n",
    "import os\n",
    "import glob\n",
    "import librosa\n",
    "import pandas as pd# Added\n",
    "from IPython.display import Audio\n",
    "from sklearn.externals import joblib\n",
    "\n",
    "import json"
   ]
  },
  {
   "cell_type": "markdown",
   "metadata": {
    "slideshow": {
     "slide_type": "slide"
    }
   },
   "source": [
    "<h2>Step 0: Compiling your dataset</h2>\n",
    "\n",
    "For creating this example I've used a collection of songs with human singers. All the files have been preprocessed using the ```convert_audio_format``` and ```rename_files_predix``` notebooks, and then divided into a train and test folder. There are 13 files in the train folder and 4 files in the test folder.\n",
    "\n",
    "Since we will use different files in class (your music!), the results displayed in this notebook will be different when we run it in class. {?}"
   ]
  },
  {
   "cell_type": "markdown",
   "metadata": {
    "slideshow": {
     "slide_type": "slide"
    }
   },
   "source": [
    "<h2>Step 1: Data cleaning</h2>\n",
    "\n",
    "As noted above, this notebook assumes data cleaning has already been performed: all files are in the same format (single channel [mono], 16-bit depth, 44100 sample rate, wav), and the class label of each file is indicated as a prefix followed by an underscore in the filename."
   ]
  },
  {
   "cell_type": "code",
   "execution_count": 2,
   "metadata": {
    "collapsed": true,
    "slideshow": {
     "slide_type": "subslide"
    }
   },
   "outputs": [],
   "source": [
    "# We've previously preprocessed our data and coverted all files to a sample rate of 44100\n",
    "samplerate = 44100"
   ]
  },
  {
   "cell_type": "markdown",
   "metadata": {
    "slideshow": {
     "slide_type": "slide"
    }
   },
   "source": [
    "<h2>Step 2: Feature extraction</h2>"
   ]
  },
  {
   "cell_type": "code",
   "execution_count": 3,
   "metadata": {},
   "outputs": [],
   "source": [
    "with open('split_remb.json', 'r') as f:\n",
    "    split = json.load(f)"
   ]
  },
  {
   "cell_type": "code",
   "execution_count": 4,
   "metadata": {},
   "outputs": [],
   "source": [
    "dt_path = '/home/shayenne/Documents/rembDB_labeledExamples/'"
   ]
  },
  {
   "cell_type": "code",
   "execution_count": 5,
   "metadata": {
    "collapsed": true,
    "slideshow": {
     "slide_type": "subslide"
    }
   },
   "outputs": [],
   "source": [
    "train_files = []\n",
    "test_files = []"
   ]
  },
  {
   "cell_type": "code",
   "execution_count": 6,
   "metadata": {
    "collapsed": true,
    "slideshow": {
     "slide_type": "subslide"
    }
   },
   "outputs": [],
   "source": [
    "for train_folder in split['train']:\n",
    "    \n",
    "    # Get a list of all the training audio files (must be .WAV files)\n",
    "    train_files += glob.glob(os.path.join(dt_path+train_folder, '*.mp3'))"
   ]
  },
  {
   "cell_type": "code",
   "execution_count": 7,
   "metadata": {
    "collapsed": true,
    "slideshow": {
     "slide_type": "subslide"
    }
   },
   "outputs": [],
   "source": [
    "for test_folder in split['test']:\n",
    "    # Get a list of all the test audio files (must be .WAV files)\n",
    "    test_files += glob.glob(os.path.join(dt_path+test_folder, '*.mp3'))"
   ]
  },
  {
   "cell_type": "code",
   "execution_count": 8,
   "metadata": {
    "collapsed": true,
    "slideshow": {
     "slide_type": "subslide"
    }
   },
   "outputs": [],
   "source": [
    "import feather"
   ]
  },
  {
   "cell_type": "code",
   "execution_count": 9,
   "metadata": {},
   "outputs": [
    {
     "name": "stdout",
     "output_type": "stream",
     "text": [
      "/home/shayenne/Documents/rembDB_labeledExamples/Batis/Gyftopoula sto hamam-1934.mp3\n",
      "/home/shayenne/Documents/rembDB_labeledExamples/Batis/12 fonografitzides.mp3\n",
      "/home/shayenne/Documents/rembDB_labeledExamples/Batis/04 04 - O 8ermasths (1934).mp3\n",
      "/home/shayenne/Documents/rembDB_labeledExamples/Tsaousakis/01 Na pethanis atahti.mp3\n",
      "/home/shayenne/Documents/rembDB_labeledExamples/Tsaousakis/02 Simmorfosou pia.mp3\n",
      "/home/shayenne/Documents/rembDB_labeledExamples/Tsaousakis/03 Mpros ston Agio Spiridona.mp3\n",
      "/home/shayenne/Documents/rembDB_labeledExamples/Rita/2-05 O Xemangas.mp3\n",
      "/home/shayenne/Documents/rembDB_labeledExamples/Rita/05 Kalogria.mp3\n",
      "/home/shayenne/Documents/rembDB_labeledExamples/Rita/02 O psyllos (Rita Ampatzh).mp3\n",
      "/home/shayenne/Documents/rembDB_labeledExamples/Genitzarhs/Jen-Ego Kala Kathomouna.mp3\n",
      "/home/shayenne/Documents/rembDB_labeledExamples/Genitzarhs/07 Ego Magkas Fainomouna.mp3\n",
      "/home/shayenne/Documents/rembDB_labeledExamples/Genitzarhs/Jen-Epidromi Sto Pirea.mp3\n",
      "/home/shayenne/Documents/rembDB_labeledExamples/Agathonas/03 - pente magkes ston peraia.mp3\n",
      "/home/shayenne/Documents/rembDB_labeledExamples/Agathonas/01 - gia des me.mp3\n",
      "/home/shayenne/Documents/rembDB_labeledExamples/Agathonas/04 - to xaremi sto xamam.mp3\n",
      "/home/shayenne/Documents/rembDB_labeledExamples/Xarmas/32 Den 8a xorisoume pote.mp3\n",
      "/home/shayenne/Documents/rembDB_labeledExamples/Xarmas/32 Den ypoferese.mp3\n",
      "/home/shayenne/Documents/rembDB_labeledExamples/Xarmas/32 Allou to pas.mp3\n",
      "/home/shayenne/Documents/rembDB_labeledExamples/Stellakis/04 Xtes To Vradi Ston Teke Mas.mp3\n",
      "/home/shayenne/Documents/rembDB_labeledExamples/Stellakis/06 Mpouzoukaki.mp3\n",
      "/home/shayenne/Documents/rembDB_labeledExamples/Stellakis/03 Liono san keri.mp3\n",
      "/home/shayenne/Documents/rembDB_labeledExamples/Mariw/03 - tsakitzis.mp3\n",
      "/home/shayenne/Documents/rembDB_labeledExamples/Mariw/02 Kati tha ipie o Theos.mp3\n",
      "/home/shayenne/Documents/rembDB_labeledExamples/Mariw/03 Omorfh Salonikia moy.mp3\n",
      "/home/shayenne/Documents/rembDB_labeledExamples/Marika/02 kremetai i kapota.mp3\n",
      "/home/shayenne/Documents/rembDB_labeledExamples/Marika/03 ntavelis.mp3\n",
      "/home/shayenne/Documents/rembDB_labeledExamples/Marika/01 peismatariko.mp3\n",
      "/home/shayenne/Documents/rembDB_labeledExamples/Dalkas/03 To mpaglamadaki spase.mp3\n",
      "/home/shayenne/Documents/rembDB_labeledExamples/Dalkas/02 Ap'thn polh enas morths.mp3\n",
      "/home/shayenne/Documents/rembDB_labeledExamples/Dalkas/02 Ksysou Gero.mp3\n",
      "/home/shayenne/Documents/rembDB_labeledExamples/Gkoles/03 to skertso sou to magiko 1.mp3\n",
      "/home/shayenne/Documents/rembDB_labeledExamples/Gkoles/01 otan se vlepo na girizeis.mp3\n",
      "/home/shayenne/Documents/rembDB_labeledExamples/Gkoles/02 i amartoli.mp3\n",
      "/home/shayenne/Documents/rembDB_labeledExamples/Xatzixristos/To parapono tou alhth.mp3\n",
      "/home/shayenne/Documents/rembDB_labeledExamples/Xatzixristos/Paraponiariko mou.mp3\n",
      "/home/shayenne/Documents/rembDB_labeledExamples/Xatzixristos/3an8eia smurniotopoula.mp3\n",
      "/home/shayenne/Documents/rembDB_labeledExamples/Glykeria/08 TA DAXTILIDIA.mp3\n",
      "/home/shayenne/Documents/rembDB_labeledExamples/Glykeria/08 TO XARIKLAKI.mp3\n",
      "/home/shayenne/Documents/rembDB_labeledExamples/Glykeria/01 STI MAGEMENI ARAPIA.mp3\n",
      "/home/shayenne/Documents/rembDB_labeledExamples/Delias/2-07 To Sakkaki.mp3\n",
      "/home/shayenne/Documents/rembDB_labeledExamples/Delias/2-04 To Haremi Sto Hamam.mp3\n",
      "/home/shayenne/Documents/rembDB_labeledExamples/Delias/1-01 O Ponos Tu Prezakia.mp3\n",
      "/home/shayenne/Documents/rembDB_labeledExamples/Roukounas/01 O katadikos.mp3\n",
      "/home/shayenne/Documents/rembDB_labeledExamples/Roukounas/02 O glentzes.mp3\n",
      "/home/shayenne/Documents/rembDB_labeledExamples/Roukounas/03 Geia sou lola meraklou.mp3\n",
      "/home/shayenne/Documents/rembDB_labeledExamples/Markos/2-03 Oli I Rembetes Tu Dunia.mp3\n",
      "/home/shayenne/Documents/rembDB_labeledExamples/Markos/1-17 Kandone Stavro Kandone.mp3\n",
      "/home/shayenne/Documents/rembDB_labeledExamples/Markos/03 Rixe Tsiggana Ta Hartia.mp3\n",
      "/home/shayenne/Documents/rembDB_labeledExamples/Roza/01 tou peiraia t alani.mp3\n",
      "/home/shayenne/Documents/rembDB_labeledExamples/Roza/02 Eimai Prezakias.mp3\n",
      "/home/shayenne/Documents/rembDB_labeledExamples/Roza/01 Stis Athinas tis Omorfies.mp3\n"
     ]
    }
   ],
   "source": [
    "save_path = '/home/shayenne/Documents/Mestrado/REMB/'\n",
    "\n",
    "for piece in train_files:\n",
    "\n",
    "    audio, sr = librosa.load(piece, sr=None)\n",
    "\n",
    "    df = feather.read_dataframe(save_path + os.path.basename(piece.split('.')[0]) + '_lbl.feather')\n",
    "    print(piece)\n",
    "#     plt.figure(figsize=(14,3))\n",
    "#     timestamps = np.arange(df['0'].shape[0])/(sr/512)\n",
    "#     plt.plot(df['0'])\n",
    "#     plt.show()"
   ]
  },
  {
   "cell_type": "code",
   "execution_count": null,
   "metadata": {},
   "outputs": [],
   "source": []
  },
  {
   "cell_type": "code",
   "execution_count": null,
   "metadata": {},
   "outputs": [],
   "source": []
  },
  {
   "cell_type": "code",
   "execution_count": null,
   "metadata": {},
   "outputs": [],
   "source": []
  },
  {
   "cell_type": "code",
   "execution_count": null,
   "metadata": {},
   "outputs": [],
   "source": []
  },
  {
   "cell_type": "code",
   "execution_count": 10,
   "metadata": {
    "collapsed": true,
    "slideshow": {
     "slide_type": "subslide"
    }
   },
   "outputs": [],
   "source": [
    "# Specify the labels (classes) we're going to classify the data into\n",
    "label0 = 'abscent'\n",
    "label1 = 'present'\n",
    "labels = [label0, label1]"
   ]
  },
  {
   "cell_type": "markdown",
   "metadata": {
    "slideshow": {
     "slide_type": "slide"
    }
   },
   "source": [
    "We're going to compute MFCC features using 40 mel bands, 40 DCT coefficients, keeping the bottom 13 MFCC coefficients after skipping the first coefficient (i.e. keep MFCC coefficieints 1-13, discard coefficients 0 and 14-39).\n",
    "\n",
    "Before training (and testing), we are going to standardize our features across each dimension (this is particularly important if you plan to use an SVM classifier for some kernel functions).\n",
    "\n",
    "**Tip 1**: we might be able to obtain better clasification by adding more features to our feature vector. For example, we could compute the delta (first derivative) of each MFCC coefficient time-series (```np.diff(mfcc)```) and compute summary statistics from this time series as well. We could even do the same for the delta-delta (second derivative). Another option would be to add more summary statistics such as the minimum, maximum, median, or higher-order moments such as skewness and kurtosis. Be careful though: if the dimensionality of your featue vector is too high you run the risk of overfitting your data, especially if your dataset is small!\n",
    "\n",
    "**Tip 2**: since the train/test sets used in this example are relatively small, and since we're only going to run through this example once, the features are computed on the fly in memory. If, however, you are working with a larger dataset (e.g. UrbanSound8K), feature extraction can take a considerable time. In this case, it's a good idea to store the features to disk, so that you can experiment with different classification models and classifier hyper-parameters without having to re-compute the features every time."
   ]
  },
  {
   "cell_type": "markdown",
   "metadata": {
    "slideshow": {
     "slide_type": "slide"
    }
   },
   "source": [
    "Lets start by defining the parameters of our MFCC features: \n",
    "* window (frame) size\n",
    "* hop size\n",
    "* number of mel bands (the number of DCT coefficients will be the same in this implementation) \n",
    "* number of MFCC coefficients to keep: "
   ]
  },
  {
   "cell_type": "code",
   "execution_count": 11,
   "metadata": {
    "collapsed": true,
    "slideshow": {
     "slide_type": "subslide"
    }
   },
   "outputs": [],
   "source": [
    "window_size = 2048\n",
    "hop_size = 441\n",
    "n_bands = 40\n",
    "n_mfcc = 13"
   ]
  },
  {
   "cell_type": "code",
   "execution_count": 12,
   "metadata": {
    "collapsed": true
   },
   "outputs": [],
   "source": [
    "# Make 1 second summarization as features with half second of hop length\n",
    "# 172 frames == 1 second (using 44100 samples per second)\n",
    "feature_length = 96\n",
    "half_sec = 48"
   ]
  },
  {
   "cell_type": "markdown",
   "metadata": {
    "slideshow": {
     "slide_type": "slide"
    }
   },
   "source": [
    "Now we'll extract features from the training set:"
   ]
  },
  {
   "cell_type": "code",
   "execution_count": 13,
   "metadata": {
    "collapsed": false,
    "slideshow": {
     "slide_type": "subslide"
    }
   },
   "outputs": [
    {
     "name": "stdout",
     "output_type": "stream",
     "text": [
      "filename: Gyftopoula sto hamam-1934.mp3\n",
      "mfcc shape (13, 19396)\n",
      "number of chunks 404\n",
      "file label size: 404\n",
      " \n",
      "filename: 12 fonografitzides.mp3\n",
      "mfcc shape (13, 20773)\n",
      "number of chunks 432\n",
      "file label size: 432\n",
      " \n",
      "filename: 04 04 - O 8ermasths (1934).mp3\n",
      "mfcc shape (13, 20204)\n",
      "number of chunks 420\n",
      "file label size: 420\n",
      " \n",
      "filename: 01 Na pethanis atahti.mp3\n",
      "mfcc shape (13, 22845)\n",
      "number of chunks 475\n",
      "file label size: 475\n",
      " \n",
      "filename: 02 Simmorfosou pia.mp3\n",
      "mfcc shape (13, 19741)\n",
      "number of chunks 411\n",
      "file label size: 411\n",
      " \n",
      "filename: 03 Mpros ston Agio Spiridona.mp3\n",
      "mfcc shape (13, 16395)\n",
      "number of chunks 341\n",
      "file label size: 341\n",
      " \n",
      "filename: 2-05 O Xemangas.mp3\n",
      "mfcc shape (13, 19553)\n",
      "number of chunks 407\n",
      "file label size: 407\n",
      " \n",
      "filename: 05 Kalogria.mp3\n",
      "mfcc shape (13, 20149)\n",
      "number of chunks 419\n",
      "file label size: 419\n",
      " \n",
      "filename: 02 O psyllos (Rita Ampatzh).mp3\n",
      "mfcc shape (13, 19981)\n",
      "number of chunks 416\n",
      "file label size: 416\n",
      " \n",
      "filename: Jen-Ego Kala Kathomouna.mp3\n",
      "mfcc shape (13, 32527)\n",
      "number of chunks 677\n",
      "file label size: 677\n",
      " \n",
      "filename: 07 Ego Magkas Fainomouna.mp3\n",
      "mfcc shape (13, 19914)\n",
      "number of chunks 414\n",
      "file label size: 414\n",
      " \n",
      "filename: Jen-Epidromi Sto Pirea.mp3\n",
      "mfcc shape (13, 21727)\n",
      "number of chunks 452\n",
      "file label size: 452\n",
      " \n",
      "filename: 03 - pente magkes ston peraia.mp3\n",
      "mfcc shape (13, 17301)\n",
      "number of chunks 360\n",
      "file label size: 360\n",
      " \n",
      "filename: 01 - gia des me.mp3\n",
      "mfcc shape (13, 19075)\n",
      "number of chunks 397\n",
      "file label size: 397\n",
      " \n",
      "filename: 04 - to xaremi sto xamam.mp3\n",
      "mfcc shape (13, 21789)\n",
      "number of chunks 453\n",
      "file label size: 453\n",
      " \n",
      "filename: 32 Den 8a xorisoume pote.mp3\n",
      "mfcc shape (13, 19511)\n",
      "number of chunks 406\n",
      "file label size: 406\n",
      " \n",
      "filename: 32 Den ypoferese.mp3\n",
      "mfcc shape (13, 20888)\n",
      "number of chunks 435\n",
      "file label size: 435\n",
      " \n",
      "filename: 32 Allou to pas.mp3\n",
      "mfcc shape (13, 19036)\n",
      "number of chunks 396\n",
      "file label size: 396\n",
      " \n",
      "filename: 04 Xtes To Vradi Ston Teke Mas.mp3\n",
      "mfcc shape (13, 19046)\n",
      "number of chunks 396\n",
      "file label size: 396\n",
      " \n",
      "filename: 06 Mpouzoukaki.mp3\n",
      "mfcc shape (13, 19566)\n",
      "number of chunks 407\n",
      "file label size: 407\n",
      " \n",
      "filename: 03 Liono san keri.mp3\n",
      "mfcc shape (13, 19652)\n",
      "number of chunks 409\n",
      "file label size: 409\n",
      " \n",
      "filename: 03 - tsakitzis.mp3\n",
      "mfcc shape (13, 34187)\n",
      "number of chunks 712\n",
      "file label size: 712\n",
      " \n",
      "filename: 02 Kati tha ipie o Theos.mp3\n",
      "mfcc shape (13, 28712)\n",
      "number of chunks 598\n",
      "file label size: 598\n",
      " \n",
      "filename: 03 Omorfh Salonikia moy.mp3\n",
      "mfcc shape (13, 12226)\n",
      "number of chunks 254\n",
      "file label size: 254\n",
      " \n",
      "filename: 02 kremetai i kapota.mp3\n",
      "mfcc shape (13, 23566)\n",
      "number of chunks 490\n",
      "file label size: 490\n",
      " \n",
      "filename: 03 ntavelis.mp3\n",
      "mfcc shape (13, 22758)\n",
      "number of chunks 474\n",
      "file label size: 474\n",
      " \n",
      "filename: 01 peismatariko.mp3\n",
      "mfcc shape (13, 25755)\n",
      "number of chunks 536\n",
      "file label size: 536\n",
      " \n",
      "filename: 03 To mpaglamadaki spase.mp3\n",
      "mfcc shape (13, 19389)\n",
      "number of chunks 403\n",
      "file label size: 403\n",
      " \n",
      "filename: 02 Ap'thn polh enas morths.mp3\n",
      "mfcc shape (13, 19522)\n",
      "number of chunks 406\n",
      "file label size: 406\n",
      " \n",
      "filename: 02 Ksysou Gero.mp3\n",
      "mfcc shape (13, 19530)\n",
      "number of chunks 406\n",
      "file label size: 406\n",
      " \n",
      "filename: 03 to skertso sou to magiko 1.mp3\n",
      "mfcc shape (13, 20755)\n",
      "number of chunks 432\n",
      "file label size: 432\n",
      " \n",
      "filename: 01 otan se vlepo na girizeis.mp3\n",
      "mfcc shape (13, 17725)\n",
      "number of chunks 369\n",
      "file label size: 369\n",
      " \n",
      "filename: 02 i amartoli.mp3\n",
      "mfcc shape (13, 22523)\n",
      "number of chunks 469\n",
      "file label size: 469\n",
      " \n",
      "filename: To parapono tou alhth.mp3\n",
      "mfcc shape (13, 19122)\n",
      "number of chunks 398\n",
      "file label size: 398\n",
      " \n",
      "filename: Paraponiariko mou.mp3\n",
      "mfcc shape (13, 19762)\n",
      "number of chunks 411\n",
      "file label size: 411\n",
      " \n",
      "filename: 3an8eia smurniotopoula.mp3\n",
      "mfcc shape (13, 20162)\n",
      "number of chunks 420\n",
      "file label size: 420\n",
      " \n",
      "filename: 08 TA DAXTILIDIA.mp3\n",
      "mfcc shape (13, 18561)\n",
      "number of chunks 386\n",
      "file label size: 386\n",
      " \n",
      "filename: 08 TO XARIKLAKI.mp3\n",
      "mfcc shape (13, 19472)\n",
      "number of chunks 405\n",
      "file label size: 405\n",
      " \n",
      "filename: 01 STI MAGEMENI ARAPIA.mp3\n",
      "mfcc shape (13, 21643)\n",
      "number of chunks 450\n",
      "file label size: 450\n",
      " \n",
      "filename: 2-07 To Sakkaki.mp3\n",
      "mfcc shape (13, 20130)\n",
      "number of chunks 419\n",
      "file label size: 419\n",
      " \n",
      "filename: 2-04 To Haremi Sto Hamam.mp3\n",
      "mfcc shape (13, 19295)\n",
      "number of chunks 401\n",
      "file label size: 401\n",
      " \n",
      "filename: 1-01 O Ponos Tu Prezakia.mp3\n",
      "mfcc shape (13, 20371)\n",
      "number of chunks 424\n",
      "file label size: 424\n",
      " \n",
      "filename: 01 O katadikos.mp3\n",
      "mfcc shape (13, 18383)\n",
      "number of chunks 382\n",
      "file label size: 382\n",
      " \n",
      "filename: 02 O glentzes.mp3\n",
      "mfcc shape (13, 18135)\n",
      "number of chunks 377\n",
      "file label size: 377\n",
      " \n",
      "filename: 03 Geia sou lola meraklou.mp3\n",
      "mfcc shape (13, 17442)\n",
      "number of chunks 363\n",
      "file label size: 363\n",
      " \n",
      "filename: 2-03 Oli I Rembetes Tu Dunia.mp3\n",
      "mfcc shape (13, 19318)\n",
      "number of chunks 402\n",
      "file label size: 402\n",
      " \n",
      "filename: 1-17 Kandone Stavro Kandone.mp3\n",
      "mfcc shape (13, 19540)\n",
      "number of chunks 407\n",
      "file label size: 407\n",
      " \n",
      "filename: 03 Rixe Tsiggana Ta Hartia.mp3\n",
      "mfcc shape (13, 18480)\n",
      "number of chunks 385\n",
      "file label size: 385\n",
      " \n",
      "filename: 01 tou peiraia t alani.mp3\n",
      "mfcc shape (13, 18903)\n",
      "number of chunks 393\n",
      "file label size: 393\n",
      " \n",
      "filename: 02 Eimai Prezakias.mp3\n",
      "mfcc shape (13, 20154)\n",
      "number of chunks 419\n",
      "file label size: 419\n",
      " \n",
      "filename: 01 Stis Athinas tis Omorfies.mp3\n",
      "mfcc shape (13, 19483)\n",
      "number of chunks 405\n",
      "file label size: 405\n",
      " \n"
     ]
    }
   ],
   "source": [
    "# Define lists to store the training features and corresponding training labels\n",
    "train_features = []\n",
    "train_labels = []\n",
    "\n",
    "# For every audio file in the training set, load the file, compute MFCCs, summarize them over time\n",
    "# using the mean and standard deviation (for each MFCC coefficient), and then save the features\n",
    "# and corresponding label in the designated lists\n",
    "for tf in train_files:\n",
    "    \n",
    "    print(\"filename: {:s}\".format(os.path.basename(tf)))\n",
    "    \n",
    "    piece = tf\n",
    "\n",
    "    audio, sr = librosa.load(piece, sr=None)\n",
    "\n",
    "    # Load labels\n",
    "    df = feather.read_dataframe(save_path + os.path.basename(piece.split('.')[0]) + '_lbl.feather')\n",
    "    timestamps = np.arange(df['0'].shape[0])/(sr/512)\n",
    "    \n",
    "    # Load audio\n",
    "    audio, sr = librosa.load(tf, sr=samplerate, mono=True)\n",
    "\n",
    "    # Extract mfcc coefficients (remember we will discard the first one)\n",
    "    # To see all the relevant kwarg arugments consult the documentation for\n",
    "    # librosa.feature.mfcc, librosa.feature.melspectrogram and librosa.filters.mel\n",
    "    mfcc = librosa.feature.mfcc(audio, sr=sr, n_fft=window_size, hop_length=hop_size,\n",
    "                                fmax=samplerate/2, n_mels=n_bands, n_mfcc=(n_mfcc + 1))\n",
    "          \n",
    "    # Discard the first coefficient\n",
    "    mfcc = mfcc[1:,:]\n",
    "    \n",
    "    print(\"mfcc shape\", mfcc.shape)\n",
    "\n",
    "    print(\"number of chunks\", int(mfcc.shape[1]/half_sec))\n",
    "    \n",
    "    feature_vector = []\n",
    "    tf_label = []\n",
    "    \n",
    "    # Delta features \n",
    "    mfcc_delta = librosa.feature.delta(mfcc)\n",
    "    mfcc_delta2 = librosa.feature.delta(mfcc, order=2)\n",
    "    \n",
    "    tidx = 0\n",
    "    # For half second\n",
    "    for chunk in range(int(mfcc.shape[1]/half_sec)):\n",
    "        start = chunk*half_sec\n",
    "        mfcc_means = np.mean(mfcc[:,start:start+feature_length], 1)\n",
    "        mfcc_stddevs = np.std(mfcc[:,start:start+feature_length], 1)\n",
    "        mfcc_max = np.max(mfcc[:,start:start+feature_length], 1)\n",
    "        mfcc_median = np.median(mfcc[:,start:start+feature_length], 1)\n",
    "        mfcc_d1_means = np.mean(mfcc_delta[:,start:start+feature_length], 1)\n",
    "        mfcc_d1_stddevs = np.std(mfcc_delta[:,start:start+feature_length], 1)\n",
    "        mfcc_d2_means = np.mean(mfcc_delta2[:,start:start+feature_length], 1)\n",
    "        mfcc_d2_stddevs = np.std(mfcc_delta2[:,start:start+feature_length], 1)\n",
    "        \n",
    "    \n",
    "        # We could do the same for the delta features like this:\n",
    "        # mfcc_d1_means = np.mean(np.diff(mfcc), 1)\n",
    "        # mfcc_d1_stddevs = np.std(np.diff(mfcc), 1)\n",
    "    \n",
    "        # Concatenate means and std. dev's into a single feature vector\n",
    "        feature_vector.append(np.concatenate((mfcc_means, mfcc_stddevs, mfcc_max, mfcc_median,\\\n",
    "                                              mfcc_d1_means, mfcc_d1_stddevs, mfcc_d2_means, mfcc_d2_stddevs\\\n",
    "                                             ), axis=0))\n",
    "        #print(\"feature summary: {}\".format(len(feature_vector)))\n",
    "   \n",
    "        # Adjust labels to our classes\n",
    "        \n",
    "        while tidx < len(timestamps)-1 and timestamps[tidx] < start*441/44100:\n",
    "            tidx += 1\n",
    "            \n",
    "        if len([x for x in  df['0'][tidx:tidx+87] if x > 0]) >= 40: # 50%\n",
    "            tf_label.append('present')\n",
    "        else:\n",
    "            tf_label.append('abscent')\n",
    "\n",
    "    # Get labels index\n",
    "    tf_label_ind = [labels.index(lbl) for lbl in tf_label]\n",
    "    print(\"file label size: {:d}\".format(len(tf_label_ind)))\n",
    "    \n",
    "    # Store the feature vector and corresponding label in integer format\n",
    "    for idx in range(len(feature_vector)):\n",
    "        train_features.append(feature_vector[idx])\n",
    "        train_labels.append(tf_label_ind[idx]) \n",
    "    print(\" \")\n",
    "    \n",
    "#     plt.figure(figsize=(14,3))\n",
    "#     tt = np.arange(len(tf_label_ind))/(sr/512)\n",
    "#     plt.plot(tt, tf_label_ind)\n",
    "#     plt.show()\n",
    "    "
   ]
  },
  {
   "cell_type": "markdown",
   "metadata": {
    "slideshow": {
     "slide_type": "slide"
    }
   },
   "source": [
    "Next, do do the same for the test data (of course we must extact exactly the same features for the training and test sets):"
   ]
  },
  {
   "cell_type": "code",
   "execution_count": 14,
   "metadata": {
    "collapsed": false,
    "slideshow": {
     "slide_type": "subslide"
    }
   },
   "outputs": [
    {
     "name": "stdout",
     "output_type": "stream",
     "text": [
      "filename: 07 nixtose xoris feggari.mp3\n",
      "mfcc shape (13, 22562)\n",
      "number of chunks 470\n",
      "file label size: 470\n",
      " \n",
      "filename: 02 aliti m eipes mia vradia.mp3\n",
      "mfcc shape (13, 19434)\n",
      "number of chunks 404\n",
      "file label size: 404\n",
      " \n",
      "filename: 01 karotseri trava.mp3\n",
      "mfcc shape (13, 19485)\n",
      "number of chunks 405\n",
      "file label size: 405\n",
      " \n",
      "filename: 01_Tsitsanhs_To_bapori_apo_thn_persi.mp3\n",
      "mfcc shape (13, 18976)\n",
      "number of chunks 395\n",
      "file label size: 395\n",
      " \n",
      "filename: 01 Sinnefiasmenh Kyriakh.mp3\n",
      "mfcc shape (13, 20423)\n",
      "number of chunks 425\n",
      "file label size: 425\n",
      " \n",
      "filename: 01 Apopse kaneis mpam.mp3\n",
      "mfcc shape (13, 17058)\n",
      "number of chunks 355\n",
      "file label size: 355\n",
      " \n",
      "filename: 01 Mpik' O Heimonas.mp3\n",
      "mfcc shape (13, 20405)\n",
      "number of chunks 425\n",
      "file label size: 425\n",
      " \n",
      "filename: 02 San Egyriza Apo Tin Pylo.mp3\n",
      "mfcc shape (13, 20494)\n",
      "number of chunks 426\n",
      "file label size: 426\n",
      " \n",
      "filename: 04 sampax amanes.mp3\n",
      "mfcc shape (13, 21225)\n",
      "number of chunks 442\n",
      "file label size: 442\n",
      " \n",
      "filename: 06 otan mpoukarw ston teke (streamlo.mp3\n",
      "mfcc shape (13, 15677)\n",
      "number of chunks 326\n",
      "file label size: 326\n",
      " \n",
      "filename: 01 ston adh antamwsane (streamload).mp3\n",
      "mfcc shape (13, 22495)\n",
      "number of chunks 468\n",
      "file label size: 468\n",
      " \n",
      "filename: 02 an m' aksiwsei o 8eos.mp3\n",
      "mfcc shape (13, 17265)\n",
      "number of chunks 359\n",
      "file label size: 359\n",
      " \n"
     ]
    }
   ],
   "source": [
    "# Define lists to store the training features and corresponding training labels\n",
    "test_features = []\n",
    "test_labels = []\n",
    "\n",
    "# For every audio file in the training set, load the file, compute MFCCs, summarize them over time\n",
    "# using the mean and standard deviation (for each MFCC coefficient), and then save the features\n",
    "# and corresponding label in the designated lists\n",
    "for tf in test_files:\n",
    "    \n",
    "    print(\"filename: {:s}\".format(os.path.basename(tf)))\n",
    "    \n",
    "    piece = tf\n",
    "\n",
    "    audio, sr = librosa.load(piece, sr=None)\n",
    "\n",
    "    # Load labels\n",
    "    df = feather.read_dataframe(save_path + os.path.basename(piece.split('.')[0]) + '_lbl.feather')\n",
    "    timestamps = np.arange(df['0'].shape[0])/(sr/512)\n",
    "    \n",
    "    # Load audio\n",
    "    audio, sr = librosa.load(tf, sr=samplerate, mono=True)\n",
    "\n",
    "    # Extract mfcc coefficients (remember we will discard the first one)\n",
    "    # To see all the relevant kwarg arugments consult the documentation for\n",
    "    # librosa.feature.mfcc, librosa.feature.melspectrogram and librosa.filters.mel\n",
    "    mfcc = librosa.feature.mfcc(audio, sr=sr, n_fft=window_size, hop_length=hop_size,\n",
    "                                fmax=samplerate/2, n_mels=n_bands, n_mfcc=(n_mfcc + 1))\n",
    "          \n",
    "    # Discard the first coefficient\n",
    "    mfcc = mfcc[1:,:]\n",
    "    \n",
    "    print(\"mfcc shape\", mfcc.shape)\n",
    "\n",
    "    print(\"number of chunks\", int(mfcc.shape[1]/half_sec))\n",
    "    \n",
    "    feature_vector = []\n",
    "    tf_label = []\n",
    "    \n",
    "    # Delta features \n",
    "    mfcc_delta = librosa.feature.delta(mfcc)\n",
    "    mfcc_delta2 = librosa.feature.delta(mfcc, order=2)\n",
    "    \n",
    "    tidx = 0\n",
    "    # For half second\n",
    "    for chunk in range(int(mfcc.shape[1]/half_sec)):\n",
    "        start = chunk*half_sec\n",
    "        mfcc_means = np.mean(mfcc[:,start:start+feature_length], 1)\n",
    "        mfcc_stddevs = np.std(mfcc[:,start:start+feature_length], 1)\n",
    "        mfcc_max = np.max(mfcc[:,start:start+feature_length], 1)\n",
    "        mfcc_median = np.median(mfcc[:,start:start+feature_length], 1)\n",
    "        mfcc_d1_means = np.mean(mfcc_delta[:,start:start+feature_length], 1)\n",
    "        mfcc_d1_stddevs = np.std(mfcc_delta[:,start:start+feature_length], 1)\n",
    "        mfcc_d2_means = np.mean(mfcc_delta2[:,start:start+feature_length], 1)\n",
    "        mfcc_d2_stddevs = np.std(mfcc_delta2[:,start:start+feature_length], 1)\n",
    "        \n",
    "    \n",
    "        # We could do the same for the delta features like this:\n",
    "        # mfcc_d1_means = np.mean(np.diff(mfcc), 1)\n",
    "        # mfcc_d1_stddevs = np.std(np.diff(mfcc), 1)\n",
    "    \n",
    "        # Concatenate means and std. dev's into a single feature vector\n",
    "        feature_vector.append(np.concatenate((mfcc_means, mfcc_stddevs, mfcc_max, mfcc_median,\\\n",
    "                                              mfcc_d1_means, mfcc_d1_stddevs, mfcc_d2_means, mfcc_d2_stddevs\\\n",
    "                                             ), axis=0))\n",
    "        #print(\"feature summary: {}\".format(len(feature_vector)))\n",
    "   \n",
    "        # Adjust labels to our classes\n",
    "        \n",
    "        while tidx < len(timestamps)-1 and timestamps[tidx] < start*441/44100:\n",
    "            tidx += 1\n",
    "            \n",
    "        if len([x for x in  df['0'][tidx:tidx+87] if x > 0]) >= 40: # 50%\n",
    "            tf_label.append('present')\n",
    "        else:\n",
    "            tf_label.append('abscent')\n",
    "\n",
    "    # Get labels index\n",
    "    tf_label_ind = [labels.index(lbl) for lbl in tf_label]\n",
    "    print(\"file label size: {:d}\".format(len(tf_label_ind)))\n",
    "    \n",
    "    # Store the feature vector and corresponding label in integer format\n",
    "    for idx in range(len(feature_vector)):\n",
    "        test_features.append(feature_vector[idx])\n",
    "        test_labels.append(tf_label_ind[idx]) \n",
    "    print(\" \")\n",
    "    \n",
    "#     plt.figure(figsize=(14,3))\n",
    "#     tt = np.arange(len(tf_label_ind))/(sr/512)\n",
    "#     plt.plot(tt, tf_label_ind)\n",
    "#     plt.show()\n",
    "    "
   ]
  },
  {
   "cell_type": "markdown",
   "metadata": {},
   "source": [
    "## Random Guess\n"
   ]
  },
  {
   "cell_type": "markdown",
   "metadata": {},
   "source": [
    "Refers to randomly assign the frame of test data either the vocal or the non-vocal class with equal probability.\n",
    "\n"
   ]
  },
  {
   "cell_type": "code",
   "execution_count": 34,
   "metadata": {},
   "outputs": [
    {
     "data": {
      "text/plain": [
       "DummyClassifier(constant=None, random_state=None, strategy='uniform')"
      ]
     },
     "execution_count": 34,
     "metadata": {},
     "output_type": "execute_result"
    }
   ],
   "source": [
    "from sklearn.dummy import DummyClassifier\n",
    "\n",
    "random_guess = DummyClassifier(strategy='uniform')\n",
    "\n",
    "random_guess.fit(train_features, train_labels)"
   ]
  },
  {
   "cell_type": "code",
   "execution_count": 35,
   "metadata": {},
   "outputs": [
    {
     "name": "stdout",
     "output_type": "stream",
     "text": [
      "0.4906122448979592\n"
     ]
    }
   ],
   "source": [
    "# Now lets predict the labels of the test data!\n",
    "predictions = random_guess.predict(test_features)\n",
    "\n",
    "# We can use sklearn to compute the accuracy score\n",
    "accuracy = sklearn.metrics.accuracy_score(test_labels, predictions)\n",
    "print(accuracy)\n",
    "\n",
    "random_score = sklearn.metrics.f1_score(test_labels, predictions)"
   ]
  },
  {
   "cell_type": "code",
   "execution_count": 17,
   "metadata": {},
   "outputs": [
    {
     "data": {
      "image/png": "[encoded data removed]",
      "text/plain": [
       "<Figure size 432x288 with 1 Axes>"
      ]
     },
     "metadata": {
      "needs_background": "light"
     },
     "output_type": "display_data"
    }
   ],
   "source": [
    "# lets compute the show the confusion matrix:\n",
    "cm = sklearn.metrics.confusion_matrix(test_labels, predictions)\n",
    "\n",
    "fig, ax = plt.subplots()\n",
    "ax.imshow(cm, interpolation='nearest', cmap='gray')\n",
    "for i, line in enumerate(cm):\n",
    "    for j, l in enumerate(line):\n",
    "        ax.text(j, i, l, size=20, color='green')\n",
    "ax.set_xticks(range(len(cm)))\n",
    "ax.set_xticklabels(labels)\n",
    "ax.set_yticks(range(len(cm)))\n",
    "ax.set_yticklabels(labels)\n",
    "ax.set_ylabel('True label')\n",
    "ax.set_xlabel('Predicted label')\n",
    "plt.show()"
   ]
  },
  {
   "cell_type": "markdown",
   "metadata": {},
   "source": [
    "## Biased Guess\n"
   ]
  },
  {
   "cell_type": "markdown",
   "metadata": {},
   "source": [
    "Refers to randomly assign the frame of test data either the vocal or the non-vocal class with equal probability.\n",
    "\n"
   ]
  },
  {
   "cell_type": "code",
   "execution_count": 29,
   "metadata": {},
   "outputs": [
    {
     "data": {
      "text/plain": [
       "DummyClassifier(constant=None, random_state=None, strategy='most_frequent')"
      ]
     },
     "execution_count": 29,
     "metadata": {},
     "output_type": "execute_result"
    }
   ],
   "source": [
    "from sklearn.dummy import DummyClassifier\n",
    "\n",
    "biased_guess = DummyClassifier(strategy='most_frequent')\n",
    "\n",
    "biased_guess.fit(train_features, train_labels)"
   ]
  },
  {
   "cell_type": "code",
   "execution_count": 33,
   "metadata": {},
   "outputs": [
    {
     "name": "stdout",
     "output_type": "stream",
     "text": [
      "0.59\n"
     ]
    }
   ],
   "source": [
    "# Now lets predict the labels of the test data!\n",
    "predictions = biased_guess.predict(test_features)\n",
    "\n",
    "# We can use sklearn to compute the accuracy score\n",
    "accuracy = sklearn.metrics.accuracy_score(test_labels, predictions)\n",
    "print(accuracy)\n",
    "\n",
    "biased_score = sklearn.metrics.f1_score(test_labels, predictions)"
   ]
  },
  {
   "cell_type": "code",
   "execution_count": 31,
   "metadata": {},
   "outputs": [
    {
     "data": {
      "image/png": "[encoded data removed]",
      "text/plain": [
       "<Figure size 432x288 with 1 Axes>"
      ]
     },
     "metadata": {
      "needs_background": "light"
     },
     "output_type": "display_data"
    }
   ],
   "source": [
    "# lets compute the show the confusion matrix:\n",
    "cm = sklearn.metrics.confusion_matrix(test_labels, predictions)\n",
    "\n",
    "fig, ax = plt.subplots()\n",
    "ax.imshow(cm, interpolation='nearest', cmap='gray')\n",
    "for i, line in enumerate(cm):\n",
    "    for j, l in enumerate(line):\n",
    "        ax.text(j, i, l, size=20, color='green')\n",
    "ax.set_xticks(range(len(cm)))\n",
    "ax.set_xticklabels(labels)\n",
    "ax.set_yticks(range(len(cm)))\n",
    "ax.set_yticklabels(labels)\n",
    "ax.set_ylabel('True label')\n",
    "ax.set_xlabel('Predicted label')\n",
    "plt.show()"
   ]
  },
  {
   "cell_type": "markdown",
   "metadata": {},
   "source": [
    "## Modeling with SVM"
   ]
  },
  {
   "cell_type": "markdown",
   "metadata": {},
   "source": [
    "Next we'll appply some post-processing in the form of feature standardization. In our case we're going to standardize across dimensions: this means we compare the feature vector of all files **in the training set** and for each dimension we subtract the mean and divide by the standard deviation across all feature vectors.\n",
    "\n",
    "**Important**: it is incorrect to standardize the entire dataset (training and test) in one go, because that means we've \"looked\" at the test data. The correct way to perform standardization is to learn the parameters (mean/std. dev) from the training set only, and then apply exactly the same process to the test set (without examining the data). This can be accomplished easily using scikit-learn's StandardScaler:"
   ]
  },
  {
   "cell_type": "code",
   "execution_count": 18,
   "metadata": {
    "collapsed": false
   },
   "outputs": [],
   "source": [
    "# Create a scale object\n",
    "scaler = sklearn.preprocessing.StandardScaler()\n",
    "\n",
    "# Learn the parameters from the training data only\n",
    "scaler.fit(train_features)\n",
    "\n",
    "# Apply the learned parameters to the training and test sets:\n",
    "train_features_scaled = scaler.transform(train_features)"
   ]
  },
  {
   "cell_type": "code",
   "execution_count": 19,
   "metadata": {
    "collapsed": true,
    "scrolled": false,
    "slideshow": {
     "slide_type": "slide"
    }
   },
   "outputs": [],
   "source": [
    "test_features_scaled = scaler.transform(test_features)\n",
    "\n",
    "# Note, the first 2 operations (learning the standardization parameters from the training data \n",
    "# and applying them to the the training data) can be performed in one line using:\n",
    "# train_features_scaled = scaler.fit_transform(train_features)"
   ]
  },
  {
   "cell_type": "code",
   "execution_count": 22,
   "metadata": {
    "collapsed": false
   },
   "outputs": [
    {
     "data": {
      "text/plain": [
       "['scaler.sav']"
      ]
     },
     "execution_count": 22,
     "metadata": {},
     "output_type": "execute_result"
    }
   ],
   "source": [
    "# save the scaler to disk\n",
    "filename = 'scaler.sav'\n",
    "joblib.dump(scaler, filename)"
   ]
  },
  {
   "cell_type": "markdown",
   "metadata": {
    "slideshow": {
     "slide_type": "slide"
    }
   },
   "source": [
    "<h2> Step 3: model training</h2>\n",
    "\n",
    "Now that all of our features are computed, we can train a clasification model! In this example we're going to use the following model: the support vector machine classifier. "
   ]
  },
  {
   "cell_type": "code",
   "execution_count": null,
   "metadata": {
    "collapsed": false
   },
   "outputs": [],
   "source": [
    "# Use scikit-learn to train a model with the training features we've extracted\n",
    "\n",
    "# Lets use a SVC with folowing C parameters: \n",
    "params = [100, 10, 1, 0.1, 0.01, 0.001, 0.0001]\n",
    "\n",
    "for c in params:\n",
    "    clf = sklearn.svm.SVC(C=c)\n",
    "\n",
    "    # Fit (=train) the model\n",
    "    clf.fit(train_features_scaled, train_labels)\n",
    "    \n",
    "    # save the model to disk\n",
    "    filename = 'finalized_model_SVM_'+str(c)+'.sav'\n",
    "    print (filename)\n",
    "    joblib.dump(clf, filename)\n",
    "    \n",
    "    # Now lets predict the labels of the test data!\n",
    "    predictions = clf.predict(test_features_scaled)\n",
    "    \n",
    "    # We can use sklearn to compute the accuracy score\n",
    "    accuracy = sklearn.metrics.accuracy_score(test_labels, predictions)\n",
    "    print(accuracy)"
   ]
  },
  {
   "cell_type": "code",
   "execution_count": 20,
   "metadata": {
    "collapsed": false,
    "slideshow": {
     "slide_type": "subslide"
    }
   },
   "outputs": [
    {
     "data": {
      "text/plain": [
       "SVC(C=0.01, cache_size=200, class_weight=None, coef0=0.0,\n",
       "    decision_function_shape='ovr', degree=3, gamma='auto_deprecated',\n",
       "    kernel='rbf', max_iter=-1, probability=False, random_state=None,\n",
       "    shrinking=True, tol=0.001, verbose=False)"
      ]
     },
     "execution_count": 20,
     "metadata": {},
     "output_type": "execute_result"
    }
   ],
   "source": [
    "# Use scikit-learn to train a model with the training features we've extracted\n",
    "\n",
    "# Lets use a SVC with default parameters: kernel RBF \n",
    "clf = sklearn.svm.SVC(C=0.01)\n",
    "\n",
    "# Fit (=train) the model\n",
    "clf.fit(train_features_scaled, train_labels)"
   ]
  },
  {
   "cell_type": "code",
   "execution_count": 37,
   "metadata": {
    "collapsed": false
   },
   "outputs": [
    {
     "data": {
      "text/plain": [
       "['finalized_model.sav']"
      ]
     },
     "execution_count": 37,
     "metadata": {},
     "output_type": "execute_result"
    }
   ],
   "source": [
    "# save the model to disk\n",
    "filename = 'finalized_model.sav'\n",
    "joblib.dump(clf, filename)"
   ]
  },
  {
   "cell_type": "markdown",
   "metadata": {
    "slideshow": {
     "slide_type": "slide"
    }
   },
   "source": [
    "<h2>Step 4: model evaluation (testing)</h2>"
   ]
  },
  {
   "cell_type": "markdown",
   "metadata": {
    "slideshow": {
     "slide_type": "subslide"
    }
   },
   "source": [
    "Now we're going to test the model by using it to predict the class labels of the test data!"
   ]
  },
  {
   "cell_type": "code",
   "execution_count": 21,
   "metadata": {
    "collapsed": true,
    "slideshow": {
     "slide_type": "subslide"
    }
   },
   "outputs": [],
   "source": [
    "# Now lets predict the labels of the test data!\n",
    "predictions = clf.predict(test_features_scaled)"
   ]
  },
  {
   "cell_type": "markdown",
   "metadata": {
    "slideshow": {
     "slide_type": "slide"
    }
   },
   "source": [
    "<h3>Model accuracy</h3>"
   ]
  },
  {
   "cell_type": "markdown",
   "metadata": {
    "slideshow": {
     "slide_type": "subslide"
    }
   },
   "source": [
    "How well did our model perform? The simplest statistic we can compute is the \"classification accuracy\": in the simplest case, this is the fraction of files in our test set that were classified correctly:"
   ]
  },
  {
   "cell_type": "code",
   "execution_count": 22,
   "metadata": {
    "collapsed": false,
    "slideshow": {
     "slide_type": "subslide"
    }
   },
   "outputs": [
    {
     "name": "stdout",
     "output_type": "stream",
     "text": [
      "0.8306122448979592\n"
     ]
    }
   ],
   "source": [
    "# We can use sklearn to compute the accuracy score\n",
    "accuracy = sklearn.metrics.accuracy_score(test_labels, predictions)\n",
    "print(accuracy)\n",
    "\n",
    "svm_score = sklearn.metrics.f1_score(test_labels, predictions)"
   ]
  },
  {
   "cell_type": "code",
   "execution_count": null,
   "metadata": {
    "collapsed": false,
    "slideshow": {
     "slide_type": "subslide"
    }
   },
   "outputs": [],
   "source": [
    "# The accuracy is also very easy to compute \"manually\"\n",
    "my_accuracy = np.sum(predictions == np.asarray(test_labels)) / float(len(test_labels))\n",
    "print(my_accuracy)"
   ]
  },
  {
   "cell_type": "markdown",
   "metadata": {
    "slideshow": {
     "slide_type": "slide"
    }
   },
   "source": [
    "<h3>Confusion matrix</h3>"
   ]
  },
  {
   "cell_type": "markdown",
   "metadata": {
    "slideshow": {
     "slide_type": "slide"
    }
   },
   "source": [
    "But the accuracy is only the tip of the iceberg! The model also made some mistakes - what got confused with what? To answer this we can plot the **confusion matrix**: the rows of the matrix represent the true label, and the columns represent the label predicted by the model:"
   ]
  },
  {
   "cell_type": "code",
   "execution_count": null,
   "metadata": {
    "collapsed": false,
    "slideshow": {
     "slide_type": "subslide"
    }
   },
   "outputs": [],
   "source": [
    "# lets compute the show the confusion matrix:\n",
    "cm = sklearn.metrics.confusion_matrix(test_labels, predictions)\n",
    "print(cm)"
   ]
  },
  {
   "cell_type": "markdown",
   "metadata": {
    "slideshow": {
     "slide_type": "slide"
    }
   },
   "source": [
    "The first row represents the classical class, the second row the rock class. The first column shows what the model predicted as classifical, and the second column what the model predicted as rock. This means the numbers along the diagonal of the matrix represent correct predictions. Here's what the matrix tells us:\n",
    " - top right: The model classified 9 classical files as classical (correct)\n",
    " - top left: The model classified 1 classical files as rock (mistakes)\n",
    " - bottom left: The model classified 0 rock files as classical (mistakes)\n",
    " - bottm right: The model classified 10 rock files as tock (correct)\n",
    " \n",
    "We can also visualize the confusion matrix in a slightly more visually informative way:"
   ]
  },
  {
   "cell_type": "code",
   "execution_count": null,
   "metadata": {
    "collapsed": false,
    "slideshow": {
     "slide_type": "slide"
    }
   },
   "outputs": [],
   "source": [
    "fig, ax = plt.subplots()\n",
    "ax.imshow(cm, interpolation='nearest', cmap='gray')\n",
    "for i, line in enumerate(cm):\n",
    "    for j, l in enumerate(line):\n",
    "        ax.text(j, i, l, size=20, color='green')\n",
    "ax.set_xticks(range(len(cm)))\n",
    "ax.set_xticklabels(labels)\n",
    "ax.set_yticks(range(len(cm)))\n",
    "ax.set_yticklabels(labels)\n",
    "ax.set_ylabel('True label')\n",
    "ax.set_xlabel('Predicted label')\n",
    "plt.show()"
   ]
  },
  {
   "cell_type": "markdown",
   "metadata": {
    "slideshow": {
     "slide_type": "slide"
    }
   },
   "source": [
    "Since in this example we have 2 classes (labels), the confusion matrix is 2x2. Furthermore, the confusions are fairly obvious, classical can only be confused with rock, and rock can only be confused with classical. However, when working on a multiclass problem (i.e. when there are more than 2 classes), the confusion matrix can be much more informative, as it tells us how much each class is confused with every other class. This can help us identify particularly problematic classes that are confused often, and help us figure out how to improve the model: are the classes well represented by the training data or do we need more data? Are the features that we're using sufficient for distinguishing between these classes, or do we need more/different features?"
   ]
  },
  {
   "cell_type": "markdown",
   "metadata": {},
   "source": [
    "### Random Forest Classifier without scaler"
   ]
  },
  {
   "cell_type": "code",
   "execution_count": 23,
   "metadata": {
    "collapsed": false
   },
   "outputs": [],
   "source": [
    "from sklearn.ensemble import RandomForestClassifier"
   ]
  },
  {
   "cell_type": "code",
   "execution_count": null,
   "metadata": {
    "collapsed": false
   },
   "outputs": [],
   "source": [
    "params = [10, 20, 50, 100, 120, 150]\n",
    "\n",
    "for estimators in params:\n",
    "    clf3 = RandomForestClassifier(n_estimators=estimators)\n",
    "\n",
    "    # Fit (=train) the model\n",
    "    clf3.fit(train_features, train_labels)\n",
    "    \n",
    "    # save the model to disk\n",
    "    filename = 'finalized_model_RF_'+str(estimators)+'.sav'\n",
    "    print (filename)\n",
    "    joblib.dump(clf3, filename)\n",
    "    \n",
    "    # Now lets predict the labels of the test data!\n",
    "    predictions = clf3.predict(test_features)\n",
    "    # We can use sklearn to compute the accuracy score\n",
    "    accuracy = sklearn.metrics.accuracy_score(test_labels, predictions)\n",
    "    print(accuracy)"
   ]
  },
  {
   "cell_type": "code",
   "execution_count": 59,
   "metadata": {
    "collapsed": false,
    "scrolled": true
   },
   "outputs": [
    {
     "data": {
      "text/plain": [
       "RandomForestClassifier(bootstrap=True, class_weight=None, criterion='gini',\n",
       "                       max_depth=None, max_features='auto', max_leaf_nodes=None,\n",
       "                       min_impurity_decrease=0.0, min_impurity_split=None,\n",
       "                       min_samples_leaf=1, min_samples_split=2,\n",
       "                       min_weight_fraction_leaf=0.0, n_estimators=100,\n",
       "                       n_jobs=None, oob_score=False, random_state=None,\n",
       "                       verbose=0, warm_start=False)"
      ]
     },
     "execution_count": 59,
     "metadata": {},
     "output_type": "execute_result"
    }
   ],
   "source": [
    "from sklearn.ensemble import RandomForestClassifier\n",
    "clf3 = RandomForestClassifier(n_estimators=100)\n",
    "\n",
    "# Fit (=train) the model\n",
    "clf3.fit(train_features, train_labels)"
   ]
  },
  {
   "cell_type": "markdown",
   "metadata": {
    "slideshow": {
     "slide_type": "slide"
    }
   },
   "source": [
    "<h2>Step 4: model evaluation Random Forest Classifier (testing)</h2>"
   ]
  },
  {
   "cell_type": "markdown",
   "metadata": {
    "slideshow": {
     "slide_type": "subslide"
    }
   },
   "source": [
    "Now we're going to test the model by using it to predict the class labels of the test data!"
   ]
  },
  {
   "cell_type": "code",
   "execution_count": 219,
   "metadata": {
    "collapsed": true,
    "slideshow": {
     "slide_type": "subslide"
    }
   },
   "outputs": [],
   "source": [
    "# Now lets predict the labels of the test data!\n",
    "predictions = clf3.predict(test_features)"
   ]
  },
  {
   "cell_type": "code",
   "execution_count": 220,
   "metadata": {
    "collapsed": true,
    "slideshow": {
     "slide_type": "subslide"
    }
   },
   "outputs": [],
   "source": [
    "proba = clf3.predict_proba(test_features[470:874])"
   ]
  },
  {
   "cell_type": "code",
   "execution_count": 221,
   "metadata": {
    "collapsed": true,
    "slideshow": {
     "slide_type": "subslide"
    }
   },
   "outputs": [
    {
     "data": {
      "text/plain": [
       "array([0.43      , 0.66      , 0.62      , 0.54      , 0.65      ,\n",
       "       0.53      , 0.55      , 0.58      , 0.47      , 0.49      ,\n",
       "       0.62      , 0.66      , 0.65      , 0.58      , 0.62      ,\n",
       "       0.52      , 0.55      , 0.67      , 0.56      , 0.51      ,\n",
       "       0.7       , 0.52      , 0.42      , 0.54      , 0.65      ,\n",
       "       0.74      , 0.77      , 0.57      , 0.64      , 0.67      ,\n",
       "       0.61      , 0.64      , 0.75      , 0.64      , 0.5       ,\n",
       "       0.25      , 0.22      , 0.23      , 0.27      , 0.39      ,\n",
       "       0.36      , 0.4       , 0.55      , 0.53      , 0.58      ,\n",
       "       0.63      , 0.59      , 0.6       , 0.59      , 0.62      ,\n",
       "       0.63      , 0.4       , 0.44      , 0.61      , 0.51      ,\n",
       "       0.19      , 0.21      , 0.29      , 0.55      , 0.63      ,\n",
       "       0.53      , 0.63      , 0.58      , 0.43      , 0.62      ,\n",
       "       0.63      , 0.65      , 0.49      , 0.41      , 0.27      ,\n",
       "       0.19      , 0.21      , 0.19      , 0.31      , 0.42      ,\n",
       "       0.33      , 0.31      , 0.4       , 0.37      , 0.47      ,\n",
       "       0.42      , 0.43      , 0.47      , 0.32      , 0.23      ,\n",
       "       0.42      , 0.47      , 0.59      , 0.26      , 0.22      ,\n",
       "       0.32      , 0.47      , 0.58      , 0.7       , 0.65      ,\n",
       "       0.69      , 0.52      , 0.53      , 0.59      , 0.52      ,\n",
       "       0.4       , 0.46      , 0.22      , 0.32      , 0.24      ,\n",
       "       0.32      , 0.23      , 0.29      , 0.27      , 0.49      ,\n",
       "       0.44      , 0.38      , 0.34      , 0.41      , 0.48      ,\n",
       "       0.38      , 0.39      , 0.55      , 0.6       , 0.47      ,\n",
       "       0.15      , 0.14      , 0.34      , 0.3       , 0.66      ,\n",
       "       0.6       , 0.57      , 0.69      , 0.59      , 0.62      ,\n",
       "       0.55      , 0.55      , 0.62      , 0.58      , 0.56      ,\n",
       "       0.43      , 0.59      , 0.6       , 0.46      , 0.55      ,\n",
       "       0.63      , 0.67      , 0.7       , 0.64      , 0.79      ,\n",
       "       0.74      , 0.49      , 0.36      , 0.41      , 0.51      ,\n",
       "       0.67      , 0.62      , 0.54      , 0.62      , 0.72      ,\n",
       "       0.71      , 0.63      , 0.58      , 0.73      , 0.69      ,\n",
       "       0.61      , 0.65      , 0.63      , 0.61      , 0.48      ,\n",
       "       0.27      , 0.27      , 0.38      , 0.4       , 0.45      ,\n",
       "       0.29      , 0.24      , 0.29      , 0.49      , 0.58      ,\n",
       "       0.62      , 0.66      , 0.59      , 0.57      , 0.56      ,\n",
       "       0.47      , 0.37      , 0.38      , 0.35      , 0.37      ,\n",
       "       0.34      , 0.26      , 0.32      , 0.46      , 0.54      ,\n",
       "       0.57      , 0.59      , 0.64      , 0.58      , 0.68      ,\n",
       "       0.67      , 0.45      , 0.3       , 0.26      , 0.25      ,\n",
       "       0.31      , 0.34      , 0.31      , 0.29      , 0.36      ,\n",
       "       0.36      , 0.26      , 0.17      , 0.25      , 0.38      ,\n",
       "       0.48      , 0.4       , 0.41      , 0.49      , 0.46      ,\n",
       "       0.29      , 0.33      , 0.28      , 0.23      , 0.32      ,\n",
       "       0.38      , 0.51      , 0.48      , 0.59      , 0.67      ,\n",
       "       0.68      , 0.6       , 0.57      , 0.52      , 0.33      ,\n",
       "       0.22      , 0.37      , 0.28      , 0.39      , 0.38      ,\n",
       "       0.35      , 0.39      , 0.36      , 0.35      , 0.25      ,\n",
       "       0.34      , 0.25      , 0.34      , 0.33      , 0.36      ,\n",
       "       0.49      , 0.41      , 0.25      , 0.34      , 0.35      ,\n",
       "       0.17      , 0.22      , 0.16      , 0.53      , 0.49      ,\n",
       "       0.34      , 0.6       , 0.74      , 0.53      , 0.5       ,\n",
       "       0.44      , 0.52      , 0.5       , 0.67      , 0.63      ,\n",
       "       0.6       , 0.44      , 0.58      , 0.58      , 0.58      ,\n",
       "       0.61      , 0.73      , 0.71      , 0.44      , 0.62      ,\n",
       "       0.57      , 0.49      , 0.39      , 0.45      , 0.63      ,\n",
       "       0.51      , 0.43      , 0.58      , 0.62      , 0.72      ,\n",
       "       0.66      , 0.6       , 0.54      , 0.63      , 0.55      ,\n",
       "       0.6       , 0.61      , 0.58      , 0.48      , 0.39      ,\n",
       "       0.4       , 0.46      , 0.49      , 0.41      , 0.34      ,\n",
       "       0.21      , 0.24      , 0.35      , 0.56      , 0.64      ,\n",
       "       0.7       , 0.63      , 0.55      , 0.63      , 0.52      ,\n",
       "       0.46      , 0.33      , 0.33      , 0.59      , 0.19      ,\n",
       "       0.27      , 0.28      , 0.28      , 0.39      , 0.53      ,\n",
       "       0.56      , 0.61      , 0.57      , 0.55      , 0.57      ,\n",
       "       0.63      , 0.34      , 0.43      , 0.19      , 0.11      ,\n",
       "       0.18      , 0.23      , 0.26      , 0.32      , 0.31      ,\n",
       "       0.37      , 0.6       , 0.35      , 0.34      , 0.48      ,\n",
       "       0.47      , 0.48      , 0.5       , 0.39      , 0.4       ,\n",
       "       0.37      , 0.29      , 0.17      , 0.16      , 0.31      ,\n",
       "       0.4       , 0.59      , 0.51      , 0.65      , 0.72      ,\n",
       "       0.69      , 0.67      , 0.58      , 0.36      , 0.41      ,\n",
       "       0.25      , 0.14      , 0.21      , 0.28      , 0.32      ,\n",
       "       0.32      , 0.43      , 0.37      , 0.49      , 0.46      ,\n",
       "       0.37      , 0.41      , 0.51      , 0.63      , 0.51      ,\n",
       "       0.42      , 0.47      , 0.44      , 0.39      , 0.2       ,\n",
       "       0.31      , 0.4       , 0.54      , 0.44      , 0.39      ,\n",
       "       0.57      , 0.65      , 0.7       , 0.56      , 0.55      ,\n",
       "       0.62      , 0.67      , 0.66      , 0.7       , 0.65      ,\n",
       "       0.74      , 0.84      , 0.89      , 0.95      , 0.98      ,\n",
       "       0.97      , 0.86992709, 0.86827761, 0.86827761])"
      ]
     },
     "execution_count": 221,
     "metadata": {},
     "output_type": "execute_result"
    }
   ],
   "source": [
    "proba.T[0]"
   ]
  },
  {
   "cell_type": "code",
   "execution_count": 222,
   "metadata": {},
   "outputs": [],
   "source": [
    "# Teste especifico para uma única música\n",
    "acima = proba.T[1][470:874]>0.80\n",
    "abaixo = proba.T[1][470:874]<0.50"
   ]
  },
  {
   "cell_type": "code",
   "execution_count": 223,
   "metadata": {},
   "outputs": [
    {
     "data": {
      "text/plain": [
       "array([0., 0., 0., 0., 0., 0., 0., 0., 0., 0., 0., 0., 0., 0., 0., 0., 0.,\n",
       "       0., 0., 0., 0., 0., 0., 0., 0., 0., 0., 0., 0., 0., 0., 0., 0., 0.,\n",
       "       0., 0., 0., 0., 0., 0., 0., 0., 0., 0., 0., 0., 0., 0., 0., 0., 0.,\n",
       "       0., 0., 0., 0., 0., 0., 0., 0., 0., 0., 0., 0., 0., 0., 0., 0., 0.,\n",
       "       0., 0., 0., 0., 0., 0., 0., 0., 0., 0., 0., 0., 0., 0., 0., 0., 0.,\n",
       "       0., 0., 0., 0., 0., 0., 0., 0., 0., 0., 0., 0., 0., 0., 0., 0., 0.,\n",
       "       0., 0.])"
      ]
     },
     "execution_count": 223,
     "metadata": {},
     "output_type": "execute_result"
    }
   ],
   "source": [
    "test_features[idx]"
   ]
  },
  {
   "cell_type": "code",
   "execution_count": 224,
   "metadata": {},
   "outputs": [],
   "source": [
    "new_voiced = []\n",
    "new_label = []\n",
    "for idx in range(len(acima)):\n",
    "    if acima[idx] == True:\n",
    "        new_voiced.append(test_features[idx])\n",
    "        new_label.append(1)\n",
    "    if abaixo[idx] == True:\n",
    "        new_voiced.append(test_features[idx])\n",
    "        new_label.append(0)"
   ]
  },
  {
   "cell_type": "code",
   "execution_count": 225,
   "metadata": {},
   "outputs": [
    {
     "data": {
      "text/plain": [
       "0"
      ]
     },
     "execution_count": 225,
     "metadata": {},
     "output_type": "execute_result"
    }
   ],
   "source": [
    "new_label.count(1)"
   ]
  },
  {
   "cell_type": "code",
   "execution_count": 226,
   "metadata": {},
   "outputs": [
    {
     "ename": "ValueError",
     "evalue": "Expected 2D array, got 1D array instead:\narray=[].\nReshape your data either using array.reshape(-1, 1) if your data has a single feature or array.reshape(1, -1) if it contains a single sample.",
     "output_type": "error",
     "traceback": [
      "\u001b[0;31m---------------------------------------------------------------------------\u001b[0m",
      "\u001b[0;31mValueError\u001b[0m                                Traceback (most recent call last)",
      "\u001b[0;32m<ipython-input-226-565c584d03ff>\u001b[0m in \u001b[0;36m<module>\u001b[0;34m\u001b[0m\n\u001b[1;32m      2\u001b[0m \u001b[0;34m\u001b[0m\u001b[0m\n\u001b[1;32m      3\u001b[0m \u001b[0;31m# Fit (=train) the model\u001b[0m\u001b[0;34m\u001b[0m\u001b[0;34m\u001b[0m\u001b[0;34m\u001b[0m\u001b[0m\n\u001b[0;32m----> 4\u001b[0;31m \u001b[0mbootstrap_rf\u001b[0m\u001b[0;34m.\u001b[0m\u001b[0mfit\u001b[0m\u001b[0;34m(\u001b[0m\u001b[0mnew_voiced\u001b[0m\u001b[0;34m,\u001b[0m \u001b[0mnew_label\u001b[0m\u001b[0;34m)\u001b[0m\u001b[0;34m\u001b[0m\u001b[0;34m\u001b[0m\u001b[0m\n\u001b[0m",
      "\u001b[0;32m~/anaconda3/lib/python3.7/site-packages/sklearn/ensemble/forest.py\u001b[0m in \u001b[0;36mfit\u001b[0;34m(self, X, y, sample_weight)\u001b[0m\n\u001b[1;32m    247\u001b[0m \u001b[0;34m\u001b[0m\u001b[0m\n\u001b[1;32m    248\u001b[0m         \u001b[0;31m# Validate or convert input data\u001b[0m\u001b[0;34m\u001b[0m\u001b[0;34m\u001b[0m\u001b[0;34m\u001b[0m\u001b[0m\n\u001b[0;32m--> 249\u001b[0;31m         \u001b[0mX\u001b[0m \u001b[0;34m=\u001b[0m \u001b[0mcheck_array\u001b[0m\u001b[0;34m(\u001b[0m\u001b[0mX\u001b[0m\u001b[0;34m,\u001b[0m \u001b[0maccept_sparse\u001b[0m\u001b[0;34m=\u001b[0m\u001b[0;34m\"csc\"\u001b[0m\u001b[0;34m,\u001b[0m \u001b[0mdtype\u001b[0m\u001b[0;34m=\u001b[0m\u001b[0mDTYPE\u001b[0m\u001b[0;34m)\u001b[0m\u001b[0;34m\u001b[0m\u001b[0;34m\u001b[0m\u001b[0m\n\u001b[0m\u001b[1;32m    250\u001b[0m         \u001b[0my\u001b[0m \u001b[0;34m=\u001b[0m \u001b[0mcheck_array\u001b[0m\u001b[0;34m(\u001b[0m\u001b[0my\u001b[0m\u001b[0;34m,\u001b[0m \u001b[0maccept_sparse\u001b[0m\u001b[0;34m=\u001b[0m\u001b[0;34m'csc'\u001b[0m\u001b[0;34m,\u001b[0m \u001b[0mensure_2d\u001b[0m\u001b[0;34m=\u001b[0m\u001b[0;32mFalse\u001b[0m\u001b[0;34m,\u001b[0m \u001b[0mdtype\u001b[0m\u001b[0;34m=\u001b[0m\u001b[0;32mNone\u001b[0m\u001b[0;34m)\u001b[0m\u001b[0;34m\u001b[0m\u001b[0;34m\u001b[0m\u001b[0m\n\u001b[1;32m    251\u001b[0m         \u001b[0;32mif\u001b[0m \u001b[0msample_weight\u001b[0m \u001b[0;32mis\u001b[0m \u001b[0;32mnot\u001b[0m \u001b[0;32mNone\u001b[0m\u001b[0;34m:\u001b[0m\u001b[0;34m\u001b[0m\u001b[0;34m\u001b[0m\u001b[0m\n",
      "\u001b[0;32m~/anaconda3/lib/python3.7/site-packages/sklearn/utils/validation.py\u001b[0m in \u001b[0;36mcheck_array\u001b[0;34m(array, accept_sparse, accept_large_sparse, dtype, order, copy, force_all_finite, ensure_2d, allow_nd, ensure_min_samples, ensure_min_features, warn_on_dtype, estimator)\u001b[0m\n\u001b[1;32m    519\u001b[0m                     \u001b[0;34m\"Reshape your data either using array.reshape(-1, 1) if \"\u001b[0m\u001b[0;34m\u001b[0m\u001b[0;34m\u001b[0m\u001b[0m\n\u001b[1;32m    520\u001b[0m                     \u001b[0;34m\"your data has a single feature or array.reshape(1, -1) \"\u001b[0m\u001b[0;34m\u001b[0m\u001b[0;34m\u001b[0m\u001b[0m\n\u001b[0;32m--> 521\u001b[0;31m                     \"if it contains a single sample.\".format(array))\n\u001b[0m\u001b[1;32m    522\u001b[0m \u001b[0;34m\u001b[0m\u001b[0m\n\u001b[1;32m    523\u001b[0m         \u001b[0;31m# in the future np.flexible dtypes will be handled like object dtypes\u001b[0m\u001b[0;34m\u001b[0m\u001b[0;34m\u001b[0m\u001b[0;34m\u001b[0m\u001b[0m\n",
      "\u001b[0;31mValueError\u001b[0m: Expected 2D array, got 1D array instead:\narray=[].\nReshape your data either using array.reshape(-1, 1) if your data has a single feature or array.reshape(1, -1) if it contains a single sample."
     ]
    }
   ],
   "source": [
    "bootstrap_rf = RandomForestClassifier(n_estimators=10)\n",
    "\n",
    "# Fit (=train) the model\n",
    "bootstrap_rf.fit(new_voiced, new_label)"
   ]
  },
  {
   "cell_type": "code",
   "execution_count": 227,
   "metadata": {},
   "outputs": [
    {
     "ename": "NotFittedError",
     "evalue": "This RandomForestClassifier instance is not fitted yet. Call 'fit' with appropriate arguments before using this method.",
     "output_type": "error",
     "traceback": [
      "\u001b[0;31m---------------------------------------------------------------------------\u001b[0m",
      "\u001b[0;31mNotFittedError\u001b[0m                            Traceback (most recent call last)",
      "\u001b[0;32m<ipython-input-227-581f7f2d6408>\u001b[0m in \u001b[0;36m<module>\u001b[0;34m\u001b[0m\n\u001b[1;32m      1\u001b[0m \u001b[0;31m# Now lets predict the labels of the test data!\u001b[0m\u001b[0;34m\u001b[0m\u001b[0;34m\u001b[0m\u001b[0;34m\u001b[0m\u001b[0m\n\u001b[0;32m----> 2\u001b[0;31m \u001b[0mproba2\u001b[0m \u001b[0;34m=\u001b[0m \u001b[0mbootstrap_rf\u001b[0m\u001b[0;34m.\u001b[0m\u001b[0mpredict_proba\u001b[0m\u001b[0;34m(\u001b[0m\u001b[0mtest_features\u001b[0m\u001b[0;34m)\u001b[0m\u001b[0;34m\u001b[0m\u001b[0;34m\u001b[0m\u001b[0m\n\u001b[0m",
      "\u001b[0;32m~/anaconda3/lib/python3.7/site-packages/sklearn/ensemble/forest.py\u001b[0m in \u001b[0;36mpredict_proba\u001b[0;34m(self, X)\u001b[0m\n\u001b[1;32m    584\u001b[0m             \u001b[0mclasses\u001b[0m \u001b[0mcorresponds\u001b[0m \u001b[0mto\u001b[0m \u001b[0mthat\u001b[0m \u001b[0;32min\u001b[0m \u001b[0mthe\u001b[0m \u001b[0mattribute\u001b[0m\u001b[0;31m \u001b[0m\u001b[0;31m`\u001b[0m\u001b[0mclasses_\u001b[0m\u001b[0;31m`\u001b[0m\u001b[0;34m.\u001b[0m\u001b[0;34m\u001b[0m\u001b[0;34m\u001b[0m\u001b[0m\n\u001b[1;32m    585\u001b[0m         \"\"\"\n\u001b[0;32m--> 586\u001b[0;31m         \u001b[0mcheck_is_fitted\u001b[0m\u001b[0;34m(\u001b[0m\u001b[0mself\u001b[0m\u001b[0;34m,\u001b[0m \u001b[0;34m'estimators_'\u001b[0m\u001b[0;34m)\u001b[0m\u001b[0;34m\u001b[0m\u001b[0;34m\u001b[0m\u001b[0m\n\u001b[0m\u001b[1;32m    587\u001b[0m         \u001b[0;31m# Check data\u001b[0m\u001b[0;34m\u001b[0m\u001b[0;34m\u001b[0m\u001b[0;34m\u001b[0m\u001b[0m\n\u001b[1;32m    588\u001b[0m         \u001b[0mX\u001b[0m \u001b[0;34m=\u001b[0m \u001b[0mself\u001b[0m\u001b[0;34m.\u001b[0m\u001b[0m_validate_X_predict\u001b[0m\u001b[0;34m(\u001b[0m\u001b[0mX\u001b[0m\u001b[0;34m)\u001b[0m\u001b[0;34m\u001b[0m\u001b[0;34m\u001b[0m\u001b[0m\n",
      "\u001b[0;32m~/anaconda3/lib/python3.7/site-packages/sklearn/utils/validation.py\u001b[0m in \u001b[0;36mcheck_is_fitted\u001b[0;34m(estimator, attributes, msg, all_or_any)\u001b[0m\n\u001b[1;32m    912\u001b[0m \u001b[0;34m\u001b[0m\u001b[0m\n\u001b[1;32m    913\u001b[0m     \u001b[0;32mif\u001b[0m \u001b[0;32mnot\u001b[0m \u001b[0mall_or_any\u001b[0m\u001b[0;34m(\u001b[0m\u001b[0;34m[\u001b[0m\u001b[0mhasattr\u001b[0m\u001b[0;34m(\u001b[0m\u001b[0mestimator\u001b[0m\u001b[0;34m,\u001b[0m \u001b[0mattr\u001b[0m\u001b[0;34m)\u001b[0m \u001b[0;32mfor\u001b[0m \u001b[0mattr\u001b[0m \u001b[0;32min\u001b[0m \u001b[0mattributes\u001b[0m\u001b[0;34m]\u001b[0m\u001b[0;34m)\u001b[0m\u001b[0;34m:\u001b[0m\u001b[0;34m\u001b[0m\u001b[0;34m\u001b[0m\u001b[0m\n\u001b[0;32m--> 914\u001b[0;31m         \u001b[0;32mraise\u001b[0m \u001b[0mNotFittedError\u001b[0m\u001b[0;34m(\u001b[0m\u001b[0mmsg\u001b[0m \u001b[0;34m%\u001b[0m \u001b[0;34m{\u001b[0m\u001b[0;34m'name'\u001b[0m\u001b[0;34m:\u001b[0m \u001b[0mtype\u001b[0m\u001b[0;34m(\u001b[0m\u001b[0mestimator\u001b[0m\u001b[0;34m)\u001b[0m\u001b[0;34m.\u001b[0m\u001b[0m__name__\u001b[0m\u001b[0;34m}\u001b[0m\u001b[0;34m)\u001b[0m\u001b[0;34m\u001b[0m\u001b[0;34m\u001b[0m\u001b[0m\n\u001b[0m\u001b[1;32m    915\u001b[0m \u001b[0;34m\u001b[0m\u001b[0m\n\u001b[1;32m    916\u001b[0m \u001b[0;34m\u001b[0m\u001b[0m\n",
      "\u001b[0;31mNotFittedError\u001b[0m: This RandomForestClassifier instance is not fitted yet. Call 'fit' with appropriate arguments before using this method."
     ]
    }
   ],
   "source": [
    "# Now lets predict the labels of the test data!\n",
    "proba2 = bootstrap_rf.predict_proba(test_features)"
   ]
  },
  {
   "cell_type": "code",
   "execution_count": 228,
   "metadata": {},
   "outputs": [
    {
     "data": {
      "image/png": "[encoded data removed]",
      "text/plain": [
       "<Figure size 864x216 with 1 Axes>"
      ]
     },
     "metadata": {},
     "output_type": "display_data"
    },
    {
     "data": {
      "image/png": "[encoded data removed]",
      "text/plain": [
       "<Figure size 864x216 with 1 Axes>"
      ]
     },
     "metadata": {},
     "output_type": "display_data"
    }
   ],
   "source": [
    "from scipy.signal import medfilt\n",
    "\n",
    "ker = 5\n",
    "res1 = medfilt(proba.T[1],ker)\n",
    "res2 = medfilt(proba2.T[1],ker)\n",
    "plt.figure(figsize=(12,3))\n",
    "plt.plot(proba.T[1][470:874])\n",
    "plt.plot(proba2.T[1][470:874])\n",
    "plt.show()\n",
    "plt.figure(figsize=(12,3))\n",
    "plt.plot(res1[470:874])\n",
    "plt.plot(res2[470:874])\n",
    "plt.plot(test_labels[470:874])\n",
    "plt.show()"
   ]
  },
  {
   "cell_type": "markdown",
   "metadata": {
    "slideshow": {
     "slide_type": "slide"
    }
   },
   "source": [
    "<h3>Model accuracy</h3>"
   ]
  },
  {
   "cell_type": "markdown",
   "metadata": {
    "slideshow": {
     "slide_type": "subslide"
    }
   },
   "source": [
    "How well did our model perform? The simplest statistic we can compute is the \"classification accuracy\": in the simplest case, this is the fraction of files in our test set that were classified correctly:"
   ]
  },
  {
   "cell_type": "code",
   "execution_count": 26,
   "metadata": {
    "collapsed": false,
    "slideshow": {
     "slide_type": "subslide"
    }
   },
   "outputs": [
    {
     "name": "stdout",
     "output_type": "stream",
     "text": [
      "0.8320408163265306\n"
     ]
    }
   ],
   "source": [
    "# We can use sklearn to compute the accuracy score\n",
    "accuracy = sklearn.metrics.accuracy_score(test_labels, predictions)\n",
    "print(accuracy)\n",
    "\n",
    "rforest_score = sklearn.metrics.f1_score(test_labels, predictions)"
   ]
  },
  {
   "cell_type": "markdown",
   "metadata": {
    "slideshow": {
     "slide_type": "slide"
    }
   },
   "source": [
    "<h3>Confusion matrix</h3>"
   ]
  },
  {
   "cell_type": "markdown",
   "metadata": {
    "slideshow": {
     "slide_type": "slide"
    }
   },
   "source": [
    "But the accuracy is only the tip of the iceberg! The model also made some mistakes - what got confused with what? To answer this we can plot the **confusion matrix**: the rows of the matrix represent the true label, and the columns represent the label predicted by the model:"
   ]
  },
  {
   "cell_type": "code",
   "execution_count": null,
   "metadata": {
    "collapsed": false,
    "slideshow": {
     "slide_type": "subslide"
    }
   },
   "outputs": [],
   "source": [
    "# lets compute the show the confusion matrix:\n",
    "cm = sklearn.metrics.confusion_matrix(test_labels, predictions)\n",
    "print(cm)"
   ]
  },
  {
   "cell_type": "code",
   "execution_count": null,
   "metadata": {
    "collapsed": false,
    "slideshow": {
     "slide_type": "slide"
    }
   },
   "outputs": [],
   "source": [
    "fig, ax = plt.subplots()\n",
    "ax.imshow(cm, interpolation='nearest', cmap='gray')\n",
    "for i, line in enumerate(cm):\n",
    "    for j, l in enumerate(line):\n",
    "        ax.text(j, i, l, size=20, color='green')\n",
    "ax.set_xticks(range(len(cm)))\n",
    "ax.set_xticklabels(labels)\n",
    "ax.set_yticks(range(len(cm)))\n",
    "ax.set_yticklabels(labels)\n",
    "ax.set_ylabel('True label')\n",
    "ax.set_xlabel('Predicted label')\n",
    "plt.show()"
   ]
  },
  {
   "cell_type": "markdown",
   "metadata": {},
   "source": [
    "### Testing with test set\n"
   ]
  },
  {
   "cell_type": "code",
   "execution_count": 25,
   "metadata": {
    "collapsed": false
   },
   "outputs": [
    {
     "name": "stdout",
     "output_type": "stream",
     "text": [
      "0.846128875183\n"
     ]
    }
   ],
   "source": [
    "# Load trained model (SVM)\n",
    "filename = 'finalized_model_SVM_0.1.sav' \n",
    "# load the model from disk\n",
    "clf = joblib.load(filename)\n",
    "\n",
    "# Now lets predict the labels of the test data!\n",
    "predictions = clf.predict(test_features_scaled)\n",
    "\n",
    "# We can use sklearn to compute the accuracy score\n",
    "accuracy = sklearn.metrics.accuracy_score(test_labels, predictions)\n",
    "print(accuracy)"
   ]
  },
  {
   "cell_type": "code",
   "execution_count": 36,
   "metadata": {
    "collapsed": false
   },
   "outputs": [
    {
     "name": "stdout",
     "output_type": "stream",
     "text": [
      "0.751287332647\n"
     ]
    }
   ],
   "source": [
    "# Load trained model (RF)\n",
    "filename = 'finalized_model_RF_500.sav' \n",
    "# load the model from disk\n",
    "clf3 = joblib.load(filename)\n",
    "\n",
    "# Now lets predict the labels of the test data!\n",
    "predictions = clf3.predict(test_features)\n",
    "# We can use sklearn to compute the accuracy score\n",
    "accuracy = sklearn.metrics.accuracy_score(test_labels, predictions)\n",
    "print(accuracy)"
   ]
  },
  {
   "cell_type": "code",
   "execution_count": 52,
   "metadata": {
    "collapsed": true
   },
   "outputs": [
    {
     "data": {
      "text/plain": [
       "[(0.5, 1)]"
      ]
     },
     "execution_count": 52,
     "metadata": {},
     "output_type": "execute_result"
    },
    {
     "data": {
      "image/png": "[encoded data removed]",
      "text/plain": [
       "<Figure size 432x288 with 1 Axes>"
      ]
     },
     "metadata": {},
     "output_type": "display_data"
    }
   ],
   "source": [
    "## Evaluation\n",
    "import seaborn as sns\n",
    "\n",
    "sns.set(style=\"whitegrid\")\n",
    "# axes = plt.gca()\n",
    "# axes.set_ylim([0.5,1])\n",
    "g = sns.barplot([\"Random\", \"Biased\", \"SVM\", \"Random Forests\"],[random_score, biased_score, svm_score, rforest_score])\n",
    "g.set(ylim=(.5, 1))\n",
    "# plt.grid()"
   ]
  },
  {
   "cell_type": "code",
   "execution_count": null,
   "metadata": {},
   "outputs": [],
   "source": []
  }
 ],
 "metadata": {
  "kernelspec": {
   "display_name": "Python 3",
   "language": "python",
   "name": "python3"
  },
  "language_info": {
   "codemirror_mode": {
    "name": "ipython",
    "version": 3
   },
   "file_extension": ".py",
   "mimetype": "text/x-python",
   "name": "python",
   "nbconvert_exporter": "python",
   "pygments_lexer": "ipython3",
   "version": "3.7.3"
  }
 },
 "nbformat": 4,
 "nbformat_minor": 2
}
